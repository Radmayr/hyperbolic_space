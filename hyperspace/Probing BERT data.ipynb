{
 "cells": [
  {
   "cell_type": "code",
   "execution_count": 1,
   "id": "59f65186",
   "metadata": {
    "scrolled": true
   },
   "outputs": [
    {
     "name": "stderr",
     "output_type": "stream",
     "text": [
      "D:\\Anaconda\\lib\\site-packages\\pandas\\core\\computation\\expressions.py:21: UserWarning: Pandas requires version '2.8.4' or newer of 'numexpr' (version '2.8.1' currently installed).\n",
      "  from pandas.core.computation.check import NUMEXPR_INSTALLED\n",
      "D:\\Anaconda\\lib\\site-packages\\pandas\\core\\arrays\\masked.py:60: UserWarning: Pandas requires version '1.3.6' or newer of 'bottleneck' (version '1.3.4' currently installed).\n",
      "  from pandas.core import (\n"
     ]
    }
   ],
   "source": [
    "import os\n",
    "import sys\n",
    "import pickle\n",
    "import math\n",
    "import time\n",
    "from argparse import ArgumentParser\n",
    "\n",
    "import torch as th\n",
    "import torch.nn as nn\n",
    "import torch.optim as optim\n",
    "import torch.utils as tutils\n",
    "from torch.optim import Adam\n",
    "from torch.optim.lr_scheduler import ReduceLROnPlateau\n",
    "from torch.utils.data import TensorDataset, DataLoader\n",
    "from transformers import BertModel, get_linear_schedule_with_warmup\n",
    "from torch.optim import AdamW\n",
    "from transformers import BertConfig\n",
    "import geoopt as gt\n",
    "\n",
    "from transformers import BertTokenizer\n",
    "from torch.utils.data import TensorDataset\n",
    "import os \n",
    "\n",
    "import numpy as np\n",
    "import pandas as pd \n",
    "from tqdm import tqdm"
   ]
  },
  {
   "cell_type": "code",
   "execution_count": 2,
   "id": "6adf58b5",
   "metadata": {},
   "outputs": [],
   "source": [
    "import re\n",
    "\n",
    "def preprocess_for_bert(text, max_length=512):\n",
    "    # Очистка текста\n",
    "    text = re.sub(r'<[^>]+>|https?://\\S+|www\\.\\S+|\\S+@\\S+', '', text)  # удаляем HTML, URL, email\n",
    "    text = re.sub(r'[^\\w\\sа-яА-ЯёЁ.,!?;:()\\-—\"«»]', '', text)  # удаляем мусорные символы\n",
    "    text = re.sub(r'\\s+', ' ', text).strip()  # нормализация пробелов\n",
    "    \n",
    "    return text"
   ]
  },
  {
   "cell_type": "code",
   "execution_count": 3,
   "id": "cc0efeaf",
   "metadata": {},
   "outputs": [],
   "source": [
    "from sklearn.model_selection import train_test_split"
   ]
  },
  {
   "cell_type": "code",
   "execution_count": 4,
   "id": "d490a277",
   "metadata": {},
   "outputs": [],
   "source": [
    "tokenizer = BertTokenizer.from_pretrained(\"bert-base-uncased\")"
   ]
  },
  {
   "cell_type": "code",
   "execution_count": 73,
   "id": "e69f7197",
   "metadata": {},
   "outputs": [],
   "source": [
    "def save_dataset(df_name, \n",
    "                 texts, \n",
    "                 labels, \n",
    "                 max_length=256):\n",
    "    tokenizer = BertTokenizer.from_pretrained(\"bert-base-uncased\")  # или ваша модель\n",
    "\n",
    "    # Токенизация\n",
    "    inputs = tokenizer(\n",
    "        texts,\n",
    "        padding=\"max_length\",  # или \"longest\" для динамического паддинга\n",
    "        truncation=True,\n",
    "        max_length=max_length,  # Максимальная длина для BERT\n",
    "        return_tensors=\"pt\",  # Возвращать тензоры PyTorch\n",
    "    )\n",
    "\n",
    "    # Тензоры из токенизатора + метки\n",
    "    dataset = TensorDataset(\n",
    "        inputs[\"input_ids\"],\n",
    "        inputs[\"token_type_ids\"],\n",
    "        inputs[\"attention_mask\"],\n",
    "        th.tensor(labels, dtype=th.long),  # Метки как тензор\n",
    "    )\n",
    "\n",
    "    analyze_sequence_lengths(np.array(dataset[:][0].detach()), padding_token_id=0)\n",
    "    \n",
    "    th.save(dataset, os.path.join('D:\\Data science\\Datasets\\masked_data', f\"{df_name}.pt\"))"
   ]
  },
  {
   "cell_type": "code",
   "execution_count": 72,
   "id": "65a299d2",
   "metadata": {},
   "outputs": [
    {
     "data": {
      "text/plain": [
       "array([[  101,  2149,  2331, ...,     0,     0,     0],\n",
       "       [  101,  2057,  2097, ...,     0,     0,     0],\n",
       "       [  101,  5785,  7597, ...,     0,     0,     0],\n",
       "       ...,\n",
       "       [  101,  1055,  8503, ...,     0,     0,     0],\n",
       "       [  101, 16716,  2015, ...,     0,     0,     0],\n",
       "       [  101, 13463,  2522, ...,     0,     0,     0]], dtype=int64)"
      ]
     },
     "execution_count": 72,
     "metadata": {},
     "output_type": "execute_result"
    }
   ],
   "source": [
    "np.array(dataset[:][0].detach())"
   ]
  },
  {
   "cell_type": "markdown",
   "id": "9a94c5f0",
   "metadata": {},
   "source": [
    "# Corona virus"
   ]
  },
  {
   "cell_type": "code",
   "execution_count": 10,
   "id": "18d193fb",
   "metadata": {},
   "outputs": [],
   "source": [
    "train = pd.read_csv(r'D:\\my_python_projects\\Probing BERT\\PoincareProbe\\SentimentProbe\\raw\\Corona_NLP_train.csv', \n",
    "           encoding='latin-1')"
   ]
  },
  {
   "cell_type": "code",
   "execution_count": 11,
   "id": "101b9b6f",
   "metadata": {},
   "outputs": [],
   "source": [
    "test = pd.read_csv(r'D:\\my_python_projects\\Probing BERT\\PoincareProbe\\SentimentProbe\\raw\\Corona_NLP_test.csv', \n",
    "           encoding='latin-1')"
   ]
  },
  {
   "cell_type": "code",
   "execution_count": 12,
   "id": "011f80e5",
   "metadata": {},
   "outputs": [],
   "source": [
    "train = train[train.Sentiment != 'Neutral'].sample(n=len(test), random_state=42)\n",
    "test = test[test.Sentiment != 'Neutral']"
   ]
  },
  {
   "cell_type": "code",
   "execution_count": 13,
   "id": "34b4b23c",
   "metadata": {},
   "outputs": [],
   "source": [
    "texts_train = train['OriginalTweet'].map(preprocess_for_bert).to_list()\n",
    "texts_test = test['OriginalTweet'].map(preprocess_for_bert).to_list()"
   ]
  },
  {
   "cell_type": "code",
   "execution_count": 14,
   "id": "8be76a4b",
   "metadata": {},
   "outputs": [],
   "source": [
    "mapping = {\n",
    "    'Extremely Negative': 0, \n",
    "    'Extremely Positive': 1, \n",
    "    'Negative': 0,\n",
    "    'Positive': 1\n",
    "}"
   ]
  },
  {
   "cell_type": "code",
   "execution_count": 15,
   "id": "db7dd57a",
   "metadata": {},
   "outputs": [],
   "source": [
    "labels_train = train['Sentiment'].map(mapping).to_list()\n",
    "labels_test = test['Sentiment'].map(mapping).to_list()"
   ]
  },
  {
   "cell_type": "code",
   "execution_count": 45,
   "id": "5f9d233b",
   "metadata": {},
   "outputs": [],
   "source": [
    "def create_df(texts_train, labels_train, texts_test, labels_test):\n",
    "    train_final = pd.DataFrame({'text': texts_train, \n",
    "                  'label': map(lambda x : 'Positive' if x == 1 else 'Negative', labels_train), \n",
    "                  'sample': ['train']*len(labels_train)})\n",
    "    test_final = pd.DataFrame({'text': texts_test, \n",
    "                  'label': map(lambda x : 'Positive' if x == 1 else 'Negative', labels_test), \n",
    "                  'sample': ['test']*len(labels_test)})\n",
    "    \n",
    "    return pd.concat([train_final, test_final])"
   ]
  },
  {
   "cell_type": "code",
   "execution_count": 46,
   "id": "aa5538d4",
   "metadata": {},
   "outputs": [],
   "source": [
    "metric_df = create_df(texts_train, labels_train, texts_test, labels_test)"
   ]
  },
  {
   "cell_type": "code",
   "execution_count": 16,
   "id": "ccc825e4",
   "metadata": {},
   "outputs": [],
   "source": [
    "from transformers import BertTokenizer\n",
    "import torch as th\n",
    "from torch.utils.data import TensorDataset\n",
    "import os "
   ]
  },
  {
   "cell_type": "code",
   "execution_count": 17,
   "id": "c021da7c",
   "metadata": {},
   "outputs": [],
   "source": [
    "import os "
   ]
  },
  {
   "cell_type": "code",
   "execution_count": 18,
   "id": "0705bc04",
   "metadata": {},
   "outputs": [
    {
     "name": "stdout",
     "output_type": "stream",
     "text": [
      "3798 3179\n"
     ]
    }
   ],
   "source": [
    "print(len(labels_train), len(labels_test))"
   ]
  },
  {
   "cell_type": "code",
   "execution_count": null,
   "id": "106c5e89",
   "metadata": {},
   "outputs": [],
   "source": [
    "import numpy as np\n",
    "import matplotlib.pyplot as plt\n",
    "import seaborn as sns\n",
    "from collections import Counter\n",
    "\n",
    "def analyze_sequence_lengths(token_ids, padding_token_id=0, sample=None):\n",
    "    \"\"\"\n",
    "    Анализирует распределение длины последовательностей токенов\n",
    "    \n",
    "    Параметры:\n",
    "        token_ids: список списков токенов (подготовленные ID для BERT)\n",
    "        padding_token_id: ID токена паддинга (по умолчанию 0)\n",
    "    \"\"\"\n",
    "    # Вычисляем длины последовательностей без паддинга\n",
    "    seq_lengths = []\n",
    "    for seq in token_ids:\n",
    "        # Удаляем паддинг (токены с padding_token_id)\n",
    "        actual_tokens = [token for token in seq if token != padding_token_id]\n",
    "        seq_lengths.append(len(actual_tokens))\n",
    "    \n",
    "    general_metrics = [np.mean(seq_lengths), np.median(seq_lengths), \n",
    "                       np.std(seq_lengths), np.min(seq_lengths), \n",
    "                       np.max(seq_lengths)]\n",
    "    # Основные статистики\n",
    "#     print(f\"Средняя длина последовательности: {np.mean(seq_lengths):.1f} токенов\")\n",
    "#     print(f\"Медианная длина: {np.median(seq_lengths):.1f} токенов\")\n",
    "#     print(f\"Минимальная длина: {np.min(seq_lengths)} токенов\")\n",
    "#     print(f\"Максимальная длина: {np.max(seq_lengths)} токенов\")\n",
    "#     print(f\"Стандартное отклонение: {np.std(seq_lengths):.1f}\")\n",
    "    \n",
    "    # Визуализация распределения\n",
    "    plt.figure(figsize=(12, 6))\n",
    "    \n",
    "    # Гистограмма\n",
    "    plt.subplot(1, 2, 1)\n",
    "    sns.histplot(seq_lengths, bins=30)\n",
    "    plt.title(f'Распределение длины последовательностей ({sample})')\n",
    "    plt.xlabel('Количество токенов')\n",
    "    plt.ylabel('Частота')\n",
    "    \n",
    "    # Boxplot\n",
    "    plt.subplot(1, 2, 2)\n",
    "    sns.boxplot(x=seq_lengths)\n",
    "    plt.title(f'Boxplot ({sample})')\n",
    "    plt.xlabel('Количество токенов')\n",
    "    \n",
    "    plt.tight_layout()\n",
    "    plt.show()\n",
    "    \n",
    "    return general_metrics"
   ]
  },
  {
   "cell_type": "code",
   "execution_count": 110,
   "id": "5721678b",
   "metadata": {},
   "outputs": [
    {
     "data": {
      "image/png": "[encoded data removed]",
      "text/plain": [
       "<Figure size 504x360 with 1 Axes>"
      ]
     },
     "metadata": {
      "needs_background": "light"
     },
     "output_type": "display_data"
    },
    {
     "data": {
      "image/png": "[encoded data removed]",
      "text/plain": [
       "<Figure size 864x432 with 2 Axes>"
      ]
     },
     "metadata": {
      "needs_background": "light"
     },
     "output_type": "display_data"
    },
    {
     "data": {
      "image/png": "[encoded data removed]",
      "text/plain": [
       "<Figure size 864x432 with 2 Axes>"
      ]
     },
     "metadata": {
      "needs_background": "light"
     },
     "output_type": "display_data"
    },
    {
     "data": {
      "text/plain": [
       "([45.17482885729331, 47.0, 15.229713011391977, 5, 128],\n",
       " [49.25511167033658, 51.0, 14.633383909455427, 4, 109])"
      ]
     },
     "execution_count": 110,
     "metadata": {},
     "output_type": "execute_result"
    }
   ],
   "source": [
    "import matplotlib.pyplot as plt\n",
    "import seaborn as sns\n",
    "\n",
    "def show_metrics(df, dataset_name, max_length):\n",
    "    \n",
    "    group_data = df.groupby(['label', 'sample'], as_index=False).agg(count=('text', 'count'))\n",
    "\n",
    "    plt.figure(figsize=(7, 5))\n",
    "    sns.barplot(data=group_data,\n",
    "                x='sample', \n",
    "                y='count',\n",
    "                hue='label')\n",
    "    plt.title(dataset_name)\n",
    "    plt.show()\n",
    "    \n",
    "    inputs = tokenizer(\n",
    "        df[df['sample'] == 'train']['text'].to_list(),\n",
    "        padding=\"max_length\",  # или \"longest\" для динамического паддинга\n",
    "        truncation=True,\n",
    "        max_length=max_length,  # Максимальная длина для BERT\n",
    "        return_tensors=\"pt\",  # Возвращать тензоры PyTorch\n",
    "    )\n",
    "\n",
    "    # Тензоры из токенизатора + метки\n",
    "    dataset = TensorDataset(\n",
    "        inputs[\"input_ids\"],\n",
    "        inputs[\"token_type_ids\"],\n",
    "        inputs[\"attention_mask\"],\n",
    "        th.tensor(labels_train, dtype=th.long),  # Метки как тензор\n",
    "    )\n",
    "    \n",
    "    gen_metrics_train = analyze_sequence_lengths(np.array(dataset[:][0].detach()), padding_token_id=0, sample='train')\n",
    "    \n",
    "    inputs = tokenizer(\n",
    "        df[df['sample'] == 'test']['text'].to_list(),\n",
    "        padding=\"max_length\",  # или \"longest\" для динамического паддинга\n",
    "        truncation=True,\n",
    "        max_length=max_length,  # Максимальная длина для BERT\n",
    "        return_tensors=\"pt\",  # Возвращать тензоры PyTorch\n",
    "    )\n",
    "\n",
    "    # Тензоры из токенизатора + метки\n",
    "    dataset = TensorDataset(\n",
    "        inputs[\"input_ids\"],\n",
    "        inputs[\"token_type_ids\"],\n",
    "        inputs[\"attention_mask\"],\n",
    "        th.tensor(labels_test, dtype=th.long),  # Метки как тензор\n",
    "    )\n",
    "    \n",
    "    gen_metrics_test = analyze_sequence_lengths(np.array(dataset[:][0].detach()), padding_token_id=0, sample='test')\n",
    "    \n",
    "    return (gen_metrics_train, gen_metrics_test)\n",
    "\n",
    "show_metrics(metric_df, 'Corona', max_length=128)"
   ]
  },
  {
   "cell_type": "code",
   "execution_count": null,
   "id": "ea93a305",
   "metadata": {},
   "outputs": [],
   "source": []
  },
  {
   "cell_type": "code",
   "execution_count": 99,
   "id": "c6981666",
   "metadata": {
    "scrolled": true
   },
   "outputs": [
    {
     "name": "stdout",
     "output_type": "stream",
     "text": [
      "Средняя длина последовательности: 45.2 токенов\n",
      "Медианная длина: 47.0 токенов\n",
      "Минимальная длина: 5 токенов\n",
      "Максимальная длина: 128 токенов\n",
      "Стандартное отклонение: 15.2\n"
     ]
    },
    {
     "data": {
      "image/png": "[encoded data removed]",
      "text/plain": [
       "<Figure size 864x432 with 2 Axes>"
      ]
     },
     "metadata": {
      "needs_background": "light"
     },
     "output_type": "display_data"
    },
    {
     "name": "stdout",
     "output_type": "stream",
     "text": [
      "\n",
      "Частоты встречаемости длин:\n",
      "5 токенов: 2 примеров (0.1%)\n",
      "7 токенов: 1 примеров (0.0%)\n",
      "8 токенов: 10 примеров (0.3%)\n",
      "9 токенов: 8 примеров (0.2%)\n",
      "10 токенов: 9 примеров (0.2%)\n",
      "11 токенов: 13 примеров (0.3%)\n",
      "12 токенов: 7 примеров (0.2%)\n",
      "13 токенов: 16 примеров (0.4%)\n",
      "14 токенов: 20 примеров (0.5%)\n",
      "15 токенов: 22 примеров (0.6%)\n",
      "16 токенов: 27 примеров (0.7%)\n",
      "17 токенов: 20 примеров (0.5%)\n",
      "18 токенов: 30 примеров (0.8%)\n",
      "19 токенов: 39 примеров (1.0%)\n",
      "20 токенов: 38 примеров (1.0%)\n",
      "21 токенов: 34 примеров (0.9%)\n",
      "22 токенов: 38 примеров (1.0%)\n",
      "23 токенов: 49 примеров (1.3%)\n",
      "24 токенов: 44 примеров (1.2%)\n",
      "25 токенов: 49 примеров (1.3%)\n",
      "26 токенов: 50 примеров (1.3%)\n",
      "27 токенов: 56 примеров (1.5%)\n",
      "28 токенов: 43 примеров (1.1%)\n",
      "29 токенов: 56 примеров (1.5%)\n",
      "30 токенов: 66 примеров (1.7%)\n",
      "31 токенов: 63 примеров (1.7%)\n",
      "32 токенов: 46 примеров (1.2%)\n",
      "33 токенов: 73 примеров (1.9%)\n",
      "34 токенов: 53 примеров (1.4%)\n",
      "35 токенов: 79 примеров (2.1%)\n",
      "36 токенов: 65 примеров (1.7%)\n",
      "37 токенов: 81 примеров (2.1%)\n",
      "38 токенов: 51 примеров (1.3%)\n",
      "39 токенов: 71 примеров (1.9%)\n",
      "40 токенов: 78 примеров (2.1%)\n",
      "41 токенов: 88 примеров (2.3%)\n",
      "42 токенов: 57 примеров (1.5%)\n",
      "43 токенов: 66 примеров (1.7%)\n",
      "44 токенов: 71 примеров (1.9%)\n",
      "45 токенов: 93 примеров (2.4%)\n",
      "46 токенов: 88 примеров (2.3%)\n",
      "47 токенов: 103 примеров (2.7%)\n",
      "48 токенов: 74 примеров (1.9%)\n",
      "49 токенов: 72 примеров (1.9%)\n",
      "50 токенов: 101 примеров (2.7%)\n",
      "51 токенов: 99 примеров (2.6%)\n",
      "52 токенов: 84 примеров (2.2%)\n",
      "53 токенов: 93 примеров (2.4%)\n",
      "54 токенов: 104 примеров (2.7%)\n",
      "55 токенов: 94 примеров (2.5%)\n",
      "56 токенов: 80 примеров (2.1%)\n",
      "57 токенов: 101 примеров (2.7%)\n",
      "58 токенов: 90 примеров (2.4%)\n",
      "59 токенов: 98 примеров (2.6%)\n",
      "60 токенов: 104 примеров (2.7%)\n",
      "61 токенов: 90 примеров (2.4%)\n",
      "62 токенов: 75 примеров (2.0%)\n",
      "63 токенов: 65 примеров (1.7%)\n",
      "64 токенов: 74 примеров (1.9%)\n",
      "65 токенов: 61 примеров (1.6%)\n",
      "66 токенов: 53 примеров (1.4%)\n",
      "67 токенов: 49 примеров (1.3%)\n",
      "68 токенов: 36 примеров (0.9%)\n",
      "69 токенов: 31 примеров (0.8%)\n",
      "70 токенов: 13 примеров (0.3%)\n",
      "71 токенов: 10 примеров (0.3%)\n",
      "72 токенов: 17 примеров (0.4%)\n",
      "73 токенов: 11 примеров (0.3%)\n",
      "74 токенов: 9 примеров (0.2%)\n",
      "75 токенов: 6 примеров (0.2%)\n",
      "76 токенов: 11 примеров (0.3%)\n",
      "77 токенов: 6 примеров (0.2%)\n",
      "78 токенов: 6 примеров (0.2%)\n",
      "79 токенов: 4 примеров (0.1%)\n",
      "81 токенов: 1 примеров (0.0%)\n",
      "82 токенов: 1 примеров (0.0%)\n",
      "95 токенов: 1 примеров (0.0%)\n",
      "128 токенов: 1 примеров (0.0%)\n"
     ]
    }
   ],
   "source": [
    "save_dataset('train_dataset', \n",
    "                 texts_train, \n",
    "                 labels_train, \n",
    "                 max_length=128)"
   ]
  },
  {
   "cell_type": "code",
   "execution_count": 100,
   "id": "6c2ebcb5",
   "metadata": {},
   "outputs": [
    {
     "name": "stdout",
     "output_type": "stream",
     "text": [
      "Средняя длина последовательности: 49.3 токенов\n",
      "Медианная длина: 51.0 токенов\n",
      "Минимальная длина: 4 токенов\n",
      "Максимальная длина: 109 токенов\n",
      "Стандартное отклонение: 14.6\n"
     ]
    },
    {
     "data": {
      "image/png": "[encoded data removed]",
      "text/plain": [
       "<Figure size 864x432 with 2 Axes>"
      ]
     },
     "metadata": {
      "needs_background": "light"
     },
     "output_type": "display_data"
    },
    {
     "name": "stdout",
     "output_type": "stream",
     "text": [
      "\n",
      "Частоты встречаемости длин:\n",
      "4 токенов: 1 примеров (0.0%)\n",
      "8 токенов: 2 примеров (0.1%)\n",
      "9 токенов: 1 примеров (0.0%)\n",
      "10 токенов: 1 примеров (0.0%)\n",
      "11 токенов: 2 примеров (0.1%)\n",
      "12 токенов: 2 примеров (0.1%)\n",
      "13 токенов: 6 примеров (0.2%)\n",
      "14 токенов: 5 примеров (0.2%)\n",
      "15 токенов: 9 примеров (0.3%)\n",
      "16 токенов: 16 примеров (0.5%)\n",
      "17 токенов: 12 примеров (0.4%)\n",
      "18 токенов: 10 примеров (0.3%)\n",
      "19 токенов: 21 примеров (0.7%)\n",
      "20 токенов: 15 примеров (0.5%)\n",
      "21 токенов: 23 примеров (0.7%)\n",
      "22 токенов: 27 примеров (0.8%)\n",
      "23 токенов: 23 примеров (0.7%)\n",
      "24 токенов: 26 примеров (0.8%)\n",
      "25 токенов: 20 примеров (0.6%)\n",
      "26 токенов: 37 примеров (1.2%)\n",
      "27 токенов: 31 примеров (1.0%)\n",
      "28 токенов: 33 примеров (1.0%)\n",
      "29 токенов: 42 примеров (1.3%)\n",
      "30 токенов: 37 примеров (1.2%)\n",
      "31 токенов: 47 примеров (1.5%)\n",
      "32 токенов: 38 примеров (1.2%)\n",
      "33 токенов: 48 примеров (1.5%)\n",
      "34 токенов: 47 примеров (1.5%)\n",
      "35 токенов: 41 примеров (1.3%)\n",
      "36 токенов: 48 примеров (1.5%)\n",
      "37 токенов: 52 примеров (1.6%)\n",
      "38 токенов: 34 примеров (1.1%)\n",
      "39 токенов: 69 примеров (2.2%)\n",
      "40 токенов: 48 примеров (1.5%)\n",
      "41 токенов: 65 примеров (2.0%)\n",
      "42 токенов: 73 примеров (2.3%)\n",
      "43 токенов: 63 примеров (2.0%)\n",
      "44 токенов: 66 примеров (2.1%)\n",
      "45 токенов: 59 примеров (1.9%)\n",
      "46 токенов: 68 примеров (2.1%)\n",
      "47 токенов: 66 примеров (2.1%)\n",
      "48 токенов: 70 примеров (2.2%)\n",
      "49 токенов: 68 примеров (2.1%)\n",
      "50 токенов: 83 примеров (2.6%)\n",
      "51 токенов: 60 примеров (1.9%)\n",
      "52 токенов: 77 примеров (2.4%)\n",
      "53 токенов: 85 примеров (2.7%)\n",
      "54 токенов: 77 примеров (2.4%)\n",
      "55 токенов: 67 примеров (2.1%)\n",
      "56 токенов: 98 примеров (3.1%)\n",
      "57 токенов: 87 примеров (2.7%)\n",
      "58 токенов: 87 примеров (2.7%)\n",
      "59 токенов: 86 примеров (2.7%)\n",
      "60 токенов: 91 примеров (2.9%)\n",
      "61 токенов: 97 примеров (3.1%)\n",
      "62 токенов: 87 примеров (2.7%)\n",
      "63 токенов: 95 примеров (3.0%)\n",
      "64 токенов: 69 примеров (2.2%)\n",
      "65 токенов: 80 примеров (2.5%)\n",
      "66 токенов: 56 примеров (1.8%)\n",
      "67 токенов: 51 примеров (1.6%)\n",
      "68 токенов: 53 примеров (1.7%)\n",
      "69 токенов: 42 примеров (1.3%)\n",
      "70 токенов: 33 примеров (1.0%)\n",
      "71 токенов: 24 примеров (0.8%)\n",
      "72 токенов: 27 примеров (0.8%)\n",
      "73 токенов: 21 примеров (0.7%)\n",
      "74 токенов: 17 примеров (0.5%)\n",
      "75 токенов: 19 примеров (0.6%)\n",
      "76 токенов: 11 примеров (0.3%)\n",
      "77 токенов: 8 примеров (0.3%)\n",
      "78 токенов: 8 примеров (0.3%)\n",
      "79 токенов: 3 примеров (0.1%)\n",
      "81 токенов: 1 примеров (0.0%)\n",
      "82 токенов: 1 примеров (0.0%)\n",
      "83 токенов: 1 примеров (0.0%)\n",
      "85 токенов: 1 примеров (0.0%)\n",
      "86 токенов: 1 примеров (0.0%)\n",
      "91 токенов: 1 примеров (0.0%)\n",
      "108 токенов: 1 примеров (0.0%)\n",
      "109 токенов: 1 примеров (0.0%)\n"
     ]
    }
   ],
   "source": [
    "save_dataset('test_dataset', \n",
    "                 texts_test, \n",
    "                 labels_test, \n",
    "                 max_length=128)"
   ]
  },
  {
   "cell_type": "markdown",
   "id": "745556b0",
   "metadata": {},
   "source": [
    "# Tweet sentiment"
   ]
  },
  {
   "cell_type": "code",
   "execution_count": 209,
   "id": "ebd53225",
   "metadata": {},
   "outputs": [],
   "source": [
    "train = pd.read_csv(r'D:\\Data science\\Datasets\\twitter_training.csv', \n",
    "           encoding='latin-1', header=None).rename(columns={0: 'code', \n",
    "                                                            1: 'hui', \n",
    "                                                            2: 'Sentiment', \n",
    "                                                            3: 'OriginalTweet', \n",
    "                                                            })"
   ]
  },
  {
   "cell_type": "code",
   "execution_count": 210,
   "id": "1e0fd865",
   "metadata": {},
   "outputs": [],
   "source": [
    "test = pd.read_csv(r'D:\\Data science\\Datasets\\twitter_validation.csv', \n",
    "           encoding='latin-1', header=None).rename(columns={0: 'code', \n",
    "                                                            1: 'hui', \n",
    "                                                            2: 'Sentiment', \n",
    "                                                            3: 'OriginalTweet', \n",
    "                                                            })"
   ]
  },
  {
   "cell_type": "code",
   "execution_count": 211,
   "id": "329ed98e",
   "metadata": {},
   "outputs": [
    {
     "name": "stderr",
     "output_type": "stream",
     "text": [
      "C:\\Users\\PC\\AppData\\Local\\Temp\\ipykernel_14264\\1416843924.py:1: UserWarning: Boolean Series key will be reindexed to match DataFrame index.\n",
      "  dop_test = train[train.Sentiment.isin(['Positive', 'Negative'])][~train['OriginalTweet'].isna()].iloc[-3000:]\n",
      "C:\\Users\\PC\\AppData\\Local\\Temp\\ipykernel_14264\\1416843924.py:2: UserWarning: Boolean Series key will be reindexed to match DataFrame index.\n",
      "  train = train[train.Sentiment.isin(['Positive', 'Negative'])][~train['OriginalTweet'].isna()].iloc[:-3000].sample(n=3543,\n",
      "C:\\Users\\PC\\AppData\\Local\\Temp\\ipykernel_14264\\1416843924.py:4: UserWarning: Boolean Series key will be reindexed to match DataFrame index.\n",
      "  test = test[test.Sentiment.isin(['Positive', 'Negative'])][~test['OriginalTweet'].isna()]\n"
     ]
    }
   ],
   "source": [
    "dop_test = train[train.Sentiment.isin(['Positive', 'Negative'])][~train['OriginalTweet'].isna()].iloc[-3000:]\n",
    "train = train[train.Sentiment.isin(['Positive', 'Negative'])][~train['OriginalTweet'].isna()].iloc[:-3000].sample(n=3543, \n",
    "                                                                                                                  random_state=42)\n",
    "test = test[test.Sentiment.isin(['Positive', 'Negative'])][~test['OriginalTweet'].isna()]\n",
    "test = pd.concat([test, dop_test])"
   ]
  },
  {
   "cell_type": "code",
   "execution_count": 212,
   "id": "884ec5f3",
   "metadata": {},
   "outputs": [],
   "source": [
    "texts_train = train['OriginalTweet'].map(preprocess_for_bert).to_list()\n",
    "texts_test = test['OriginalTweet'].map(preprocess_for_bert).to_list()"
   ]
  },
  {
   "cell_type": "code",
   "execution_count": 213,
   "id": "4ec90a3d",
   "metadata": {},
   "outputs": [],
   "source": [
    "mapping = {\n",
    "    'Extremely Negative': 0, \n",
    "    'Extremely Positive': 1, \n",
    "    'Negative': 0,\n",
    "    'Positive': 1\n",
    "}"
   ]
  },
  {
   "cell_type": "code",
   "execution_count": 214,
   "id": "b8974c66",
   "metadata": {},
   "outputs": [],
   "source": [
    "labels_train = train['Sentiment'].map(mapping).to_list()\n",
    "labels_test = test['Sentiment'].map(mapping).to_list()"
   ]
  },
  {
   "cell_type": "code",
   "execution_count": 215,
   "id": "f0be33eb",
   "metadata": {},
   "outputs": [
    {
     "name": "stdout",
     "output_type": "stream",
     "text": [
      "3543 3543\n"
     ]
    }
   ],
   "source": [
    "print(len(labels_train), len(labels_test))"
   ]
  },
  {
   "cell_type": "code",
   "execution_count": 216,
   "id": "454c2bd1",
   "metadata": {},
   "outputs": [
    {
     "data": {
      "image/png": "[encoded data removed]",
      "text/plain": [
       "<Figure size 504x360 with 1 Axes>"
      ]
     },
     "metadata": {
      "needs_background": "light"
     },
     "output_type": "display_data"
    },
    {
     "data": {
      "image/png": "[encoded data removed]",
      "text/plain": [
       "<Figure size 864x432 with 2 Axes>"
      ]
     },
     "metadata": {
      "needs_background": "light"
     },
     "output_type": "display_data"
    },
    {
     "data": {
      "image/png": "[encoded data removed]",
      "text/plain": [
       "<Figure size 864x432 with 2 Axes>"
      ]
     },
     "metadata": {
      "needs_background": "light"
     },
     "output_type": "display_data"
    },
    {
     "data": {
      "text/plain": [
       "([27.75952582557155, 23.0, 19.683102696315636, 2, 128],\n",
       " [31.19023426474739, 28.0, 20.391357146148973, 2, 128])"
      ]
     },
     "execution_count": 216,
     "metadata": {},
     "output_type": "execute_result"
    }
   ],
   "source": [
    "metric_df = create_df(texts_train, labels_train, texts_test, labels_test)\n",
    "show_metrics(metric_df, 'Twitter', max_length=128)"
   ]
  },
  {
   "cell_type": "code",
   "execution_count": null,
   "id": "892982a7",
   "metadata": {},
   "outputs": [],
   "source": []
  },
  {
   "cell_type": "code",
   "execution_count": 71,
   "id": "18a63197",
   "metadata": {},
   "outputs": [],
   "source": [
    "save_dataset('Train_twtter', \n",
    "                 texts_train, \n",
    "                 labels_train, \n",
    "                 max_length=256)"
   ]
  },
  {
   "cell_type": "code",
   "execution_count": 72,
   "id": "b6e72cba",
   "metadata": {},
   "outputs": [],
   "source": [
    "save_dataset('Test_twtter', \n",
    "                 texts_test, \n",
    "                 labels_test, \n",
    "                 max_length=256)"
   ]
  },
  {
   "cell_type": "code",
   "execution_count": 73,
   "id": "5e7abed5",
   "metadata": {},
   "outputs": [],
   "source": [
    "inputs = tokenizer(\n",
    "    texts_train,\n",
    "    padding=\"max_length\",  # или \"longest\" для динамического паддинга\n",
    "    truncation=True,\n",
    "    max_length=256,  # Максимальная длина для BERT\n",
    "    return_tensors=\"pt\",  # Возвращать тензоры PyTorch\n",
    ")"
   ]
  },
  {
   "cell_type": "code",
   "execution_count": 74,
   "id": "76108bdb",
   "metadata": {},
   "outputs": [
    {
     "data": {
      "text/plain": [
       "torch.Size([3543, 256])"
      ]
     },
     "execution_count": 74,
     "metadata": {},
     "output_type": "execute_result"
    }
   ],
   "source": [
    "inputs['input_ids'].shape"
   ]
  },
  {
   "cell_type": "markdown",
   "id": "c078f02f",
   "metadata": {},
   "source": [
    "# Financial sentiment"
   ]
  },
  {
   "cell_type": "code",
   "execution_count": 222,
   "id": "fe2addb7",
   "metadata": {},
   "outputs": [],
   "source": [
    "data = pd.read_csv(r'D:\\Data science\\Datasets\\data.csv', \n",
    "           encoding='latin-1')"
   ]
  },
  {
   "cell_type": "code",
   "execution_count": 223,
   "id": "e906d8db",
   "metadata": {
    "scrolled": true
   },
   "outputs": [
    {
     "data": {
      "text/html": [
       "<div>\n",
       "<style scoped>\n",
       "    .dataframe tbody tr th:only-of-type {\n",
       "        vertical-align: middle;\n",
       "    }\n",
       "\n",
       "    .dataframe tbody tr th {\n",
       "        vertical-align: top;\n",
       "    }\n",
       "\n",
       "    .dataframe thead th {\n",
       "        text-align: right;\n",
       "    }\n",
       "</style>\n",
       "<table border=\"1\" class=\"dataframe\">\n",
       "  <thead>\n",
       "    <tr style=\"text-align: right;\">\n",
       "      <th></th>\n",
       "      <th>Sentence</th>\n",
       "      <th>Sentiment</th>\n",
       "    </tr>\n",
       "  </thead>\n",
       "  <tbody>\n",
       "    <tr>\n",
       "      <th>0</th>\n",
       "      <td>The GeoSolutions technology will leverage Bene...</td>\n",
       "      <td>positive</td>\n",
       "    </tr>\n",
       "    <tr>\n",
       "      <th>1</th>\n",
       "      <td>$ESI on lows, down $1.50 to $2.50 BK a real po...</td>\n",
       "      <td>negative</td>\n",
       "    </tr>\n",
       "    <tr>\n",
       "      <th>2</th>\n",
       "      <td>For the last quarter of 2010 , Componenta 's n...</td>\n",
       "      <td>positive</td>\n",
       "    </tr>\n",
       "    <tr>\n",
       "      <th>3</th>\n",
       "      <td>According to the Finnish-Russian Chamber of Co...</td>\n",
       "      <td>neutral</td>\n",
       "    </tr>\n",
       "    <tr>\n",
       "      <th>4</th>\n",
       "      <td>The Swedish buyout firm has sold its remaining...</td>\n",
       "      <td>neutral</td>\n",
       "    </tr>\n",
       "    <tr>\n",
       "      <th>...</th>\n",
       "      <td>...</td>\n",
       "      <td>...</td>\n",
       "    </tr>\n",
       "    <tr>\n",
       "      <th>5837</th>\n",
       "      <td>RISING costs have forced packaging producer Hu...</td>\n",
       "      <td>negative</td>\n",
       "    </tr>\n",
       "    <tr>\n",
       "      <th>5838</th>\n",
       "      <td>Nordic Walking was first used as a summer trai...</td>\n",
       "      <td>neutral</td>\n",
       "    </tr>\n",
       "    <tr>\n",
       "      <th>5839</th>\n",
       "      <td>According shipping company Viking Line , the E...</td>\n",
       "      <td>neutral</td>\n",
       "    </tr>\n",
       "    <tr>\n",
       "      <th>5840</th>\n",
       "      <td>In the building and home improvement trade , s...</td>\n",
       "      <td>neutral</td>\n",
       "    </tr>\n",
       "    <tr>\n",
       "      <th>5841</th>\n",
       "      <td>HELSINKI AFX - KCI Konecranes said it has won ...</td>\n",
       "      <td>positive</td>\n",
       "    </tr>\n",
       "  </tbody>\n",
       "</table>\n",
       "<p>5842 rows × 2 columns</p>\n",
       "</div>"
      ],
      "text/plain": [
       "                                               Sentence Sentiment\n",
       "0     The GeoSolutions technology will leverage Bene...  positive\n",
       "1     $ESI on lows, down $1.50 to $2.50 BK a real po...  negative\n",
       "2     For the last quarter of 2010 , Componenta 's n...  positive\n",
       "3     According to the Finnish-Russian Chamber of Co...   neutral\n",
       "4     The Swedish buyout firm has sold its remaining...   neutral\n",
       "...                                                 ...       ...\n",
       "5837  RISING costs have forced packaging producer Hu...  negative\n",
       "5838  Nordic Walking was first used as a summer trai...   neutral\n",
       "5839  According shipping company Viking Line , the E...   neutral\n",
       "5840  In the building and home improvement trade , s...   neutral\n",
       "5841  HELSINKI AFX - KCI Konecranes said it has won ...  positive\n",
       "\n",
       "[5842 rows x 2 columns]"
      ]
     },
     "execution_count": 223,
     "metadata": {},
     "output_type": "execute_result"
    }
   ],
   "source": [
    "data"
   ]
  },
  {
   "cell_type": "code",
   "execution_count": 224,
   "id": "49b747f8",
   "metadata": {},
   "outputs": [
    {
     "name": "stderr",
     "output_type": "stream",
     "text": [
      "C:\\Users\\PC\\AppData\\Local\\Temp\\ipykernel_14264\\3986300818.py:1: UserWarning: Boolean Series key will be reindexed to match DataFrame index.\n",
      "  data = data[data.Sentiment.isin(['positive', 'negative'])][~data['Sentence'].isna()]\n"
     ]
    }
   ],
   "source": [
    "data = data[data.Sentiment.isin(['positive', 'negative'])][~data['Sentence'].isna()]"
   ]
  },
  {
   "cell_type": "code",
   "execution_count": 225,
   "id": "f8c1f449",
   "metadata": {},
   "outputs": [],
   "source": [
    "train, test = train_test_split(data, test_size=0.35, random_state=42)"
   ]
  },
  {
   "cell_type": "code",
   "execution_count": 226,
   "id": "3ddce66e",
   "metadata": {},
   "outputs": [],
   "source": [
    "texts_train = train['Sentence'].map(preprocess_for_bert).to_list()\n",
    "texts_test = test['Sentence'].map(preprocess_for_bert).to_list()"
   ]
  },
  {
   "cell_type": "code",
   "execution_count": 227,
   "id": "65e1b924",
   "metadata": {},
   "outputs": [],
   "source": [
    "mapping = {\n",
    "    'negative': 0,\n",
    "    'positive': 1\n",
    "}"
   ]
  },
  {
   "cell_type": "code",
   "execution_count": 228,
   "id": "a0ae6515",
   "metadata": {},
   "outputs": [],
   "source": [
    "labels_train = train['Sentiment'].map(mapping).to_list()\n",
    "labels_test = test['Sentiment'].map(mapping).to_list()"
   ]
  },
  {
   "cell_type": "code",
   "execution_count": 229,
   "id": "e54b4c39",
   "metadata": {},
   "outputs": [
    {
     "name": "stdout",
     "output_type": "stream",
     "text": [
      "1762 950\n"
     ]
    }
   ],
   "source": [
    "print(len(labels_train), len(labels_test))"
   ]
  },
  {
   "cell_type": "code",
   "execution_count": 241,
   "id": "6f57deaa",
   "metadata": {},
   "outputs": [
    {
     "data": {
      "text/plain": [
       "[('The company s net profit rose 11.4 on the year to 82.2 million euros in 2005 on sales of 686.5 million euros , 13.8 up on the year , the company said earlier .',\n",
       "  1),\n",
       " ('Passenger volumes rose by 8.4 in the accounting period .', 1),\n",
       " ('Componenta increased its stake in Turkish steel company Doktas Dokumculuk Ticaret ve Sanayi A.S. to 92.6 pct stake in March 2007 .',\n",
       "  1),\n",
       " ('While concerns remain longer term , size and scale may enable Nokia to hold on to its newfound margin improvements in the near term , the analyst wrote .',\n",
       "  1),\n",
       " ('UPDATE 3-Stifel to buy former Lehman brokerage from Barclays', 1),\n",
       " ('Eli Lilly Co. (LLY) Has Broken Out To A New High On AstraZeneca Collaboration',\n",
       "  1),\n",
       " ('Is It Worth Investing In Tesco PLC And Prudential plc Now?', 1),\n",
       " ('15 December 2010 - Finnish-German telecoms equipment maker Nokia Siemens Networks said today it won a contract to upgrade the radio network of home-based telecommunications company Elisa Oyj HEL : ELI1V .',\n",
       "  1),\n",
       " ('We are very pleased to be working with Fujitsu and NTT DoCoMo to advance the progress of LTE , said Juergen Walter , Head of Converged Core , Nokia Siemens Networks .',\n",
       "  1),\n",
       " ('Swiss franc surged to record 1.42 euros after it reported sharpest gain in manufacturing in March .',\n",
       "  1),\n",
       " ('SPY extreme win today - 2 cents above 2009 low on 10-year and SPY up 2 percent - life is a bowl of cherries - great short setting up',\n",
       "  0),\n",
       " ('Strong growth has continued also in China .', 1),\n",
       " ('aapl key is to breakout above 460 on solid volume or else its a no trade for now',\n",
       "  1),\n",
       " ('Talentum expects that the net sales of its core business will increase in 2008 , compared to 2007 .',\n",
       "  1),\n",
       " ('The Government has had a very professional approach in assessing the offer .',\n",
       "  1),\n",
       " ('TNH Looks like an explosive setup if it can break the 20EMA and 105 level',\n",
       "  1),\n",
       " ('It is now the leading private road ambulance service company in Finland .',\n",
       "  1),\n",
       " ('As a result , the company has decided it will implement fixed-term temporary lay-offs .',\n",
       "  0),\n",
       " ('Recovery has been evident in the liquid handling business , particularly in areas outside Europe and primarily in North America and Asia .',\n",
       "  1),\n",
       " ('End Of Day Scan: Bullish MA Crossovers BBVA PDS NTLS NGL SBRCY FGL MTNOY TTT',\n",
       "  1),\n",
       " ('Homebuilders - RYL breaking below support, watch this one. SPY', 0),\n",
       " ('Sales increased due to growing market rates and increased operations .', 1),\n",
       " ('AB InBev looks to win over SABMiller investors', 1),\n",
       " ('Operating profit totaled EUR 6.7 mn , down from EUR 7.2 mn in the corresponding period in 2005 .',\n",
       "  0),\n",
       " ('AstraZeneca shares climb 3 as drug maker ups profits forecasts', 1),\n",
       " ('Foundries division reports its sales increased by 9.7 to EUR 63.1 mn from EUR 57.5 mn in the corresponding period in 2006 , and sales of the Machine Shop division increased by 16.4 to EUR 41.2 mn from EUR 35.4 mn in the corresponding period in 2006 .',\n",
       "  1),\n",
       " ('Cost savings will then rise to some 20 mln eur a year from 2007 , OKO said .',\n",
       "  1),\n",
       " ('AMZN rejected that 604 to the penny. Weak open and it goes rg within first 30 mins, could have 8-10 points in it.',\n",
       "  0),\n",
       " ('In October , UPM reported a third-quarter net loss of euro86 million 110 million compared with a net profit of euro120 million in 2007 .',\n",
       "  0),\n",
       " ('Nokia also noted the average selling price of handsets declined during the period , though its mobile phone profit margin rose to more than 22 percent from 13 percent in the year-ago quarter .',\n",
       "  1),\n",
       " ('4 February 2011 - Finnish broadband data communication systems provider Teleste Oyj HEL : TLT1V saw its net profit jump to EUR2 .1 m for the last quarter of 2010 from EUR995 ,000 for the same period of 2009 .',\n",
       "  1),\n",
       " ('Operating profit totaled EUR 825mn , up from EUR 763mn in 2004 .', 1),\n",
       " ('brcm raises revenue forecast', 1),\n",
       " ('Scanfil issued a profit warning on 10 April 2006 .', 0),\n",
       " ('Stora Chief Executive Jouko Karvinen has described the Russian tariff hikes as a threat to the future of the forest products industry in Finland .',\n",
       "  0),\n",
       " ('I am looking forward to contribute to SRV s success with my competence , says Taneli Hassinen .',\n",
       "  1),\n",
       " ('EBIT margin was up from 1.4 to 5.1 .', 1),\n",
       " ('Operating profit improved by 44.0 to ER 4.7 mn from EUR 3.3 mn in 2004 .',\n",
       "  1),\n",
       " ('Acquisitions have been made and businesses have been well integrated .', 1),\n",
       " ('The most loyal customers were found in the Bank of Ã land , with an index of 8.0 .',\n",
       "  1),\n",
       " ('Adjusted for changes in the Group structure , the Division s net sales increased by 1.7 .',\n",
       "  1),\n",
       " ('INO Up, up, and away!', 1),\n",
       " ('The company said that it will supply the WCDMA 3G-HSPA radio network , including the modular , high capacity Nokia Flexi WCDMA base station in East Java , Bali , Sumatra and Batam .',\n",
       "  1),\n",
       " ('Diageo receives reports from United Spirits on financial irregularities involving ...',\n",
       "  0),\n",
       " ('Net sales of the Vegetable Oil Business rose to EUR 10.6 mn from EUR 10.1 mn .',\n",
       "  1),\n",
       " ('LULU Bounced off support early in week - now indicators turning up (RSI, MACD, SMI) Worth a look',\n",
       "  1),\n",
       " ('Operating loss totaled EUR 0.8 mn , compared to a profit of EUR 0.5 mn .',\n",
       "  0),\n",
       " ('Major Order in India Comptel Corporation has received a significant long-term order for mediation and provisioning solutions being used by a leading operator in India .',\n",
       "  1),\n",
       " ('TELE2 Affarsvarlden gave a buy recommendation on mobile operator Tele2 AB and a share price target of 142 crowns ( 23.54 - 15.19 euro ) .',\n",
       "  1),\n",
       " ('( ADP News ) - Oct 31 , 2008 - Finnish food company Raisio Oyj ( OMX : RAIVV ) said today that its net profit jumped to EUR 16.4 million ( USD 20.9 m ) for the first nine months of 2008 from EUR 1.1 million for the same period of 2',\n",
       "  1),\n",
       " ('Daily Mail owner considering Yahoo bid yhoo ,up 2,05', 1),\n",
       " ('As a result , the distribution companies will start to distribute , in addition to their current product offering , Shimano reels , rods and other Shimano fishing tackle products on an exclusive basis .',\n",
       "  1),\n",
       " ('FTSE falls to 3-month low on Greek debt concerns, easyJet skids', 0),\n",
       " ('Multi Top on MCD chart finally leads to a fall in price. Stability is questioned in the stock but coming weeks will tell.',\n",
       "  0),\n",
       " ('Anheuser-Busch InBev Increases Offer for Rival SABMiller', 1),\n",
       " ('Olvi has posted a strong set of figures for the first six months of this year .',\n",
       "  1),\n",
       " ('Rapala said it estimates it will make savings of 1-2 mln eur a year by centralising its French operations at one site .',\n",
       "  1),\n",
       " ('Profit per share was EUR 1.03 , up from EUR 0.87 .', 1),\n",
       " ('I warmly welcome Michael Frei to Outotec .', 1),\n",
       " ('Cargo volume grew by 7 .', 1),\n",
       " ('Ingenious, HSBC, UBS and Coutts sued by tax avoidance clients', 0),\n",
       " ('It allows the young child to move forward with his life .', 1),\n",
       " ('The change will optimize the operational efficiencies of our growing business , said Julia Prohaska , director of marketing communications for Fiskars .',\n",
       "  1),\n",
       " ('ENDP - we saw a large order in this one last week, someone also accumulating May Jun 35s Calls today',\n",
       "  1),\n",
       " ('Rolls-Royce Wins 9.2 Billion Order From Emirates Airline', 1),\n",
       " ('Finnish Outokumpu Technology has been awarded several new grinding technology contracts .',\n",
       "  1),\n",
       " ('Satama earned Data Management Solutions competency with Business Intelligence specialization recentlyvia the acquisition of Fimentor Oy .',\n",
       "  1),\n",
       " ('The lay-offs will affect 240 people out of the total 320 Okmetic employees in Finland .',\n",
       "  0),\n",
       " ('The maritime administration said the ships had ignored warnings about the icy conditions .',\n",
       "  0),\n",
       " ('When open next year , it will be the largest facility in the world to produce diesel fuel from renewable feedstock such as palm oil and animal fat .',\n",
       "  1),\n",
       " ('ACE Limited, which has a 17 year dividend growth streak, plans a 33 dividend hike: ACE',\n",
       "  1),\n",
       " ('Expense ratio was 102.6 compared to 92.9 in the corresponding period in 2005 .',\n",
       "  0),\n",
       " ('Comparable operating profit for the quarter decreased from EUR510m while sales increased from EUR860m , as compared to the third quarter 2007 .',\n",
       "  0),\n",
       " ('Sales for the Department Store Division increased by 15 and sales for the clothing store subsidiary Seppala increased by 8 Meanwhile sales for Hobby Hall decreased by 12 .',\n",
       "  1),\n",
       " ('MarketsShire up 2.5 and Baxalta up 6 on 32bn deal', 1),\n",
       " ('WX Decent pull back . .', 0),\n",
       " ('like T for a breakout long as well. getting through the 100 and 200 MA could see it run.',\n",
       "  1),\n",
       " ('Crown Castle buys Tower Development Corp for 461 million', 1),\n",
       " ('External net sales from the printing business fell by 43.7 , partly due to the termination of the printing contract between Ilkka-Yhtyma s printing house I-print Oy and sector player HSS Media AB in December 2009 and the fall in printing prices .',\n",
       "  0),\n",
       " ('DMASIA-16 August 2006-Benefon extends manufacturing capability with ASMobile -Â 2006 Digitalmediaasia.com DMA Ltd. .',\n",
       "  1),\n",
       " ('Finnish and Swedish construction markets are still experiencing an estimated 4 annual growth in 2008 .',\n",
       "  1),\n",
       " ('These financing arrangements will enable the company to ensure , in line with its treasury policy , that it has sufficient financial instruments at its disposal for its potential capital requirements .',\n",
       "  1),\n",
       " ('The period-end cash and cash equivalents totaled EUR6 .5 m , compared to EUR10 .5 m in the previous year .',\n",
       "  0),\n",
       " ('BULLYA pollux654321 My 50 KORS 80 Calls are going to b a Blessing for my Daughters tuition!',\n",
       "  1),\n",
       " ('TSLA gyrating S1 above gap. keeping an eye on S2', 1),\n",
       " ('Rival companies GWR and WATCO eyeing RA w take-over interest.', 1),\n",
       " ('( ADP News ) - Dec 11 , 2008 - Finnish construction and engineering company Outotec Oyj ( OMX : OTE1V ) said today it won a EUR 28 million ( USD 36.8 m ) order to expand the phosphate concentrator in Siilinjarvi of Norwegian minera',\n",
       "  1),\n",
       " ('EDU bouncing nicely after add-on (posted)', 1),\n",
       " ('VIPS similar pattern like beginning of May. Did u sell? Same now..will go up much higher after this drop.',\n",
       "  1),\n",
       " ('NYSE owner ICE may gatecrash Deutsche Boerse-LSE merger', 0),\n",
       " ('Viking Line manages well with its current ferries .', 1),\n",
       " ('Finnish flexible packaging manufacturer Suominen Corporation reports net sales of EUR 54.5 mn in the first quarter of 2008 , compared with EUR 54.3 mn a year earlier .',\n",
       "  1),\n",
       " ('According to SeppÃnen , the new technology UMTS900 solution network building costs are by one-third lower than that of the building of 3.5 G networks , operating at 2,100 MHz frequency .',\n",
       "  1),\n",
       " ('Net sales increased to EUR193 .3 m from EUR179 .9 m and pretax profit rose by 34.2 to EUR43 .1 m. ( EUR1 USD1 .4 )',\n",
       "  1),\n",
       " ('Petrofac books further ÃÂ30m cost for Shetland gas terminal delays', 0),\n",
       " ('With this acquisition Panostaja Oyj further expands its business area specialising in digital printing .',\n",
       "  1),\n",
       " ('Morrisons finance chief to fill gap as CEO leaves early', 0),\n",
       " ('The announcement pushed Freenet shares down 6.3 , or EUR0 .71 , in Frankfurt trade to EUR10 .65 as investors gave up hope United Internet AG and Drillisch would pursue their own takeover and breakup of Freenet .',\n",
       "  0),\n",
       " ('NQ got hit hard lower this AM -- looks like it has found support a 18.89',\n",
       "  0),\n",
       " ('In September 2010 , the Finnish group agreed to buy Danish company Rose Poultry A-S for up to EUR23 .9 m in a combination of cash and stock .',\n",
       "  1),\n",
       " ('The poorest index figure was given to Finnish power company Fortum , 4.5 .',\n",
       "  0),\n",
       " ('The stock price rose 70.0 ores or 0.9 to close at SEK77 .65 , ending a two-day streak of losses .',\n",
       "  1),\n",
       " ('Spains CaixaBank Expects To Close Deal For Banco BPI', 1),\n",
       " ('Citrix Systems Inc CTXS Position Increased by Mizuhoâ ShareStockNews', 1),\n",
       " ('Finnish construction group YIT has been awarded a contract to install heating , air conditioning and cooling systems to the new head office of the automobile association ADAC in Munich in Germany .',\n",
       "  1),\n",
       " ('The repurchases shall decrease the distributable capital and reserves .',\n",
       "  0),\n",
       " ('Aberdeen AM posts H1 outflows, says conditions to remain challenging', 0),\n",
       " ('Operating profit rose to EUR2 .4 m from EUR1 .6 m year earlier .', 1),\n",
       " ('The fair value change of investment properties was EUR 15.8 mn , compared to EUR 22.9 mn in the third quarter of 2009 .',\n",
       "  0),\n",
       " ('AAPL long 630.91', 1),\n",
       " ('Commencing the construction works of Pearl Plaza is a significant step in our Russian projects .',\n",
       "  1),\n",
       " ('Finnish food industry companies HK Ruokatalo and Atria will form a joint venture company called LÃnsi-Kalkkuna to produce turkey meat .',\n",
       "  1),\n",
       " ('Word on the street is that Allergen is looking at Endo International after the failed Pfizer merger. May-20 35 calls active. ENDP',\n",
       "  1),\n",
       " ('AAPL a new long IF 110.61 is broken. Targets are 112.19, 119.86 123.82. Bears must retake 102.77. QQQ NQ_F NDX',\n",
       "  1),\n",
       " ('Tesco leads FTSE higher on Clubcard bid reports', 1),\n",
       " ('EFUT hod posted buy pm at 4.40', 1),\n",
       " ('Finnish software developer Basware Oyj said on November 30 , 2006 its U.S. subsidiary Basware , Inc. won an order to provide software for contract lifecycle management to an unnamed U.S. medical technology company .',\n",
       "  1),\n",
       " ('Aviva, MG suspend property funds as investors panic', 0),\n",
       " ('Zurich Insurance Considering Offer for UK Rival RSA Insurance', 1),\n",
       " ('Operating profit rose to EUR 27.8 mn from EUR 17.5 mn in 2008 .', 1),\n",
       " ('DARA breaking out', 1),\n",
       " ('Progress Group , QPR s representative in Saudi Arabia and North Africa , has signed a framework agreement for a long term strategic relationship with ISE .',\n",
       "  1),\n",
       " ('Currently , the company foresees its pre-tax profit to remain below the 2009 level when it reached EUR 700,000 USD 934,000 , compared with previous projections of a slightly better pre-tax profit .',\n",
       "  0),\n",
       " ('FB watching for bounce tomorrow', 1),\n",
       " ('Rinkuskiai raised the sales by 18.1 percent , to 1.37 million liters , while the sales of Kauno Alus grew by 14.3 percent , to 960,000 liters .',\n",
       "  1),\n",
       " ('Global Banking News - 28 September 2010 Tieto Corporation and Pohjola Bank ( PINK : POJLF ) are to cooperate on SWIFT services .',\n",
       "  1),\n",
       " ('Operating loss totalled EUR 12.7 mn , compared to a profit of EUR 17.7 mn in the first half of 2008 .',\n",
       "  0),\n",
       " ('TROW Ascending triangle gives a bullish bias to this chart. Breakout above 84 will be positive',\n",
       "  1),\n",
       " ('Horizonte acquires neighbouring Glencore nickel property in Brazil', 1),\n",
       " ('GILD is expanding its research facilities...keeping up with the pace of innovation',\n",
       "  1),\n",
       " ('We warmly welcome him to Satama , states Jussi Lansio , chairman of the Board .',\n",
       "  1),\n",
       " ('Via the agreement , Ramirent will expand the range of equipment and services it delivers to Destia , Ramirent Finland s managing director Kari Aulasmaa , said .',\n",
       "  1),\n",
       " ('The price of raw material aluminium went up at the end of 2005 , but the company considers its outlook for 2006 favourable .',\n",
       "  1),\n",
       " ('Profit before taxes was EUR 5.4 mn , up from EUR 3.6 mn a year earlier .',\n",
       "  1),\n",
       " ('Operating profit totaled EUR 9.4 mn , down from EUR 11.7 mn in 2004 .', 0),\n",
       " ('According to ACNielsen s ScanTrack study for the period week 10 of 2005 to week 9 of 2006 , Coca-Cola is the market leader in soft drinks in Finland .',\n",
       "  1),\n",
       " ('Copper market may get a 2003-style supply shock from Glencore closures', 0),\n",
       " ('Netflix Grows Efforts To Create Loyal Customers NFLX', 1),\n",
       " ('AAPL at pivot area on intraday chart- break here could send this to 50-day SMA, 457.80',\n",
       "  1),\n",
       " ('aapl. Test the high today and probably go beyond after hours...', 1),\n",
       " ('HELSINKI AFX - Outokumpu Technology said it has signed a 3.5 mln eur agreement with Mongolia s Erdenet Mining Corporation for the engineering of the first HydroCopper plant to be built at the Erdenet mine site .',\n",
       "  1),\n",
       " ('In the Baltic countries , sales fell by 42.6 .', 0),\n",
       " ('Surprising to see JWN and SKS sales numbers still holding up so well. I guess the high end might not be a concern after all.',\n",
       "  1),\n",
       " ('WAC trade continuing very nicely from yesterday, almost up 3 from yesterday entry, deal pricing tonight looking very strong here... SPY',\n",
       "  1),\n",
       " ('The company s net profit amounted to EE 55.5 mn , which was 36 more than in 2004 .',\n",
       "  1),\n",
       " ('Short on ATVI from 24.55.', 0),\n",
       " ('With this appointment Kaupthing Bank aims to further co-ordinate Capital Markets activities within the Group and to improve the overall service to clients .',\n",
       "  1),\n",
       " ('We succeeded in increasing our market share of sold apartment , comments Mr Kari Kauniskangas , Head of YIT International Construction Services .',\n",
       "  1),\n",
       " ('In the building and home improvement trade , net sales totalled EUR 1,173 mn , down from EUR 1,566 mn a year earlier .',\n",
       "  0),\n",
       " ('NTC has a geographical presence that complements Ramirent s existing network and brings us closer to our customers in the East Bohemia region in the CzechRepublic .',\n",
       "  1),\n",
       " ('Return on investment ROI was 4.1 compared to 43.8 in the first half of 2008 .',\n",
       "  0),\n",
       " ('FBR Capital reiterated \"Outperform\" rating on BRCM with a price target of 45.00 on Friday.',\n",
       "  1),\n",
       " ('In 2009 , Fiskars cash flow from operating activities amounted to EUR121m , up from EUR97m in the previous year .',\n",
       "  1),\n",
       " ('Supermarket Stocks Rally as Tesco Plans to Axe Non-core UK Assets TSCO', 1),\n",
       " ('The OMX Helsinki 25 index was up 0.92 pct at 2,518.67 and the Helsinki CAP portfolio index was 0.91 pct higher at 4,711.19 .',\n",
       "  1),\n",
       " ('Affecto expects its net sales for the whole 2010 to increase from the 2009 level when they reached EUR 103 million .',\n",
       "  1),\n",
       " ('ENDP being sued by FTC.....nobody will buy them with that hanging over their heads',\n",
       "  0),\n",
       " ('HLF shorts made a killing last couple days, might make more if cover and buy back?',\n",
       "  0),\n",
       " ('Consolidated operating profit excluding one-off items was EUR 30.6 mn , up from EUR 29.6 mn a year earlier .',\n",
       "  1),\n",
       " ('BONE Earnings Stocks Poised to Pop', 1),\n",
       " ('Profit taking on AAPL this morning? That has to be the pressure on the stock. Im still bullish on AAPL.',\n",
       "  1),\n",
       " ('Finnish IT solutions provider Affecto Oyj HEL : AFE1V said today its slipped to a net loss of EUR 115,000 USD 152,000 in the second quarter of 2010 from a profit of EUR 845,000 in the corresponding period a year earlier .',\n",
       "  0),\n",
       " ('aapl short term fundredemption liquidations.. Should have the channel cleared soon and on solid footing. 520 is new floor come July! :)',\n",
       "  0),\n",
       " ('Ramirent made 18 million kroons EUR 1.15 mln loss last year ; the year before the company was 7.3 million kroons in the black .',\n",
       "  0),\n",
       " ('LSE-Deutsche Boerse merger would signal end to exchange mega-deals', 1),\n",
       " ('NUGT Gold above 1400...wow', 1),\n",
       " ('Copper , lead and nickel also dropped ... HBOS ( HBOS ) plummeted 20 to 70.3 pence after saying this yearÃ³ ??',\n",
       "  0),\n",
       " ('US dollar wipes out sales gains for SABMiller', 0),\n",
       " ('credit 20 November 2009 - Finnish glass technology company Glaston Oyj Abp ( HEL : GLA1V ) said today it concluded a EUR74m revolving credit facility agreement with its core banks .',\n",
       "  1),\n",
       " ('ONTY Continues to base as debate lingers. ONT-10 data next potential catalyst. If positive, stock quickly moves to 10. Downside limited.',\n",
       "  1),\n",
       " ('BBRY both 1m6m trends turn bullish today with a resistance level at 11.31.',\n",
       "  1),\n",
       " ('Nokia s share price fell less than one percent to 18.70 euros ( 25.41 ) in Helsinki , while Siemens shares fell 1.02 percent to 90.19 euros ( 122.57 ) in Frankfurt .',\n",
       "  0),\n",
       " ('Via the Satlan acquisition , Teleste plans to further expand its market presence as a video services partner for cable operators , broadcasters and IPTV service providers .',\n",
       "  1),\n",
       " ('Tallink Silja attributes the significant drop to problems with the booking system that was taken into operation in October , the sale of trailer ferry Sky Wind and the route between Stockholm and Riga , which has won passengers from the Helsinki-Stockholm route .',\n",
       "  0),\n",
       " ('Investors Remain Skeptical About Shell-BG Deal', 0),\n",
       " ('The workforce will be reduced also in the Amsterdam office , in the Netherlands .',\n",
       "  0),\n",
       " ('4 February 2011 - Finnish broadband data communication systems provider Teleste Oyj HEL : TLT1V said Wednesday its net profit rocketed to EUR4 .8 m in 2010 from EUR416 ,000 in 2009 and it lifted its dividend proposal .',\n",
       "  1),\n",
       " ('maybe closing all those AAPL calls i had this morning was a bad idea, money left on the table...',\n",
       "  1),\n",
       " ('YNDX and the price of some stocks was 2 times lower then annual earnings, I could not resist, I was buying when everyone was selling',\n",
       "  1),\n",
       " ('long AAPL 107 calls .40', 1),\n",
       " ('Finland s Nokian Tyres and Kazakhstan s Ordabasy Corporation signed an agreement to build a plant in Astana to produce car tires , Ordabasy chairman Dinmukhamet Idrisov said at a press conference .',\n",
       "  1),\n",
       " ('We are glad that our long co-operation with SODRA continues , comments Stig-Goran Sandberg , Affecto s Area Manager for Baltic operations .',\n",
       "  1),\n",
       " ('Do it for me trend underpins UK sales growth at Kingfisher', 1),\n",
       " ('Shares of Nokia Corp. rose Thursday after the cell phone maker said its third-quarter earnings almost doubled and its share of the global handset market increased .',\n",
       "  1),\n",
       " ('UPDATE 1-AstraZeneca sells rare cancer drug to Sanofi for up to 300 mln',\n",
       "  1),\n",
       " ('GILD chart: With IBB back over support.', 1),\n",
       " ('DBS, Julius Baer emerge as potential bidders for Barclays Asia wealth unit ...',\n",
       "  1),\n",
       " ('SAVE long.', 1),\n",
       " ('Operating profit totalled EUR 30.2 mn , down from EUR 43.8 mn a year earlier .',\n",
       "  0),\n",
       " ('Last week , the Finnish metals and technology group announced plans to sell more than 80 percent of its technology unit to further the company s strategic goal of becoming the world s largest stainless steel maker .',\n",
       "  1),\n",
       " ('Paper maker Stora Enso Oyj said Friday it has been acquitted of charges that it participated in a paper price-fixing conspiracy in the United States .',\n",
       "  1),\n",
       " ('Operating loss totalled EUR 5.2 mn , compared to a loss of EUR 3.4 mn in the corresponding period in 2008-2009 .',\n",
       "  0),\n",
       " ('Finnish Aktia Group s operating profit rose to EUR 17.5 mn in the first quarter of 2010 from EUR 8.2 mn in the first quarter of 2009 .',\n",
       "  1),\n",
       " ('Systeemitiimi s sales and project resources will also be strengthened , director Paul Skogberg said .',\n",
       "  1),\n",
       " ('The Estonian electronic components factory , Elcoteq , is running out of material because of the closure of air traffic .',\n",
       "  0),\n",
       " ('Metrics in QPR ScoreCard now support date , text and milestone-based values , which improve its support for managing projects around performance or process-related content .',\n",
       "  1),\n",
       " ('Finnish cutlery and hand tools maker Fiskars Oyj Abp ( HEL : FISAS ) said today its net profit rose to EUR 24.1 million ( USD 33.6 m ) in the third quarter of 2010 from EUR 17.9 million a year earlier .',\n",
       "  1),\n",
       " ('Why Id Buy ARM Holdings plc And BHP Billiton plc Today', 1),\n",
       " ('In addition to Russia , we now seek additional growth in Ukraine .', 1),\n",
       " ('HSBC appoints business leaders to board', 1),\n",
       " ('At the seminar , a memorandum of understanding on co-operation was signed between the Finnish Kemira Company and Vietnam National Chemical Corporation .',\n",
       "  1),\n",
       " ('Persimmon share price climbs on 23 rise in full-year revenue', 1),\n",
       " ('chessNwine: IWM 30-Minute Chart. Small caps threatening descending triangle breakdown under 110.20.',\n",
       "  0),\n",
       " ('easyJet expects resilient demand to withstand security fears', 1),\n",
       " ('That bearish outside day Tuesday is significant. 200 day resistance still intact. just my opinion SDS',\n",
       "  0),\n",
       " ('GOOGL gets an upgrade price target 970', 1),\n",
       " ('( ADP News ) - Finnish handling systems provider Cargotec Oyj ( HEL : CGCBV ) announced on Friday it won orders worth EUR 10 million ( USD 13.2 m ) to deliver linkspans to Jordan , Morocco and Ireland .',\n",
       "  1),\n",
       " ('Dealers said the share was largely hit by investor disappointment about a refining margin of just 9.48 usd per barrel for the quarter and the performance of its shipping unit , which saw EBIT drop to 5 mln eur from 20 mln eur a year amid a fall in volumes and tanker rates .',\n",
       "  0),\n",
       " ('Following the transaction , Lundbeck has worldwide rights for nalmefene , excluding North America , Mexico , Turkey and South-Korea .',\n",
       "  1),\n",
       " ('sharkbiotech If anyone is sellingshorting AGN bc you believe ENDP rumors to be realistic, then Ill take the other side of that trade',\n",
       "  1),\n",
       " ('AAPL at resistance right here...sold my shares...will buy back if it dips or if it goes in the 128 gap zone',\n",
       "  0),\n",
       " ('I m happy with the outcome , Sneed said after the hearing .', 1),\n",
       " ('Profit for the period totalled EUR 1.1 mn , down from EUR 1.6 mn in the third quarter of 2008 .',\n",
       "  0),\n",
       " ('Stora Enso s target has been cut to EUR 4.85 from EUR 5.55 and Holmen s target -- to SEK 135 from SEK 150 .',\n",
       "  0),\n",
       " ('loading SPY and AAPL puts. think were toppy IMHO.', 0),\n",
       " ('AB InBev offers SABMiller 3 billion breakup fee', 1),\n",
       " ('Operating loss was EUR 179mn , compared to a loss of EUR 188mn in the second quarter of 2009 .',\n",
       "  1),\n",
       " ('PYPL great vol flow trade here.. Love this company long time.', 1),\n",
       " ('Finland s Neste Oil has been awarded the Chemical Industry Federation of Finland s Innovation Award for its NExBTL technology , which enables biodiesel to be produced from vegetable oil and animal fat .',\n",
       "  1),\n",
       " ('Operating loss before non-recurring items was EUR 0.9 mn , compared to a profit of EUR 11.5 mn in 2008 .',\n",
       "  0),\n",
       " ('The fair value of the property portfolio doubled as a result of the Kapiteeli acquisition and totalled EUR 2,686.2 1,259.7 million .',\n",
       "  1),\n",
       " ('Compass Group says positive for year ahead', 1),\n",
       " ('According to Viking Line s Managing Director , Nils-Erik Eklund , the company s Board of Directors is very satisfied with Viking Line s performance .',\n",
       "  1),\n",
       " ('Academics claim Google Android two-factor authentication is breakable. security authentication hacking goog',\n",
       "  0),\n",
       " ('In the end of 2006 , the number of outlets will rise to 60-70 .', 1),\n",
       " ('WPP boosts sales despite cautious clients', 1),\n",
       " ('FTSE 100 drops 2.5 pct on Glencore, metals price fears', 0),\n",
       " ('Royal Dutch Shell profit rises; dividend up 4', 1),\n",
       " ('Dlerch LOL! FMCN back under 17, darn those shorts! No chit Sherlock!', 0),\n",
       " ('Neste Oil is working with over 20 research communities in Europe , America , Africa , Asia , and Australia to develop and introduce new raw materials .',\n",
       "  1),\n",
       " ('Furthermore , Bunge will also sign a licensing agreement for the Sunnuntai and Carlshamn Mejeri brands .',\n",
       "  1),\n",
       " ('BRIEF-Aviva aims to increase dividend pay-out ratio to 50 pct in 2017', 1),\n",
       " ('YANG Double bottom 5.2', 1),\n",
       " ('CRHs concrete bid for Holcim Lafarge assets', 1),\n",
       " ('The transaction is in line with Aspo s strategy to expand in the Baltic Sea region and in the eastern markets .',\n",
       "  1),\n",
       " ('Finnish Food Workers Union SEL plans to hasten its collective bargaining with a two-day strike that would begin on 7 April 2010 , in Finland .',\n",
       "  0),\n",
       " ('UPM-Kymmene is one of the world s leading printing paper producers with production in 15 countries and a sales network covering more than 170 companies .',\n",
       "  1),\n",
       " ('down to EUR5 .9 m H1 09 3 August 2009 - Finnish media group Ilkka-Yhtyma Oyj ( HEL : ILK2S ) said today its net profit fell 45 on the year to EUR5 .9 m in the first half of 2009 .',\n",
       "  0),\n",
       " ('Nokia s Calling All Innovators Africa competition has been specifically launched to enable developers to create locally relevant , best-of-breed mobile applications .',\n",
       "  1),\n",
       " ('FB SHIFTING ON THE 15 MINUTE HERE - SUSPECT TO TAKE HIGHS', 1),\n",
       " ('Equity indexes working on a positive engulfing for March. SML RUT IWC SMH SOX Small-caps semis with a fakeout before the bout.',\n",
       "  1),\n",
       " ('At the close , the OMX Helsinki 25 was 0.01 pct lower at 3,067.64 points and the OMX Helsinki was down 0.05 pct at 10,321.46 points on over 1.343 bln eur of turnover .',\n",
       "  0),\n",
       " ('Forestries were also higher , driven by yesterday s bullish analyst comment on Stora Enso in Dagens Industri , dealers said .',\n",
       "  1),\n",
       " ('The shopping center to be opened in St. Petersburg , Russia in November 2010 will turn the cash flow of Finnish department store chain Stockmann s Russian operations positive for the first time in 2011 .',\n",
       "  1),\n",
       " ('The agreement will provide The Switch with double the converter capacity , whilst opening up further manufacturing locations in China .',\n",
       "  1),\n",
       " ('2009 3 February 2010 - Finland-based steel maker Rautaruukki Oyj ( HEL : RTRKS ) , or Ruukki , said today it slipped to a larger-than-expected pretax loss of EUR46m in the fourth quarter of 2009 from a year-earlier profit of EUR45m .',\n",
       "  0),\n",
       " ('Arvo Vuorenmaa , the Loviisa plant s general manager said the application for the new licence was a standard procedure and that he was quite confident about approval being granted .',\n",
       "  1),\n",
       " ('Isolationism? Another Sell Rating, Sell Ratings On SPY, QQQ, IWM And Several Companies AAPL APPLE AXP BAC',\n",
       "  0),\n",
       " ('Qualcomm estimated a first-quarter profit between 46 and 50 cents a share , excluding certain items , below the analyst estimate of 61 cents a share .',\n",
       "  0),\n",
       " ('This location makes the mall a convenient place to shop for consumers from three large residential areas nearby : Jaroszowka , Wysockiego and Zgody .',\n",
       "  1),\n",
       " ('The expansion aims to attract new customers both in Finland and abroad .',\n",
       "  1),\n",
       " ('AstraZeneca weighing up Acerta bid to secure blood cancer drug', 1),\n",
       " ('Sanoma News advertising sales decreased by 22 during the year .', 0),\n",
       " ('Making matters more difficult , the company said it has been grappling with higher oil and gas prices , which have pushed up the cost of energy , raw materials and transportation .',\n",
       "  0),\n",
       " ('AB InBev ups offer for SABMiller as deadline looms', 1),\n",
       " ('The fair value of the investment properties totaled EUR 2,534.9 mn , up from EUR 2,455.1 mn in 2006 .',\n",
       "  1),\n",
       " ('It also said its third quarter diluted EPS came in at 0.34 eur compared with 0.16 eur in the same quarter a year ago .',\n",
       "  1),\n",
       " ('GALE Breakout Coming Soon!', 1),\n",
       " ('Mobile phone shipments jumped 26 percent to almost 112 million units , while Finnish company s global market share rose to 39 percent from 36 percent .',\n",
       "  1),\n",
       " ('TietoEnator itself uses Nokia s Intellisync Mobile Suite s wireless email , calendar , and device management capabilities , and the company will now extend these services to its customers .',\n",
       "  1),\n",
       " ('The fair value of investment properties totalled EUR 2,299.9 mn , compared to EUR 2,229.5 mn in the corresponding period in 2009 .',\n",
       "  1),\n",
       " ('Retailers Kingfisher and Sports Direct rise in Britains share index', 1),\n",
       " ('Advertising and circulation revenues grew by 3.4 and by 0.4 , respectively .',\n",
       "  1),\n",
       " ('Breaking 52 week highs timing looks great now AHS BABY POST IGE IRDM EWBC PHYS ULTA VNET BIV',\n",
       "  1),\n",
       " ('The growth in the activeness of Talentum s customers , which started at the end of 2009 , continued during the reporting period , the company stated .',\n",
       "  1),\n",
       " ('Why MCD looks set to fall further.', 0),\n",
       " ('Revenue was slightly down , at x20ac 495 million 634 million , compared to x20ac 497 million a year earlier .',\n",
       "  0),\n",
       " ('3 January 2011 - Finnish flag carrier Finnair Oyj ( HEL : FIA1S ) said today it sealed a nine-year sale and leaseback agreement for its newest Airbus A330 aircraft for syndication into the Japanese operating lease market .',\n",
       "  1),\n",
       " ('After the transaction , Alma Media raised its stake in Talentum to 30.65 of the shares and some 31.12 of voting rights .',\n",
       "  1),\n",
       " ('UPDATE: Persimmon Profit Up Strongly, Outlook Positive', 1),\n",
       " ('Long TSLA short MBLY', 1),\n",
       " ('Operating profit decreased to EUR 11.2 mn from EUR 16.6 mn .', 0),\n",
       " ('This transaction will also rationalize our pulp and paper industry related solutions .',\n",
       "  1),\n",
       " ('Operating result , excluding one-off items , totaled EUR 9.1 mn compared to EUR 10.6 mn in continuing operations , excluding one-off items in 2004 .',\n",
       "  0),\n",
       " ('AAPL wants lower. up waves getting smaller on the 2 min', 0),\n",
       " ('For the first nine months of 2010 , the company s net profit rose to EUR41m from EUR30m for the corresponding period of 2009 .',\n",
       "  1),\n",
       " ('In 2009 , Stora Enso s net loss was EUR 879.7 million compared to EUR 673.4 million in the previous year .',\n",
       "  0),\n",
       " ('renn topping tail 5 min. chart at 7.31 short from here.', 0),\n",
       " ('European stocks hover near 3-week low, Dialog and BHP slump', 0),\n",
       " ('20 October 2010 - Finnish metal products company Componenta Oyj HEL : CTH1V said yesterday that its net loss narrowed to EUR7m for the first nine months of 2010 from EUR23 .3 m for the same period of 2009 .',\n",
       "  1),\n",
       " ('KESKO CORPORATION STOCK EXCHANGE RELEASE 28.02.2008 AT 09.30 1 ( 1 ) Kesko Corporation and Aspo plc today signed an agreement by which Aspo acquires the share capital of Kauko-Telko Ltd , a subsidiary wholly owned by Kesko .',\n",
       "  1),\n",
       " ('Operating profit excluding non-recurring items amounted to EUR 40.6 mn , down from EUR 57.3 mn year-on-year .',\n",
       "  0),\n",
       " ('ITV share price: Group mulls takeover of Canadas Entertainment One', 1),\n",
       " ('Finnish Larox has signed a contract with the Talvivaara Project for the delivery of filters to the Talvivaara nickel mine in Sotkamo , in Finland .',\n",
       "  1),\n",
       " ('The 50-50 joint venture , to be called Nokia Siemens Networks , will be comprised of Nokia s network business group and Siemens carrier-related operations , creating estimated synergies of 1.5 billion euros ( 1.9 billion ) by 2010 , Nokia said .',\n",
       "  1),\n",
       " ('Furthermore , efficiency improvement measures initiated earlier are now bearing fruit , CEO Jan Lang said .',\n",
       "  1),\n",
       " ('Operating profit for the 12-month period decreased from EUR157 .5 m , while net sales increased from EUR634 .3 m , as compared to 2007 .',\n",
       "  0),\n",
       " ('Increased trust of our clients in YIT can be seen as apartment sales accelerated .',\n",
       "  1),\n",
       " ('HELSINKI AFX - KCI Konecranes said it has won an order for four hot metal ladle cranes from Indian steel producer Bhushan Steel and Strips Ltd. .',\n",
       "  1),\n",
       " ('Revenue grew by 2 percent to x20ac 580 million 743 million , from x20ac 569 million .',\n",
       "  1),\n",
       " ('At the same time I am delighted by the fact that we were able to accomplish the organization with our own team members .',\n",
       "  1),\n",
       " ('City spirits sink after Diageo comes up short with sales slide', 0),\n",
       " ('Ruukki Group calculates that it has lost EUR 4mn in the failed project .',\n",
       "  0),\n",
       " ('( ADP News ) - Nov 28 , 2008 - Finnish power-supply solutions provider Efore Oyj ( OMX : EFO1V ) announced today the launch of OPUS DC , the latest power system in its OPUS product line .',\n",
       "  1),\n",
       " ('The broker highlights Cargotec as its preferred stock in the sector , as it is a pure play on global cargo and container handling , and it expects it to play an active role in further consolidating the industry .',\n",
       "  1),\n",
       " ('QCOR Just added 3,000 shares 28.', 1),\n",
       " ('The concept enables a commercially affordable way to manufacture high-quality TCO coated glass for the solar industry .',\n",
       "  1),\n",
       " ('Raisio s bid to buy Glisten is a win-win deal for both companies , the chairman of the UK snacks firm told just-food today 10 February .',\n",
       "  1),\n",
       " ('REFILE-Hikma and Barclays help Britains FTSE to climb higher', 1),\n",
       " ('Saudi Aramco, Shell plan to break up Motiva, divide up assets', 0),\n",
       " ('ES_F. Nice little cup-and-handle shaping up on the 15-minute. End-of-day SPY SPX favours a good day for the index. Will we see a gap open',\n",
       "  1),\n",
       " ('UVXY Put the chum out there at key support then next level down - careful',\n",
       "  0),\n",
       " ('HITK Resuming advance into new historical highs.', 1),\n",
       " ('Lithuanian beer makers sold 256.88 million liters of beer in 2005 , a rise of 4.5 per cent from the year-earlier figure of 245.92 million liters .',\n",
       "  1),\n",
       " ('In addition , Cramo and Peab have signed exclusive five-year rental agreements in Finland and have extended their existing rental agreements in the Swedish market for another five years .',\n",
       "  1),\n",
       " ('The developers of that project predict that once it is completed in April 2009 , Skanssi will attract some 4.5 million visitors annually .',\n",
       "  1),\n",
       " ('NSM ascending base breakout starting to gain traction; strong stock', 1),\n",
       " ('Long GPRO for a brealout trade', 1),\n",
       " ('Loss after taxes amounted to EUR 1.2 mn compared to a loss of 2.6 mn .', 1),\n",
       " ('NaturalGas Settles At 3-year Low DBO BNO', 0),\n",
       " ('GNRC finding support at its 10-day line so far.', 1),\n",
       " ('Lifetree was founded in 2000 , and its revenues have risen on an average by 40 with margins in late 30s .',\n",
       "  1),\n",
       " ('Total operating revenue grew by 27.6 year-on-year to EUR61m .', 1),\n",
       " ('Both operating profit and net sales for the three-month period increased , respectively from EUR15 .1 m and EUR131 .5 m , as compared to the corresponding period in 2005 .',\n",
       "  1),\n",
       " ('Compared with the FTSE 100 index , which rose 94.9 points ( or 1.6 ) on the day , this was a relative price change of -0.4 .',\n",
       "  0),\n",
       " ('Finnish management software solutions provider Ixonos Oyj net profit decreased to 369,000 euro ( 575,000 ) for the first quarter of 2008 from 669,000 euro ( 1.0 mln ) for the same period of 2007 .',\n",
       "  0),\n",
       " ('Glencore Cuts 2015 Budget, Plans To Divest From Lonmin', 0),\n",
       " ('Glencore blames rivals for creating metals glut', 0),\n",
       " ('This new representation extends Comptel s global presence to a total of 18 countries , serving over 250 customers in over 80 countries worldwide .',\n",
       "  1),\n",
       " ('Operating profit in the fourth quarter fell to EUR33m from EUR39m a year earlier .',\n",
       "  0),\n",
       " ('According to the company , in addition to normal seasonal fluctuation the market situation has weakened during autumn 2008 .',\n",
       "  0),\n",
       " ('Net sales increased to EUR655m in April to June 2010 from EUR438m a year earlier .',\n",
       "  1),\n",
       " ('The robust growth was the result of the inclusion of clothing chain Lindex in the Group in December 2007 .',\n",
       "  1),\n",
       " ('NUGT longer term bullish', 1),\n",
       " ('This is the second successful effort for the financial investor this year .',\n",
       "  1),\n",
       " ('Border Guard Service has banned the mooring of the company car-shipping ferry on its test travel at the railroad-car terminal of the Russian port as the border checkpoint is not yet ready .',\n",
       "  0),\n",
       " ('Finnish silicon wafer technology company Okmetic Oyj ( OMX Helsinki : OKM1V ) reported on Thursday ( 7 August ) an operating profit of EUR5 .3 m for the period January-June 2008 , up from EUR3 .3 m in the corresponding period in 2007 .',\n",
       "  1),\n",
       " ('ATVI ooks pretty bullish for now. from a short-term perspective, its got a good chance of maybe sliding back to 33.70 stocks investing',\n",
       "  1),\n",
       " ('Operating profit decreased to nearly EUR 1.7 mn , however .', 0),\n",
       " ('ADPnews - Jun 30 , 2009 - Finnish stainless steel maker Outokumpu Oyj HEL : OUT1V said yesterday it signed a three-year EUR 900 million USD 1.3 bn revolving credit facility .',\n",
       "  1),\n",
       " ('The announcement comes two weeks before a key licensing agreement expires between between the two companies which are embroiled in a disagreement over royalty payments for Texas Instrument chips which use Qualcomm-patented technology .',\n",
       "  0),\n",
       " ('The company also said that in Poland a profitability program has been launched at the Oborniki steel frame and sandwich panel plant .',\n",
       "  1),\n",
       " ('The Elcoteq group recently announced that the last three months of the previous year brought to it a major loss of more than half a billion kroons ( EUR 32 mln ) for the fifth quarter running .',\n",
       "  0),\n",
       " ('After Barclays and Bank of America, Citigroup has blockchain in sight', 1),\n",
       " ('YELP wayyy overvalued right now IMO. Should be trading single digits. May take a short pos. into earnings. Near term target 18 ......',\n",
       "  0),\n",
       " ('RBI surprises Street; Sensex pares gains after hitting mount 30k', 0),\n",
       " ('Orion Pharma s operating profit increased by 42.5 from 2004 .', 1),\n",
       " ('UPDATE 1-Cypress Semiconductor offers to buy Integrated Silicon Solution',\n",
       "  1),\n",
       " ('Finnish broadband data communication systems provider Teleste Oyj HEL : TLT1V said yesterday it returned to a net profit of EUR 2.7 million USD 3.8 m for the first nine months of 2010 versus a net loss of EUR 579,000 for the same period of 2009 .',\n",
       "  1),\n",
       " ('Apple breaks major support, here are some levels to watch - AAPL QQQ', 0),\n",
       " ('Earnings per share EPS amounted to EUR0 .03 , up from the loss of EUR0 .08 .',\n",
       "  1),\n",
       " ('Net sales surged by 30 to EUR 36 million .', 1),\n",
       " ('17 March 2011 - Goldman Sachs estimates that there are negative prospects for the Norwegian mobile operations of Norway s Telenor ASA OSL : TEL and Sweden s TeliaSonera AB STO : TLSN in the short term .',\n",
       "  0),\n",
       " ('Aberdeen Asset Management Gains Foothold In China', 1),\n",
       " ('Kone said in court papers that the union action delayed repairs to elevators at the federal courthouse on Jan. 21 and the Saltonstall state office building on Jan. 23 .',\n",
       "  0),\n",
       " ('Diluted earnings per share ( EPS ) rose to EUR 3.68 from EUR 0.50 .', 1),\n",
       " ('Finnish investment group Norvestia Oyj said its net profit fell to 23.5 mln euro 30.6 mln in 2006 from 33.5 mln euro 43.6 mln in 2005 .',\n",
       "  0),\n",
       " ('The agreement strengthens our long-term partnership with Nokia Siemens Networks .',\n",
       "  1),\n",
       " ('Reed Elsevier share price slides on underwhelming full-year results', 0),\n",
       " ('Shares in BAE Systems hit 10-month high on rating upgrade', 1),\n",
       " ('The Australian company Mirabela Nickel has awarded Outokumpu Technology a contract for grinding technology for its nickel sulfide project in Bahia State , Brazil .',\n",
       "  1),\n",
       " ('GTAT Will re-enter short on bounce...', 0),\n",
       " ('Operating profit increased to EUR 14.0 mn from EUR 4.9 mn in the corresponding period in 2005 .',\n",
       "  1),\n",
       " ('Finland-based Elcoteq SE , a privately held provider of electronics manufacturing services to communications companies , said Thursday it signed a long-term manufacturing supply deal with communications equipment company Andrew Corp. .',\n",
       "  1),\n",
       " ('HELSINKI ( AFX ) - Shares closed higher , led by Nokia after it announced plans to team up with Sanyo to manufacture 3G handsets , and by Nokian Tyres after its fourth-quarter earnings report beat analysts expectations , dealers said .',\n",
       "  1),\n",
       " ('QIHU totally missed this one, was about to jump in on that 60 break test but didnt, congrats shorts',\n",
       "  0),\n",
       " ('Finnish software developer Done Solutions Oyj said its net profit increased to 3.5 mln euro ( 4.6 mln ) in 2006 from 2.3 mln euro ( 3.0 mln ) in 2005 .',\n",
       "  1),\n",
       " ('IBM staying strong', 1),\n",
       " ('Finnair s Tallinn-based subsidiary , Aero AS , carried 23,335 passengers , a decline of 60.8 , on routes between Helsinki and the Baltic capitals and within Southern Finland .',\n",
       "  0),\n",
       " ('narrows to EUR2 .8 m 9-mo 09 29 October 2009 - Finnish software and hardware developer Elektrobit Oyj HEL : EBG1V , or EB , said today that its net loss narrowed to EUR2 .8 m for the first nine months of 2009 from EUR35 .6 m for the same period a year ago .',\n",
       "  1),\n",
       " ('StanChart and RBS struggle in Bank of England stress tests', 0),\n",
       " ('YHOO making new HOD', 1),\n",
       " ('The sale will lead to a pretax capital gain of EUR 22 million for the Finnish company in 2011 .',\n",
       "  1),\n",
       " ('XLB the weakest sector this year and possible false breakout', 0),\n",
       " ('STX long play, another consistent profit zone.. check it out', 1),\n",
       " ('Finnlines estimated in its annual general meeting that 2008 will be financially a tough year due to large investments .',\n",
       "  0),\n",
       " ('saltwaternurse INO can test 10 again in next few days. time to take some profits here. or hedge with puts.',\n",
       "  0),\n",
       " ('Infection worries prompt regulatory reviews of Gilead leukaemia drug GILD via YahooFinance',\n",
       "  0),\n",
       " ('Britains FTSE forges ahead as Shire surges', 1),\n",
       " ('( ADPnews ) - Dec 1 , 2009 - Finnish cutlery and hand tools maker Fiskars Oyj Abp ( HEL : FISAS ) said today that it will make redundant a total of 18 office and management staff members of its subsidiary Iittala Group Ltd. .',\n",
       "  0),\n",
       " ('After the reporting period , BioTie North American licensing partner Somaxon Pharmaceuticals announced positive results with nalmefene in a pilot Phase 2 clinical trial for smoking cessation .',\n",
       "  1),\n",
       " ('I am not optimistic about amzn both fundementals and charts look like poopoo this quarter.',\n",
       "  0),\n",
       " ('The company will use the assets for strengthening its balance sheet and financial position .',\n",
       "  1),\n",
       " ('ArcelorMittal Chief Executive Officer Lakshmi Mittal has already cut output at some furnaces .',\n",
       "  0),\n",
       " ('The broker has initiated both Palfinger AG and Konecranes OYJ with buy recommendations , with 51 and 42 eur price targets respectively .',\n",
       "  1),\n",
       " ('Pretax profit rose to EUR 0.6 mn from EUR 0.4 mn in the corresponding period in 2005 .',\n",
       "  1),\n",
       " ('Morrisons book second consecutive quarter of sales growth', 1),\n",
       " ('28 October 2010 - Finnish wood products technology supplier Raute Oyj HEL : RUTAV said today it swung to a net profit of EUR3m for the first nine months of 2010 versus a net loss of EUR5 .2 m for the same period a year earlier .',\n",
       "  1),\n",
       " ('mn , and pretax profit to EUR 46.4 mn from EUR 35.8 mn in the third quarter of 2006 .',\n",
       "  1),\n",
       " ('In 2006 , Kone received an order from Aker Yards to supply 43 customised elevators for the very first Genesis cruise ship which is scheduled to be completed in 2009 .',\n",
       "  1),\n",
       " ('Earnings per share were higher at 0.48 against 0.37 a year before and ahead of market consensus of 0.40 eur .',\n",
       "  1),\n",
       " ('Travis Perkins Hikes Dividend 20 As Profit And Revenue Rise', 1),\n",
       " ('The transaction strengthens our position ... in design and branded goods , said Fiskars president and CEO Heikki Allonen , pointing out that the two groups have relatively few overlapping operations .',\n",
       "  1),\n",
       " ('In the second quarter of 2010 , the group s net profit rose to EUR 3.1 million from EUR 2.5 million in April-June 2009 .',\n",
       "  1),\n",
       " ('UK WINNERS LOSERS: Aviva And Friends Life Lead FTSE 100 Gainers', 1),\n",
       " ('At the same time , sales development in Russia was boosted by the opening of Stockmann Nevsky Centre in St Petersburg .',\n",
       "  1),\n",
       " ('Nokia and Elisa will work together to bring a superior mobile gaming experience for Elisa customers .',\n",
       "  1),\n",
       " ('According to Swedish authorities , traces of the very toxic osmium tetroxide have been found on the coast of PerÃmeri , the Northernmost part of the Gulf of Bothnia .',\n",
       "  0),\n",
       " ('Nordea sees a return to positive growth for the Baltic countries in 2011 .',\n",
       "  1),\n",
       " ('All the ferries had run into trouble just outside the Stockholm archipelago , made up of more than 20,000 islands .',\n",
       "  0),\n",
       " ('This is the first time Finnair has been awarded an agreement with the UK government .',\n",
       "  1),\n",
       " ('This will bring cost savings of about EUR 3mn a year .', 1),\n",
       " ('Ocwen Reaches Settlement With California Regulator', 1),\n",
       " ('HELSINKI ( Thomson Financial ) - M-real said it will exercise an option to buy a 50MW natural gas power plant and land in Kyroskoski , Finland , for around 13 mln eur from Kyro Oyj .',\n",
       "  1),\n",
       " ('With the acquisition , the company will expand its offering to North , Central and South America , it said .',\n",
       "  1),\n",
       " ('The number of bodily injury cases quadrupled in 2000-2006 .', 0),\n",
       " ('Operating profit totalled EUR 9.6 mn , down from EUR 42.0 mn the year before .',\n",
       "  0),\n",
       " ('The company will enhance the GPRS capability in the existing 12 IDEA telecom service areas and add 10 more service areas to its network .',\n",
       "  1),\n",
       " ('RT alphatrends VMarkets Are Still Acting Weak SPY QQQ XLF SMH IWM', 0),\n",
       " ('Last year s net sales rose to EUR 68.3 million from EUR 62.2 million .', 1),\n",
       " ('Via the move , the company aims annual savings of some EUR3m , the main part of which are expected to be realized this year .',\n",
       "  1),\n",
       " ('Finnish Ahlstrom Corporation will double its investments in a new specialty glassfiber reinforcement plant in South Carolina , in the US .',\n",
       "  1),\n",
       " ('KITD Looking for a oversold bounce.', 1),\n",
       " ('According to Finnish Aktia Bank s Managing Director Jussi Laitinen , the bank s aim is to triple the number of its customers in Finland in the next five years .',\n",
       "  1),\n",
       " ('PPG Descending triangle but I am liking it for an upside break', 1),\n",
       " ('Windows 10 is awful why did it force an upgrade on my pc without my consent? windows Microsoft msft',\n",
       "  0),\n",
       " ('UPDATE 1-AstraZeneca boosts respiratory unit with 575 mln Takeda deal', 1),\n",
       " ('SBUX inverted head shoulders pattern in the works. bullish.', 1),\n",
       " ('Walter Investment Management Corp Receives a Sell from Compass Point WAC',\n",
       "  0),\n",
       " ('Vaisala s net profit for the third quarter of 2007 dropped to 3.0 mln euro ( 4.3 mln ) from 6.8 mln euro ( 9.8 mln ) for the same period of 2006 .',\n",
       "  0),\n",
       " ('Talvivaara has secured a 10-year off-take agreement for 100 per cent of its main output of nickel and cobalt to Norilsk Nickel and entered into a long-term zinc streaming agreement with Nyrstar NV .',\n",
       "  1),\n",
       " ('Combining this deep domain expertise with our Application Service Management ASM and outsourcing service offerings has now proved to be a winning combination .',\n",
       "  1),\n",
       " ('Peroni and Grolsch put up for sale as AB InBev plans acquisition of SABMiller',\n",
       "  1),\n",
       " ('Finnish software and hardware developer Elektrobit Oyj HEL : EBG1V , or EB , said today it will temporarily lay off up to 200 people for a maximum of 90 day in Finland , aiming to achieve cost savings of EUR 1.7 million USD 2m in the second half of 2010 .',\n",
       "  0),\n",
       " ('pcln back over \"up\" trendline from 104', 1),\n",
       " ('comparable operating profit totaled EUR 854mn , up from EUR 730mn in 2004 .',\n",
       "  1),\n",
       " ('European shares plunge, roiled by BHP and oil; hopes turn to ECB', 0),\n",
       " ('Glaston s net profit for the third quarter of 2007 dropped to 2.4 mln euro ( 3.5 mln ) from 3.5 mln euro ( 5.1 mln ) for the corresponding period of 2006 .',\n",
       "  0),\n",
       " ('Ruukki Romania , the local arm of Finnish metal producer Ruukki , increased its capital by 900,000 euro ( 1.14 mln ) through cash contribution , it was reported on September 19 , 2006 .',\n",
       "  1),\n",
       " ('NASDAQ-listed Yahoo Inc has introduced a new service that enables Malaysians to take their favorite Internet content and services with them on their mobile phones .',\n",
       "  1),\n",
       " ('Operating profit improved by 16.7 to EUR 7.7 mn .', 1),\n",
       " ('Finnish Cargotec s Kalmar , the business area providing container handling solutions , has been awarded an order for a further ten E-One rubber-tyred gantry RTG cranes from Saigon Newport Company SNP , in Vietnam .',\n",
       "  1),\n",
       " ('Finnair was able to operate most of its leisure flights despite the strike .',\n",
       "  1),\n",
       " ('BAC ADSK NFLX long this morning', 1),\n",
       " ('Finnish laboratory liquid handling and diagnostic test systems developer Biohit Oyj OMX Helsinki : BIOBV issued on Tuesday 3 June a profit warning for the financial year 2008 .',\n",
       "  0),\n",
       " ('There has been some recovery of the base metals prices and increased demand for metals in China , however .',\n",
       "  1),\n",
       " ('Rio Tinto swings to loss, drops dividend policy', 0),\n",
       " ('DXCM - Making higher highs higher lows as it consolidates over past several weeks. 26.70 was all time high (2006).',\n",
       "  1),\n",
       " ('Significance : Teleste has emphasised that with its large size and growing economy , as well as the rapid development of its TV services distribution industry , Poland is viewed as an attractive market .',\n",
       "  1),\n",
       " ('Technopolis and the St. Petersburg government signed a cooperation memorandum in October 2005 to set up a techno-park in the Neudorf production zone in the village of Strelny , in the St. Petersburg suburbs .',\n",
       "  1),\n",
       " ('CompaniesNew Aggreko CEO to reshape business, strip costs', 1),\n",
       " ('FB still a dog going much lower this week', 0),\n",
       " ('VRTX early technical BUY signal... for confirmation 86 it needs some fundam. incentive',\n",
       "  1),\n",
       " ('TZOO a close above 28.64 and we are ready to rock and roll', 1),\n",
       " ('Tesco share price jumps as Q3 sales top estimates', 1),\n",
       " ('LNT Increases Annual Dividend Target to 1.80Share from 1.70Share', 1),\n",
       " ('The company anticipates its turnover for the whole 2010 to surpass that of the previous year when it was EUR 67.1 million .',\n",
       "  1),\n",
       " ('Our design team has long admired Marimekko s vivid patterns and colors .',\n",
       "  1),\n",
       " ('LT s net profit for the whole 2010 dropped to EUR 36 million from EUR 45 million for 2009 .',\n",
       "  0),\n",
       " ('CNP Sell Short Position on CNP,...Closed for Profit 59,367.00 (7.75)', 1),\n",
       " ('IWM buy programs popping iwm for close print cheap money means higher stock prices spy robot buying',\n",
       "  1),\n",
       " ('At the end of the review period , Nordic Aluminium s order book stood at EUR 8.77 mn compared to EUR 7.04 in 2005 .',\n",
       "  1),\n",
       " ('Finnair s passenger load factor , which measures the number of sold seats as a share of all available seats , dropped by 1.3 percentage points to 76.7 in September .',\n",
       "  0),\n",
       " ('Our extensive co-operation will also bolster SysOpen Digia s position in the domestic operator market , Kallioranta adds .',\n",
       "  1),\n",
       " ('TSLA Pullback_Time', 0),\n",
       " ('According to Finnish Metso Minerals , the value of the company s orders has gone up to EUR 1.9 bn in 12 months .',\n",
       "  1),\n",
       " ('Nevertheless , its market share rose to 49.14 percent from 48.51 percent a year earlier .',\n",
       "  1),\n",
       " ('According to Finnish insurance companies Tapiola , Local Insurance Group ( LÃhivakuutus ) , and Pohjola the two fierce storms at the end of July and in the beginning of August 2010 that felled trees around Finland have speeded up sales of forest insurance .',\n",
       "  1),\n",
       " ('Pivotal Research upgrading GOOGL to buy. stocktrading', 1),\n",
       " ('Finnish shipping company Finnlines , of the Grimaldi Group , reports its net sales decreased to EUR 241.8 mn in January-June 2009 from EUR 384.0 mn in the corresponding period in 2008 .',\n",
       "  0),\n",
       " ('NORDIC BUSINESS REPORT-26 June 2006-Metso Corporation wins EUR50m equipment order in Australia -Â 1998-2006 M2 COMMUNICATIONS LTD The Finnish engineering and technology group Metso Corporation said on Monday ( 26 June ) that it has received a EUR50m equipment order in Australia .',\n",
       "  1),\n",
       " ('TRX Long setup. MACD cross.', 1),\n",
       " ('New recommendation from Carl Kirst of BMO Capital Markets for WMB is BUY.Price target is 62:',\n",
       "  1),\n",
       " ('The acquisition is expected to improve access to chrome ore resources in Turkey .',\n",
       "  1),\n",
       " ('GRPN might be selling off ahead of P earnings...', 0),\n",
       " ('Apple: Another attempt to break out on Apple but with weak PVT AAPL Trading investing aapl',\n",
       "  1),\n",
       " ('The company s consolidated operating profit amounted to EUR 15.86 mn , up from EUR 4.14 mn year-on-year .',\n",
       "  1),\n",
       " ('isrg trading at all-time high after strong earnings report with 4 days of short interest.',\n",
       "  1),\n",
       " ('The move was triggered by weak demand for forestry equipment and the uncertain market situation .',\n",
       "  0),\n",
       " ('( ADP News ) - Feb 11 , 2009 - Finnish management software solutions provider Ixonos Oyj ( HEL : XNS1V ) said today its net profit rose to EUR 3.5 million ( USD 4.5 m ) for 2008 from EUR 3.1 million for 2007 .',\n",
       "  1),\n",
       " ('HSBC Says Unit to Book 585 Million Charge on Settlement', 0),\n",
       " ('Japans Nikkei lands Financial Times in 1.3 billion deal', 1),\n",
       " ('FTSE led lower by MS, GlaxoSmithKline', 0),\n",
       " ('UGAZ Will this cold put a dent in the massive horizontal rig production. Who knows',\n",
       "  0),\n",
       " ('Finnish IT solutions provider Affecto Oyj said today that it has won a frame contract , valued at some EUR2m , to implement the next phase of its insurance application for South African Mutual Federal Insurance Company Limited MF .',\n",
       "  1),\n",
       " ('Earnings per share for the quarter were also higher year-on-year at 0.33 eur versus 0.27 , and above market expectations of 0.28 eur .',\n",
       "  1),\n",
       " ('REFILE-UPDATE 4-Britains Lloyds to pay first dividend since rescue', 1),\n",
       " ('The company will also be compensated for acting as a reserve batch plant .',\n",
       "  1),\n",
       " ('UPDATE: CIB, Legal General Sell Egyptian Life Joint Venture To AXA', 1),\n",
       " ('Nokia Multimedia s net sales totaled EUR 5.7 bn , up 45 from the corresponding period in 2005 .',\n",
       "  1),\n",
       " ('Just stumbled upon this amazing chart - OFIX - holy guac. SUPER overbought.',\n",
       "  0),\n",
       " ('TXRH reports Q1 EPS of 0.37 versus the estimated 0.35, beating by 0.02. EPS were Up 19 from the same quarter last year.',\n",
       "  1),\n",
       " ('We have tailored our solutions to meet Solel s technical requirements , and the result is both cost-effective manufacturing and highest-quality reflectors .',\n",
       "  1),\n",
       " ('Cash flow from operations in January-December 2008 was a negative EUR 18.1 mn compared to EUR 39.0 mn in the corresponding period in 2007 .',\n",
       "  0),\n",
       " ('Chief executive officer Olli-Pekka Kallasvuo s changes on Tuesday mark the third time in nine months the company has reshuffled executives and operations as Nokia loses ground to Apple s iPhone and RIM s BlackBerry .',\n",
       "  0),\n",
       " ('The decision means temporary lay-offs of fixed duration at the company s Nastola and Jyvaskyla units , in southern and central Finland , respectively .',\n",
       "  0),\n",
       " ('The fund at fair value will increase correspondingly .', 1),\n",
       " ('The stock was hit by the profit warning of Finnish rival Rautaruukki Oyj ( OMX : RTRKS ) .',\n",
       "  0),\n",
       " ('a January 11 , 2010 EPHC board of directors has approved an increase in the quarterly dividend from 0.03 to 0.05 per share .',\n",
       "  1),\n",
       " ('UPM-Kymmene has generated seventeen consecutive quarters of positive Cash Flow from Operations .',\n",
       "  1),\n",
       " ('The objective of the planned measures is to achieve significant savings in the next few years .',\n",
       "  1),\n",
       " ('Svyturys-Utenos Alus , which is controlled by the Nordic group Baltic Beverages Holding ( BBH ) , posted a 4.7-per-cent growth in beer sales for January-May to 46.22 million litres .',\n",
       "  1),\n",
       " ('Operating profit for the three-month period increased from EUR1 .2 m , while revenue increased from EUR20 .2 m , as compared to the corresponding period in 2005 .',\n",
       "  1),\n",
       " ('FTSE 100 flat; Standard Chartered leads risers', 1),\n",
       " ('18 May 2010 - Finnish electronics producer Elcoteq SE HEL : ELQAV said today that it has signed an extensive cooperation agreement on industrialisation , manufacturing , distribution and after-market services for mobile phones with Japan s Sharp TYO : 6753 .',\n",
       "  1),\n",
       " ('AstraZeneca Acquires ZS Pharma in 2.7 Billion Deal', 1),\n",
       " ('In January-September 2009 , the Group s net interest income increased to EUR 112.4 mn from EUR 74.3 mn in January-September 2008 .',\n",
       "  1),\n",
       " ('Operating cash flow after investments totalled EUR 61.3 mn compared to EUR 75.3 mn in the corresponding period in 2007 .',\n",
       "  0),\n",
       " ('After the share purchase is completed , financing will also be provided to expand Latvia s broadband infrastructure and to develop new areas of business , including acquisitions of other companies .',\n",
       "  1),\n",
       " ('Finnish insurance company Fennia and Kesko Group are ending their loyal customer cooperation .',\n",
       "  0),\n",
       " ('Sainsbury sales slip again as price pressures take a toll', 0),\n",
       " ('Held its recent double bottom buy point of 56.57 almost to the penny today WMT',\n",
       "  1),\n",
       " ('louiebeene vwap is 1.63, held the trend line. Should be on a LOT of radars. NAVB',\n",
       "  1),\n",
       " ('He said he has been losing five families a month to the economy as many make alternative arrangements to save money .',\n",
       "  0),\n",
       " ('amrn Full bull call spread ranging July to Jan 15. Lets see what this baby does,',\n",
       "  1),\n",
       " ('According to Arokarhu , some of the purchases that had been scanned into the cash register computer disappeared when the total sum key was pressed .',\n",
       "  0),\n",
       " ('After this purchase , Cramo will become the second largest rental services provider in the Latvian market .',\n",
       "  1),\n",
       " ('This new partnership agreement represents a significant milestone for both parties .',\n",
       "  1),\n",
       " ('Operating profit declined mainly due to the increased cost of wood and recycled fiber and the strengthened euro .',\n",
       "  0),\n",
       " ('In Finland , the city of Forssa has said it will not pay compensation to food industry companies HK Ruokatalo and Atria for the lye leak into tap water that occurred in March 2008 .',\n",
       "  0),\n",
       " ('amzn breaking', 1),\n",
       " ('Nokia - the world s largest mobile phone manufacturer - and China Postel - China s largest mobile phone distributor - have a long-standing partnership that continues to grow stronger over time .',\n",
       "  1),\n",
       " ('energy still failing to close above the 10D MA. continues to stand out weak XLE',\n",
       "  0),\n",
       " ('Tesco share price closes higher as two more directors leave grocer', 1),\n",
       " ('Technical indicators for the stock are bullish and SP gives NOK a positive 4 STARS out of 5 buy ranking .',\n",
       "  1),\n",
       " ('The fair value of the company s investment properties grew to EUR 2.803 billion at the end of March 2009 from EUR 2.691 million a year ago .',\n",
       "  1),\n",
       " ('In January-September 2007 , the group s net sales from continuing operations rose to EUR 213.1 mn from EUR 172.6 mn in the corresponding period in 2006 .',\n",
       "  1),\n",
       " ('Johnson Matthey revs up on clean air drive', 1),\n",
       " ('As a domestic business , Best-In is already close to Finnish dog owners .',\n",
       "  1),\n",
       " ('Tesla to recall 2,700 Model X SUVs over seat issue TSLA', 0),\n",
       " ('Earnings per share ( EPS ) amounted to a loss of to EUR0 .06 .', 0),\n",
       " ('Here come the shorts marchin in. GMCR. Lovin it!', 0),\n",
       " ('BRK.B SPY All time high tomorrow? 150k on the A shares, Dec 13, 2007.', 1),\n",
       " ('Scanfil , a systems supplier and contract manufacturer to the communications sector , will start personnel negotiations in Oulu , in Finland , to lay off staff temporarily .',\n",
       "  0),\n",
       " ('DNKN KKD DPZ LOCO Inside week buy triggers.', 1),\n",
       " ('Ramirent s net sales in the second quarterended June 30 were EURO 128.7 million about U.S. 163 million , a 3.3-percent increase compared with EURO 124.6 million for thesecond quarter last year .',\n",
       "  1),\n",
       " ('VRTX Vertex. Monthly -lower hilower lo, Long term uptrend intract so far',\n",
       "  1),\n",
       " ('Is Facebooks user engagement falling? FB', 0),\n",
       " ('Net sales will , however , increase from 2005 .', 1),\n",
       " ('Revenue grew 12 percent to ( x20ac ) 3.6 billion ( US 4.5 billion ) .', 1),\n",
       " ('PLUG Closed short position. Small gain. Not interested in options expiring worthless',\n",
       "  1),\n",
       " ('Turun kaupunkin , Finland based company has awarded contract to Lemminkainen Talotekniikka Oy for electrical installation work .',\n",
       "  1),\n",
       " ('Why AstraZeneca plc Dixons Carphone PLC Are Red-Hot Growth Stars!', 1),\n",
       " ('Last year , UPM cut production , closed mills in Finland and slashed 700 jobs .',\n",
       "  0),\n",
       " ('Tesco leads leap in FTSE 100; Marks Spencer drops', 1),\n",
       " ('SRV lowered its net sales estimate for the whole of 2008 due to uncertainties in housing sales .',\n",
       "  0),\n",
       " ('Sales of clothing developed best .', 1),\n",
       " ('Operating profit of the Asian plants grew markedly .', 1),\n",
       " ('Altia s operating profit jumped to EUR 47 million from EUR 6.6 million .',\n",
       "  1),\n",
       " ('Intertek swings to ÃÂ347 mln loss on oils slump', 0),\n",
       " ('Kingfisher share price slides on cost to implement new strategy', 0),\n",
       " ('Finnish forest industry group Stora Enso Oyj issued on Thursday ( 20 March ) a profit warning for the first quarter 2008 .',\n",
       "  0),\n",
       " ('Asahi could be about to snap up more of SABMillers beers ahead of AB InBev sale',\n",
       "  1),\n",
       " ('Why Alphabet Inc was just upgraded to buy GOOGL', 1),\n",
       " ('Long ENDP 26.23 on AGN bo rumor', 1),\n",
       " ('Viking Line head Jan Kaarstroem told TT that his company s ferries were well equipped to handle ice and that all the passengers were safe .',\n",
       "  1),\n",
       " ('Cooper SH , the UK distributor for lift equipment manufacturer Konecranes , won the five-year deal which involves low maintenance and fuel saving technologies .',\n",
       "  1),\n",
       " ('A high court in Finland has fined seven local asphalt companies more than lion ( 117 million ) for operating a cartel .',\n",
       "  0),\n",
       " ('Svyturys-Utenos Alus , which is controlled by the Nordic group Baltic Beverages Holding ( BBH ) , posted a 6.1 percent growth in beer sales for January-September to 101.99 million liters .',\n",
       "  1),\n",
       " ('BBRY lets see 14 today', 1),\n",
       " ('P bull flag on the daily, earnings on the table tomorrow -12 move.Will straddle this one into earnings..lots of vol guaranteed here',\n",
       "  1),\n",
       " ('Finnish Vaahto Group that provides paper-making technology and process machinery is starting negotiations concerning the temporary lay-offs of all 140 employees at the company s plants in Hollola and Tampere , in Finland .',\n",
       "  0),\n",
       " ('UPM s deliveries increased during the third quarter by 4 percent , and the efficiency of operations improved , Chief Executive Jussi Pesonen said .',\n",
       "  1),\n",
       " ('Morning Agenda: Shires Deal for NPS', 1),\n",
       " ('As a result some 20 persons will no longer be needed .', 0),\n",
       " ('The subscriptions increase Cargotec s share capital by 36,780 euros .', 1),\n",
       " ('PG Ackman making the big added efficiency argument. betting on operational imporvement in a huge conglomerate can go either way imo.',\n",
       "  1),\n",
       " ('Cash flow after investments amounted to EUR45m , down from EUR46m .', 0),\n",
       " ('Finnish silicon wafers manufacturer Okmetic Oyj said it swung to a net profit of 4.9 mln euro 6.3 mln in the first nine months of 2006 from a net loss of 1.8 mln euro 2.3 mln a year earlier .',\n",
       "  1),\n",
       " ('Nokia Siemens Networks has struggled to make a profit in the past two years .',\n",
       "  0),\n",
       " ('PRLB hanging tough in down market due to analyst upgrades last week. Up almost 3.',\n",
       "  1),\n",
       " ('SIGA Bid for Reargument Denied by Judge', 0),\n",
       " ('Sales rose to 300.9 mln eur compared with last year s 276.1 mln eur and in line with 299 mln eur consensus figure .',\n",
       "  1),\n",
       " ('In Finland , snow storms brought trees down on power lines , cutting off electricity for some 2,000 households .',\n",
       "  0),\n",
       " ('Nevertheless , Fitch notes that the business fundamentals of the three banks currently remain sound .',\n",
       "  1),\n",
       " ('FTSE rallies off three-month low, boosted by StanChart, Sainsbury', 1),\n",
       " ('Finnish financial group Aktia reports operating profit of EUR 44.4 mn in January-September 2009 , up from EUR 37.3 mn in the corresponding period in 2008 .',\n",
       "  1),\n",
       " ('Finlan s listed food industry company HKScan Group controlled companies in the Baltics improved revenues by EUR 3.5 mn to EUR 160.4 mn in 2010 from EUR 156.9 mn in the year before .',\n",
       "  1),\n",
       " ('As a result , the company currently anticipates net sales to increase and the operating result to be positive .',\n",
       "  1),\n",
       " ('Rapala estimates its net sales for 2008 will increase by between 8.0 pct and 12 pct assuming 2007 exchange rates .',\n",
       "  1),\n",
       " ('mugatushair Now it is time to short TSLA', 0),\n",
       " ('The OMX Nordic 40 OMXN40 index , comprising the 40 most traded Nordic stocks on the Nasdaq OMX exchange , closed down 0.87 at 1,064.14 points on Thursday .',\n",
       "  0),\n",
       " ('REFILE-Aviva Investors to move 34 bln euros in assets from AXA fund arm',\n",
       "  0),\n",
       " ('RT StockTwits RT fallondpicks Breadth Consolidates: After weeks of steady gains,advances in mkt breadth slowe... QQQ',\n",
       "  0),\n",
       " ('Net income from life insurance rose to EUR 16.5 mn from EUR 14.0 mn , and net income from non-life insurance to EUR 22.6 mn from EUR 15.2 mn in 2009 .',\n",
       "  1),\n",
       " ('23 April 2010 - Finnish construction and engineering company Outotec Oyj HEL : OTE1V said today it slipped to a net loss of EUR7 .3 m in the first quarter of 2010 from a net profit of EUR12 .5 m in the corresponding period last year .',\n",
       "  0),\n",
       " ('The Dutch broker noted that Nokian Tyres reported a good first quarter in 2006 , above or in line with consensus .',\n",
       "  1),\n",
       " ('Insight hires Avivas David Hillier for multi-asset team', 1),\n",
       " ('The diluted loss per share narrowed to EUR 0.27 from EUR 0.86 .', 1),\n",
       " ('According to CEO Matti Karppinen , Frozen Foods posted a good result in 2010 , as it did in 2009 .',\n",
       "  1),\n",
       " ('ACAD under 2 today?', 0),\n",
       " ('INTC AAPL strong, tech leads DOW higher', 1),\n",
       " ('Brewer AB InBev seeks 275 bln tie-up with SABMiller', 1),\n",
       " ('It is also 7.7 pct above the 12-month volume weighted average price of the stock .',\n",
       "  1),\n",
       " ('AAPL double bottom could be in, keep in mind', 1),\n",
       " ('Rautaruukki said construction group YIT has awarded it a 2.5 mln eur contract to supply the steel structures for a new bridge spanning the Kemijoki river in Northern Finland .',\n",
       "  1),\n",
       " ('Small firms are suffering at the moment because they are likely to have money trouble , he added .',\n",
       "  0),\n",
       " ('Business boomed after Ostrom helped plant a small story about Rapala lures in a Life magazine issue that featured Marilyn Monroe on the cover .',\n",
       "  1),\n",
       " ('Baird likes TSLA - upgrades to outperform, lifts price target to 300. Research firm also sees no capital raise necessary in next few qtrs',\n",
       "  1),\n",
       " ('FB TSLA cracking lower early. short correction stocks', 0),\n",
       " ('ADP News - Nov 6 , 2008 - Finnish retail software developer Aldata Solution Oyj OMX : ALD1V said today that it swung to a net profit of EUR 2.1 million USD 2.7 m for the first nine months of 2008 versus a net loss of EU',\n",
       "  1),\n",
       " ('YHOO About to break out on the 5-min...', 1),\n",
       " ('FB they are hitting everything in sight.short it. but twtr', 0),\n",
       " ('EA points to the two Facebook games and accuses ZNGA of copyright infringement.',\n",
       "  0),\n",
       " ('Cision says the sale will return its U.K. operation to profitability .', 1),\n",
       " ('The mill has long traditions and holds an established position in the markets .',\n",
       "  1),\n",
       " ('Tesco sales recover as focus returns to core business', 1),\n",
       " ('FDA approves NPS drug, in move validating Shire takeover deal', 1),\n",
       " ('Severn Trent share price jumps as Canadian investor renews pursuit of utility',\n",
       "  1),\n",
       " ('SPY cmon bulls buy DIPS!', 1),\n",
       " ('TeliaSonera said about 100 million will be invested in the next year in the region to bring mobile coverage to about 90 of Nepal s population .',\n",
       "  1),\n",
       " ('Dirk Jones , head of Financial Institutions Client Sales Management , GTS , Citigroup , Inc , said , Citi is extremely pleased to be providing global custody services to Pohjola Group Bank .',\n",
       "  1),\n",
       " ('Thanks to the internet , consumers compare products more than previously and Finnish companies are not competitive .',\n",
       "  0),\n",
       " ('Deutsche Bank cuts SBUX', 0),\n",
       " ('Finnish telecoms software developer Tecnomen Oyj said on December 5 , 2006 it won a 3.3 mln ( 2.5 mln euro ) order to supply an expansion of the charging and messaging systems for the mobile and fixed networks of Brasil Telecom .',\n",
       "  1),\n",
       " ('A purchase agreement for 7,200 tons of gasoline with delivery at the Hamina terminal , Finland , was signed with Neste Oil OYj at the average Platts index for this September plus eight US dollars per month .',\n",
       "  1),\n",
       " ('In future , the company intends to look for know-how from outside the company and to cooperate with other actors in the sector .',\n",
       "  1),\n",
       " ('Earnings per share ( EPS ) amounted to EUR1 .37 , down from EUR2 .30 .', 0),\n",
       " ('Breakingviews: IAG can pay more for Aer Lingus', 1),\n",
       " ('The number of collection errors fell considerably , and operations speeded up .',\n",
       "  1),\n",
       " ('Section : Regional News - The demand in Finnair s Asian traffic , measured in passenger kilometers , was up 34.9 in August compare to last year .',\n",
       "  1),\n",
       " ('Novartis buys remaining rights to GSK treatment in deal up to 1 billion',\n",
       "  1),\n",
       " ('2nd raise this year. QCOR Questcor Increases Quarterly Cash Dividend 20 Percent..',\n",
       "  1),\n",
       " ('Should you buy Associated British Foods plc, Great Portland Estates plc and Dunelm Group plc following todays news?',\n",
       "  1),\n",
       " ('Kinder Morgan and BP Form Joint Venture Limited Liability Company to Purchase ...',\n",
       "  1),\n",
       " ('GILD 91 now support. IBB BIB', 1),\n",
       " ('Those uncertainties cloud the long-term outlook .', 0),\n",
       " ('Operating loss totalled EUR 0.3 mn , down from a profit of EUR 5.1 mn in the first half of 2009 .',\n",
       "  0),\n",
       " ('Sainsbury sells unit to LloydsPharmacy', 1),\n",
       " ('that was quick, out FIO 21.35, market tanking, scaling down longs now', 0),\n",
       " ('The majority of the company s personnel in Finland is temporarily laid off from one to six weeks in the period from February to June 2009 period .',\n",
       "  0),\n",
       " ('Qualcomm: 10 Dividend Increase Rewards Patient Investors, The Future Looks Bright QCOM',\n",
       "  1),\n",
       " ('Barclays sells benchmark indices unit to Bloomberg', 1),\n",
       " ('The operating margin of Aker Yards Cruise Ferries division went down from 8.3 to 6.4 in the first quarter of 2007 .',\n",
       "  0),\n",
       " ('In July-September 2008 , YIT s net sales increased to EUR 970.8 mn , compared to EUR 906.8 mn in the corresponding period in 2007 .',\n",
       "  1),\n",
       " ('It projected revenue of 2.2 billion to 2.3 billion , slightly higher than analyst estimates of 2.19 billion .',\n",
       "  1),\n",
       " ('Hargreaves Lansdown bucks weak markets to see assets rise 2.6 percent', 1),\n",
       " ('Added long at friday close SPY LABU BLUE AMZN', 1),\n",
       " ('Net profit fell by almost half to Ã 5.5 million from Ã 9.4 million at the end of 2007 .',\n",
       "  0),\n",
       " ('The Helsinki-based company , which also owns the Salomon , Atomic and Suunto brands , said net profit rose 15 percent in the three months through Dec. 31 to ( x20ac ) 47 million ( 61US million ) , from ( x20ac ) 40.8 million a year earlier .',\n",
       "  1),\n",
       " ('TSLA recall', 0),\n",
       " ('efficiency improvement measures 20 January 2010 - Finnish stationery and gift retailer Tiimari HEL : TII1V said today that it will continue to improve its operational efficiency , by focusing on its profitable core operations .',\n",
       "  1),\n",
       " ('CompaniesKingfisher bid for Mr Bricolage runs into trouble', 0),\n",
       " ('TSLA announces a recall and the stock doesnt sell off. This stock is teflon. Wont last forever.',\n",
       "  1),\n",
       " ('Profit for the period totaled EUR 39.4 mn , up from EUR 33.9 mn in the corresponding period in 2006 .',\n",
       "  1),\n",
       " ('TELECOMWORLDWIRE-7 April 2006-TJ Group Plc sells stake in Morning Digital Design Oy Finnish IT company TJ Group Plc said on Friday 7 April that it had signed an agreement on selling its shares of Morning Digital Design Oy to Edita Oyj .',\n",
       "  1),\n",
       " ('LG still paying price for dividend cut during crisis, chief says', 0),\n",
       " ('Amazon declares best ever Black Friday and Cyber Monday for Kindle family via Engadget AMZN',\n",
       "  1),\n",
       " ('That would be an increase from estimated sales of 117 million last year .',\n",
       "  1),\n",
       " ('In the third quarter of fiscal 2008 Efore swung to a net loss of EUR 400,000 versus a net profit of EUR 200,000 for the corresponding period of fiscal 2007 .',\n",
       "  0),\n",
       " ('Standard Life share price: Insurer buys advice firm Pearson Jones', 1),\n",
       " ('Both operating profit and net sales for the 12-month period increased , respectively from EUR4 .7 m and EUR26 .7 m , as compared to 2004 .',\n",
       "  1),\n",
       " ('AAPL I am big OUT from this. seems its falling towards 530.. :(', 0),\n",
       " ('X marks the recall: Tesla recalls ModelX for faulty 3rd row seat. TSLA', 0),\n",
       " ('MTD (Mettler-Toledo) ready for a breakout', 1),\n",
       " ('Residentialconstruction in particular has picked up in several markets .',\n",
       "  1),\n",
       " ('The acquisition of Boomeranger Boats Oy is in line with the Done Solutions strategy of developing its business through company acquisitions .',\n",
       "  1),\n",
       " ('Small investors have voiced fears that the shares will end up with risk investors .',\n",
       "  0),\n",
       " ('The seminar introduced modern , clean technologies and products , financial tools and sponsorship programs for energy and environment projects as well as the potential to develop clean energy in Vietnam .',\n",
       "  1),\n",
       " ('India s trade with Russia currently stands at four billion dollars , growing 9.6 per cent in fiscal 2007 .',\n",
       "  1),\n",
       " ('Return on equity stood at 18.3 compared to 15.4 in the third quarter of 2005 .',\n",
       "  1),\n",
       " ('Earnings per share ( EPS ) amounted to EUR0 .98 , up from the loss of EUR0 .02 .',\n",
       "  1),\n",
       " ('longed AMZN 300 189.82', 1),\n",
       " ('KIOR My god. Market getting crushed today. Gotta hold if anything g should recover some tomorrow I imagine.',\n",
       "  0),\n",
       " ('Net sales decreased to EUR 220.5 mn from EUR 470.0 mn in the corresponding period in 2009 .',\n",
       "  0),\n",
       " ('So far Norwegian Norske Skog has reduced the staff levels by 1,000 people and plans to reduce production by 200,000 tons in 2008 , while Finnish-Swedish Stora Enso is to cut staff by 1,700 people and production by 500,000 tons .',\n",
       "  0),\n",
       " ('Suominen Corporation estimates that the cost-cutting program that started in autumn 2005 , higher sales prices , and expected growth in volume of Wet Wipes , will make the company s operations more profitable .',\n",
       "  1),\n",
       " ('Re-use back into PET bottles has also steadily increased and the rate of use in strapping tape has picked up again after a dip in 2005 , Petcore said previously .',\n",
       "  1),\n",
       " ('EBIT excluding non-recurring items , totalled EUR 67.8 mn , up from EUR 38.1 mn .',\n",
       "  1),\n",
       " ('Finnish high technology provider Vaahto Group reports net sales of EUR 41.8 mn in the accounting period September 2007 - February 2008 , an increase of 11.2 from a year earlier .',\n",
       "  1),\n",
       " ('I am extremely delighted with this project and the continuation of cooperation with Viking Line .',\n",
       "  1),\n",
       " ('Raute posted a net profit of 1.8 mln euro 2.6 mln for the third quarter of 2007 , compared to a net loss of 299,000 euro 430,000 for the corresponding period of 2006 .',\n",
       "  1),\n",
       " ('Aspen to Buy Anaesthetics From AstraZeneca for 520 Million', 1),\n",
       " ('More than a third of the original participants dropped out due to nausea and other side effects .',\n",
       "  0),\n",
       " ('Paper companies were in negative territories , with Stora Enso R shedding 1.62 pct to 12.73 eur , UPM-Kymmene down 0.80 pct at 18.64 eur and M-real B 0.18 pct lower at 5.57 eur .',\n",
       "  0),\n",
       " ('Activision Blizzard Media Networks Announces Record Esports Viewership ATVI partnered with HDSI for 9 tournament',\n",
       "  1),\n",
       " ('TSLA lots of green on the 5 min, watch the hourly 259.33 possible resistance currently 257.00',\n",
       "  1),\n",
       " ('TSLA not dipping - testing the 200 day ma', 1),\n",
       " ('Operating profit totaled EUR 5.5 mn , up from EUR -0.7 mn .', 1),\n",
       " ('Sold out TZA 45 PUT (down 1), which were hedging my 45 CALL. Letting the calls ride solo now.',\n",
       "  1),\n",
       " ('According to the Latvian business register , Uponor Latvia closed in red with LVL 99,000 EUR 139,538.17 USD 194,556.48 on turnover of LVL 2.346 mn for 2009 .',\n",
       "  0),\n",
       " ('Arm slammed by handset sales outlook', 0),\n",
       " ('HCP Come to the party and buy this -gonna give solid gains and a dividend',\n",
       "  1),\n",
       " ('IWM same conditions that sent markets to tumble all hitting this week', 0),\n",
       " ('Renatta Fr0van kjepeneter RPTL Strong close 4 PLNR coming', 1),\n",
       " ('A survey conducted by Taloustutkimus for Sampo Life shows that companies are badly prepared to losing key staff members .',\n",
       "  0),\n",
       " ('Australia clears AB Inbevs 100 billion SABMiller buyout plan', 1),\n",
       " ('BRIEF-Legal Generals retirement business books 4 billion stg H1 sales', 1),\n",
       " ('Adanac Molybdenum of Canada has ordered grinding technology for its molybdenum project in British Columbia , Canada , while Shalkiya Zinc of Kazakhstan has awarded a contract for grinding technology for the Shalkiya zinc-lead project in Kazakhstan .',\n",
       "  1),\n",
       " ('Nordea Group s operating profit increased in 2010 by 18 percent year-on-year to 3.64 billion euros and total revenue by 3 percent to 9.33 billion euros .',\n",
       "  1),\n",
       " ('Imperial Tobacco Adds Quarterly Dividends After Profit Rose', 1),\n",
       " ('Thanks to the multiplying effect of wagon performance , transport will be much more efficient , says development manager Juha Malkia from VR Cargo .',\n",
       "  1),\n",
       " ('In the first quarter of 2010 , the mark-to-market result was a pretax profit of EUR 133 million versus a loss of EUR 32 million in the same period last year .',\n",
       "  1),\n",
       " ('GOOG Testing the 200 day after some consolidation', 1),\n",
       " ('NIHD insiders got this one wrong. Looking for bottom. Rsi under 30', 0),\n",
       " ('Earnings per share for January-June 2010 were EUR0 .30 , an increase of 20 year-on-year EUR0 .25 .',\n",
       "  1),\n",
       " ('In the second quarter of 2010 , the group s net profit rose to EUR3 .1 m from EUR2 .5 m in April-June 2009 .',\n",
       "  1),\n",
       " ('Earnings per share ( EPS ) for the first quarter 2007 amounted to EUR0 .07 , up from EUR0 .04 .',\n",
       "  1),\n",
       " ('CRK time to accumulate for a long position with far more upside than downside',\n",
       "  1),\n",
       " ('AstraZeneca sells US drug rights to Perrigo for 380 mln', 1),\n",
       " ('Elektrobit ( EB ) has renewed its IT infrastructure contract with ICT services provider Fujitsu Services for EB s Patja service .',\n",
       "  1),\n",
       " ('This resulted in improved sales figures in Sweden .', 1),\n",
       " ('26 January 2011 - Finnish metal products company Componenta Oyj ( HEL : CTH1V ) said yesterday its net loss narrowed to EUR500 ,000 in the last quarter of 2010 from EUR5 .3 m for the same period a year earlier .',\n",
       "  1),\n",
       " ('Operating profit totalled EUR 1.22 mn , down from EUR 3.56 mn in the first quarter of 2008 .',\n",
       "  0),\n",
       " ('EUR928 ,000 in Q1 2010 6 May 2010 - Finnish textile and clothing design company Marimekko Oyj ( HEL : MMO1V ) said today its net profit rose to EUR928 ,000 in the first quarter of 2010 from EUR13 ,000 in the corresponding period a year earlier .',\n",
       "  1),\n",
       " ('YMI Long setup. Closed above the 20MA. MACD cross. November catalyst.', 1),\n",
       " ('fb small long 109.25 via calls', 1),\n",
       " ('The stock is trading above both its MAPs and the 50-day MAP of SEK72 .983 is higher than the 200-day MAP of SEK70 .283 , a bullish indicator .',\n",
       "  1),\n",
       " ('Order intake , on the other hand , is expected to be stronger than in 2007 .',\n",
       "  1),\n",
       " ('Finnair s total traffic decreased by 8.7 in terms of revenue passenger kilometres .',\n",
       "  0),\n",
       " ('DISH weakness continues again. 49.43 area resistance after last week', 0),\n",
       " ('Mika Stahlberg , VP F-Secure Labs , said , We are excited and proud that F-Secure has been recognized by AV-Comparatives as the Product of the Year .',\n",
       "  1),\n",
       " ('Antti Orkola , president of Kemira GrowHow s Industrial Solutions unit , told Thomson Financial News the company has put off opening the mine as prices of phosphate have been quite depressed for a long time .',\n",
       "  0),\n",
       " ('Pretax loss totaled EUR 1.2 mn , down from a profit of EUR 2.1 mn in 2004 .',\n",
       "  0),\n",
       " ('The growth of net sales has continued favourably in the Middle East and Africaand in Asia Pacific .',\n",
       "  1),\n",
       " ('NetApp downgraded by Macquarie to underperform. 22.00 PT. NTAP NTAP via RatingsNetwork',\n",
       "  0),\n",
       " ('Apple Inc.: The Rip-Roaring Rally Is Just Beginning! (AAPL) InvestorPlace AAPL',\n",
       "  1),\n",
       " ('Net sales totaled EUR 93.6 mn , up from EUR 93.2 mn in the corresponding period in 2005 .',\n",
       "  1),\n",
       " ('Barclays share price subdued as bank faces fresh forex probe', 0),\n",
       " ('Exports accounted for 65.4 of net sales , representing an all time record for the company .',\n",
       "  1),\n",
       " ('Then , it said the contract was estimated to contribute more than EUR150m to its net sales in 2010 .',\n",
       "  1),\n",
       " ('Buffetts Company Reports 37 Percent Drop in 2Q Earnings', 0),\n",
       " ('Sainsburys says to outperform rivals in tough market', 1),\n",
       " ('COST Costco less than stellar day but it held the 50 day moving average',\n",
       "  0),\n",
       " ('Market share decreased on the route between Helsinki in Finland and Tallinn in Estonia by 0.1 percentage points to 24.8 .',\n",
       "  0),\n",
       " ('In a release , the Company said that Vocollect T2 customers in North America can now take advantage of its Voice Directed Warehousing solution and increase warehouse efficiency and productivity gains at a discounted price .',\n",
       "  1),\n",
       " ('Operating profit for the nine-month period increased from EUR13 .6 m , while net sales increased from EUR394 .7 m , as compared to the corresponding period in 2005 .',\n",
       "  1),\n",
       " ('Finnish dental care group Oral Hammaslaakarit Oyj posted a total net profit of 849,000 euro 1.1 mln in the first nine months of 2006 versus a net loss of 331,000 euro 421,000 in the same period of 2005 .',\n",
       "  1),\n",
       " ('AstraZeneca bags another cancer drug deal, this time with Inovio', 1),\n",
       " ('expecting SPY to close above 205.20 AAPL', 1),\n",
       " ('Food sales totalled EUR 323.5 mn in October 2009 , representing a decrease of 5.5 from October 2008 .',\n",
       "  0),\n",
       " ('TWTR The best scenario going forward is this stock slowly falling everyday....Which is quite probable...',\n",
       "  0),\n",
       " ('MillerCoors Delivers 2.9 Underlying Net Income Growth for 2014', 1),\n",
       " ('fi is developing cooperation in keyword advertising with Microsoft .', 1),\n",
       " ('RUSS Dont catch falling knives, but I think an entry is coming soon on this',\n",
       "  1),\n",
       " ('Tesla: Voluntary recall of 2,700 Model X vehicles, due to back seat issue. TSLA',\n",
       "  0),\n",
       " ('Friends Life lifts profits 38 and hikes divi ahead of proposed Aviva takeover',\n",
       "  1),\n",
       " ('DJI overbought: AAPL, AXP, BA, CVX, IBM, INTC, VZ', 0),\n",
       " ('It estimates the operating profit to further improve from the third quarter .',\n",
       "  1),\n",
       " ('The company plans to close two of the three lines at the plant , where some 450 jobs are under threat .',\n",
       "  0),\n",
       " ('Net sales rose by 25.5 year-on-year to EUR59 .6 m , as the number of chargers delivered went up by 41 to 65.9 million pieces .',\n",
       "  1),\n",
       " ('In Lithuania , operating profit rose to EUR 190,000 from EUR 70,000 in the corresponding period in 2005 .',\n",
       "  1),\n",
       " ('YELP This goes green and so many shorts are toast!', 1),\n",
       " ('The item included restructuring costs of EUR1 .6 m , while a year earlier they were EUR13 .1 m. Diluted EPS stood at EUR0 .3 versus a loss per share of EUR 0.1 .',\n",
       "  1),\n",
       " ('TSLA recalls 2,700 Model X cars. Stock dropping hard...', 0),\n",
       " ('SCANIA Morgan Stanley lifted the share target on Swedish heavy-duty truck and bus maker Scania AB to 330 crowns ( 42.4 - 35.2 euro ) from 310 crowns ( 39.8 - 33.1 euro ) .',\n",
       "  1),\n",
       " ('stole my tweet. really wouldnt be surprised if we took out 423 and pinned around it RT totalguru We could possibly even see425 today AAPL',\n",
       "  1),\n",
       " ('In the first half of 2008 , the Bank s operating profit fell to EUR 11.8 mn from EUR 18.9 mn , while net interest income increased to EUR 20.9 mn from EUR 18.8 mn in the first half of 2007 .',\n",
       "  0),\n",
       " ('By separating side businesses we will be able to faster expand and develop Tapro retail network .',\n",
       "  1),\n",
       " ('SysOpen Digia Plc , Press release , 7 February 2006 IBM Finland has rewarded its most distinguished partner companies for 2005 .',\n",
       "  1),\n",
       " ('The EPS outlook was increased by 5.6 pct for 2007 and 7.0 pct for 2008 .',\n",
       "  1),\n",
       " ('Credit Suisse poaches Prudentials Thiam for Asian push', 1),\n",
       " ('The airline estimated that the cancellation of its flights due to the closure of European airspace , and the process of recommencing traffic , have caused a the company a loss of EUR20m , including the costs of stranded passengers accommodation .',\n",
       "  0),\n",
       " ('ADPnews - Aug 3 , 2009 - Finnish media group Ilkka-Yhtyma Oyj HEL : ILK2S said today its net profit fell 45 on the year to EUR 5.9 million USD 8.4 m in the first half of 2009 .',\n",
       "  0),\n",
       " ('SDS 1.46 15.32, picking up some speed. May 16 calls now 35 .19: Next week 16 calls .11c:',\n",
       "  1),\n",
       " ('Loss for the period totalled EUR 15.6 mn compared to a profit of EUR 6.3 mn in 2008 .',\n",
       "  0),\n",
       " ('Finnish pharmaceuticals company Orion reports profit before taxes of EUR 70.0 mn in the third quarter of 2010 , up from EUR 54.9 mn in the corresponding period in 2009 .',\n",
       "  1),\n",
       " ('scottrade Why is tsla not available for shorting at this time? Same for w?',\n",
       "  0),\n",
       " ('vxx starting to creep up while spy sits near hod ...', 1),\n",
       " ('Also LemminkÃinen s profit for accounting period went up to EUR 3.1 mn from EUR -24.5 mn a year ago .',\n",
       "  1),\n",
       " ('GPRO down 25 since Tue morning.', 0),\n",
       " ('Net sales fell by 5 from the previous accounting period .', 0),\n",
       " ('HELSINKI ( AFX ) - Retail and wholesale group Kesko reported net sales of 659.4 mln eur for February , an increase of 10.8 pct year-on-year .',\n",
       "  1),\n",
       " ('Im liking the price action in SWKS, currently 21.80 ; my target: 24.00 before year end.',\n",
       "  1),\n",
       " ('Pretax profit decreased by 37 to EUR 193.1 mn from EUR 305.6 mn .', 0),\n",
       " ('Both operating profit and net sales for the 12-month period increased , respectively from EUR21 .5 m and EUR196 .1 m , as compared to 2005 .',\n",
       "  1),\n",
       " ('However , sales volumes in the food industry are expected to remain at relatively good levels in Finland and in Scandinavia , Atria said .',\n",
       "  1),\n",
       " ('GOOGL is a short below 740 into the upper BB and is overbought', 0),\n",
       " ('Finnish media company Talentum Oyj s net profit decreased to 2.5 mln euro ( 4.0 mln ) for the first quarter of 2008 from 3.0 mln euro ( 4.7 mln ) for the same period of 2007 .',\n",
       "  0),\n",
       " ('Earnings per share EPS in 2005 decreased to EUR0 .66 from EUR1 .15 in 2004 .',\n",
       "  0),\n",
       " ('Finnish messaging solutions developer Tecnomen Corporation ( OMX Helsinki : TEM1V ) said on Thursday ( 11 December ) that it has received an expansion order for its Convergent Charging solution in Latin America .',\n",
       "  1),\n",
       " ('The operating loss amounted to EUR 0.8 mn , compared to a profit of EUR 3.9 mn a year earlier .',\n",
       "  0),\n",
       " ('WFM Bought a little yesterday, hoping for an earnings pop.', 1),\n",
       " ('Several growth initiatives in the chosen geographic areas are already ongoing , it continued , noting Lindex opened its first store in the Czech Republic this autumn in Brno .',\n",
       "  1),\n",
       " ('AB InBev approaches SABMiller to explore 250bn tie-up', 1),\n",
       " ('Cargo volume increased by approximately 5 .', 1),\n",
       " ('Royal Mail, Johnson Matthey lead FTSE lower', 0),\n",
       " ('YIT lodged counter claims against Neste Oil totaling some EUR25m , primarily based on work carried out under the contract and additional costs incurred due to prolongation of the project .',\n",
       "  0),\n",
       " ('BPI Says Caixabank, Isabel dos Santos Reach Agreement Over Angola Exposure',\n",
       "  1),\n",
       " ('The Finnish daily Kauppalehti surmises that Finnish supplier Rautaruukki has raised its prices above Aker s comfort zone .',\n",
       "  0),\n",
       " ('Kalnapilio-Tauro Grupe ( Kalnapilis-Tauras Group ) , which is owned by Denmark s Royal Unibrew , raised its market share to 25.2 percent from 23.91 percent , as beer sales for the nine months jumped by 11.4 percent to 52.99 million liters .',\n",
       "  1),\n",
       " ('Operating profit fell from EUR 7.9 mn in the second quarter of 2005 to EUR 5.1 mn in the second quarter of 2006 .',\n",
       "  0),\n",
       " ('In Finland , Sampo Bank , now part of the Danske Bank group , will lay off staff from the administrative and support functions .',\n",
       "  0),\n",
       " ('We aim to ensure that Vacon is in good shape when capital expenditure starts to pick up again , comments Vacon Plc President and CEO Vesa Laisi .',\n",
       "  1),\n",
       " ('Return on capital employed ROCE was a negative 2.3 compared to 11.3 in 2007 .',\n",
       "  0),\n",
       " ('Operating profit was EUR 11.4 mn , up from EUR 7.5 mn .', 1),\n",
       " ('TietoEnator was down 1.13 pct to 18.38 , extending recent lows after last week s second-quarter report , dealers said .',\n",
       "  0),\n",
       " ('21 December 2010 - Finnish industrial machinery company Wartsila Oyj Abp HEL : WRT1V said yesterday it had won an order to design a liquefied natural gas LNG powered platform supply vessel PSV for Norwegian oil service provider Eidesvik Offshore ASA OSL : EIOF .',\n",
       "  1),\n",
       " ('Revenue grew 1 percent to euro742 .2 million US 964 million from euro735 million .',\n",
       "  1),\n",
       " ('10 February 2011 - Finnish media company Sanoma Oyj HEL : SAA1V said yesterday its 2010 net profit almost tripled to EUR297 .3 m from EUR107 .1 m for 2009 and announced a proposal for a raised payout .',\n",
       "  1),\n",
       " ('Strand Associates is expanding its Madison corporate headquarters with space to add about 100 employees to the engineering firm .',\n",
       "  1),\n",
       " ('Passengers rise at EasyJet and Aer Lingus', 1),\n",
       " ('The steelmaker said that the drop in profit was explained by the continuing economic uncertainty , mixed with the current drought in bank lending , resulting in a decline in demand for its products as customers find it increasingly difficult to fund operations .',\n",
       "  0),\n",
       " ('Royal Mail breached competition law over delivery service changes, Ofcom claims',\n",
       "  0),\n",
       " ('The currency effect had a 3.0 pct , or 20 mln euro ( 31.3 mln ) , negative impact on the revenue .',\n",
       "  0),\n",
       " ('Operating profit rose to EUR 4.7 mn from EUR 3.6 mn .', 1),\n",
       " ('Overall , we re pleased with the startup curve ... and we re pleased with the quality of the paper , Stora spokeswoman Patricia Dietz said Tuesday .',\n",
       "  1),\n",
       " ('UPDATE 1-Nomura, RBS must pay 806 mln in mortgage bond case-US judge', 0),\n",
       " ('LG completes UKs largest medically underwritten bulk pension risk deal', 1),\n",
       " ('Nokia was up 0.12 pct to 16.70 eur after kicking off the morning in negative territory .',\n",
       "  1),\n",
       " ('Therefore , the company s 2005 result will remain weaker than that of 2004 .',\n",
       "  0),\n",
       " ('EURUSD Finding Support Near 1.10 Level ERO UUP UDN FXE', 1),\n",
       " ('The real estate company posted a net loss of Ã³ x201a -Â¼ 59.3 million Ã³ x201a -Â¼ 0.21 per share compared with a net profit of Ã³ x201a -Â¼ 31 million Ã³ x201a -Â¼ 0.11 per share for the corresponding quarter of 2007 .',\n",
       "  0),\n",
       " ('The largest restructuring is planned for Italy , where negotiations on about 40 job cuts are to be initiated today , the company noted .',\n",
       "  0),\n",
       " ('Im no professional ANAL-yst but I DO put my where my mouth is. AAPL will do 575 b4 yr.endÃââThats another hun from here.Long LEAPS .',\n",
       "  1),\n",
       " ('Operating profit rose to EUR 1.6 mn from EUR 1.1 mn in the corresponding period in 2006 .',\n",
       "  1),\n",
       " ('Both operating profit and net sales for the six-month period increased , respectively from EUR18 .1 m and EUR127 .6 m , as compared to the corresponding period in 2006 .',\n",
       "  1),\n",
       " ('( ADP News ) - Feb 4 , 2009 - Finnish broadband data communication systems and solutions company Teleste Oyj ( HEL : TLT1V ) said today its net profit decreased to EUR 5.5 million ( USD 7.2 m ) for 2008 from EUR 9.4 million for 200',\n",
       "  0),\n",
       " ('With the measures , Suominen Corporation aims to ensure the competitiveness of the Flexible Packaging business in the long term .',\n",
       "  1),\n",
       " ('The rebuilds are designed to improve the machines performance and product quality .',\n",
       "  1),\n",
       " ('Finnish Scanfil , a contract manufacturer and systems supplier for communication and industrial electronics reports net sales of EUR 108.7 mn in the first half of 2008 , down from EUR 111.1 mn a year earlier .',\n",
       "  0),\n",
       " ('IfHeDiesHeDies: Bullhorn334: ZNGA shorts are getting nervous\"\"', 1),\n",
       " ('Japans Asahi to submit bid next week for SABMillers Grolsch and Peroni - Yomiuri',\n",
       "  1),\n",
       " ('mako hanging in well today. still in a basing pattern. have eyes on it', 1),\n",
       " ('InterContinental Hotels Group share price climbs on 1.5bn special dividend',\n",
       "  1),\n",
       " ('Agricultural newspaper Maaseudun Tulevaisuus had 318,000 readers , representing a decrease of 6 .',\n",
       "  0),\n",
       " ('The total delivery volume of paper businesses in 2010 was 1,155,000 tonnes , up from 1,132,000 tonnes in 2009 .',\n",
       "  1),\n",
       " ('In the Baltic countries , development of operations and reorganisation continued , and non-recurring items related to the takeover process lowered earnings .',\n",
       "  0),\n",
       " ('The transaction will have a positive impact of around EUR2m on earnings , which Ruukki will recognize during the fourth quarter of this year .',\n",
       "  1),\n",
       " ('The restructuring creates a more efficient organization with increased operational focus and stable profitability , and leads to more efficient production , said Bo Annvik , head of Specialty Stainless .',\n",
       "  1),\n",
       " ('BBRY hearing rumours of a major joint venture announcement.', 1),\n",
       " ('Operating loss totalled EUR 4.0 mn , compared to a profit of EUR 8.6 mn in the second quarter of 2008 .',\n",
       "  0),\n",
       " ('The agreement expands Tekla Structures scope of use to bridge design .', 1),\n",
       " ('SKF 6 April 2010 - Alandsbanken has given a buy recommendation on Swedish industrial company SKF AB ( STO : SKF B ) with a share price target of SEK150 .',\n",
       "  1),\n",
       " ('In the building and home improvement trade , sales decreased by 6.3 , totalling EUR 154.1 mn .',\n",
       "  0),\n",
       " ('The company recorded revenues of E658 .1 million during the fiscal year ended December 2007 , an increase of 23 over 2006 .',\n",
       "  1),\n",
       " ('Both operating profit and sales for the three-month period increased , respectively from EUR0 .3 m and EUR13 .1 m , as compared to the corresponding period in 2005 .',\n",
       "  1),\n",
       " ('The recent troubles simply make NETeller cheaper .', 0),\n",
       " ('Finnish M-real s Kyro mill is starting negotiations to cut staff .', 0),\n",
       " ('ConAgra Names Former Hillshire Farms CEO Connolly to Top Post', 1),\n",
       " ('Talentum s net sales in September were smaller than expected .', 0),\n",
       " ('JP Morgan expects that Scala will lower Nobel Biocare s growth forecast for 2007 from the current guidance of 23-25 pct , as well as the operating margin target from the current 34-35 pct .',\n",
       "  0),\n",
       " ('The combination of all services enabling us to offer a complex and strengthened service chain not only limited to the Baltic port connections but also for getting access to the world wide Grimaldi Network into the Mediterranean , Africa and North America says Uwe Bakosch .',\n",
       "  1),\n",
       " ('The actions are expected to deliver annual cost savings of some EUR15-20m .',\n",
       "  1),\n",
       " ('According to HKScan Finland , the plan is to increase JÃrvi-Suomen Portti s net sales to EUR 80mn to EUR 100mn .',\n",
       "  1),\n",
       " ('Due to rapid expansion , the market share of Tallink in terms of passenger carriage through Tallinna Sadam Port of Tallinn totaled 55 percent in November against 45.7 percent in November 2005 .',\n",
       "  1),\n",
       " ('The plan is estimated to generate some EUR 5 million ( USD 6.5 m ) in cost savings on an annual basis .',\n",
       "  1),\n",
       " ('However , the company saw its net profit for the third quarter down to EUR1 .4 m from EUR1 .5 m for the corresponding period of 2009 .',\n",
       "  0),\n",
       " ('Operating profit for the 12-month period decreased from EUR17 .9 m while net sales increased from EUR58 .3 m , as compared to 2007 .',\n",
       "  0),\n",
       " ('potential defect with third-row seat belts. Tesla Motors recalls 2,700 Model X SUVs TSLA',\n",
       "  0),\n",
       " ('ZNGA Looking for a test at 9.25 resistance point. cc cfrazierjr FletchTrade traders',\n",
       "  1),\n",
       " ('ISRG PT raised to 700 from 640 at Leerink - keeps Outperform rated', 1),\n",
       " ('RPT-Old Mutual Q1 gross sales beat forecasts, up 18 pct', 1),\n",
       " ('ADP News - Nov 13 , 2008 - Finnish printed circuit board PCB maker Aspocomp Group Oyj OMX : ACG1V said today that its net loss narrowed to EUR 2 million USD 2.5 m in the first nine months of 2008 from EUR 57',\n",
       "  1),\n",
       " ('Operating profit rose to EUR 26.7 mn from EUR 14.9 mn in the corresponding period in 2006 .',\n",
       "  1),\n",
       " ('UPDATE 3-Auto Trader shares leap in UKs biggest private equity-backed listing',\n",
       "  1),\n",
       " ('- I am pleased that Bjorn Wahlroos has accepted the nomination .', 1),\n",
       " ('Johnson Matthey raises prospect of investor payout', 1),\n",
       " ('When the situation normalises , the company will be able to increase the amount of residential units for sale in St Petersburg and Moscow , in particular .',\n",
       "  1),\n",
       " ('According to Atria s President and CEO Matti Tikkakoski , the company s Swedish operations significantly improved in the first quarter .',\n",
       "  1),\n",
       " ('NFLX VISION : short term consolidation then movement higher', 1),\n",
       " ('FB rejecting HIGHS shortable...at 109', 0),\n",
       " ('Repeats sees 2008 operating profit down y-y ( Reporting by Helsinki Newsroom ) Keywords : TECNOMEN-RESULTS',\n",
       "  0),\n",
       " ('Tesco, Asda sales fall as march of the discounters continues-Kantar', 0),\n",
       " ('LSCC Accumulation chart continues to make new highs showing accumulation continuing to take place',\n",
       "  1),\n",
       " ('SPY still wants higher I think.', 1),\n",
       " ('FB (110.20) is starting to show some relative strength and signs of potential BO on the daily.',\n",
       "  1),\n",
       " ('AAPL iPhone shipments on track to exceed forecasts - MarketWatch', 1),\n",
       " ('Exel Composites long-term growth prospects remain favourable , however .',\n",
       "  1),\n",
       " ('The total capital of funds managed by the bank decreased by 28 to EUR 284mn by the end of September 2008 .',\n",
       "  0),\n",
       " ('FB slight green... May be runner later', 1),\n",
       " ('When this information was released on 5 September 2008 , Nokia s American Depositary shares fell by 8 .',\n",
       "  0),\n",
       " ('This is a much better process than using virgin paper as it requires less transportation of wood pulp from places like Finland and Canada .',\n",
       "  1),\n",
       " ('Comptel , a vendor of dynamic Operations Support System ( OSS ) software , has been selected by Orascom Telecom ( OTH ) as partner for provisioning and activation solutions for mobile services .',\n",
       "  1),\n",
       " ('FAST GWW - daily sales slowing again, pretty timely coincident indicator',\n",
       "  0),\n",
       " ('The result will also be burdened by increased fixed costs associated with operations in China , and restructuring costs in Japan .',\n",
       "  0),\n",
       " ('Dubai Nokia has announced the launch of Comes with Music , its ground-breaking service which introduces a new way for people to enjoy music .',\n",
       "  1),\n",
       " ('Market Report: Aviva tops the market as traders approve of its choice of Friends',\n",
       "  1),\n",
       " ('SP downgrades Barclays and RBS on government bailout fears', 0),\n",
       " ('In Q2 of 2009 , profit before taxes amounted to EUR 13.6 mn , down from EUR 26.8 mn in Q2 of 2008 .',\n",
       "  0),\n",
       " ('Ruukki s delivery volumes and selling prices showed favourable development and the company s comparable net sales grew by 50 year-on-year to EUR647m , CEO Sakari Tamminen said .',\n",
       "  1),\n",
       " ('Production will expand to other of Elcoteq s locations including Mexico and Hungary during 2010 .',\n",
       "  1),\n",
       " ('ATHN Seems like a good short setup. Stop above the 50 day. No position.',\n",
       "  0),\n",
       " ('We cut our frequency to New York last year , which explains the fall , he said .',\n",
       "  0),\n",
       " ('Turnover surged to EUR61 .8 m from EUR47 .6 m due to increasing service demand , especially in the third quarter , and the overall growth of its business .',\n",
       "  1),\n",
       " ('GS is looking weak while this market is moving higher not a good sign. Unless gs can get above 157. early short below 154.00 today.',\n",
       "  0),\n",
       " ('Deutsche Bank downgrades Starbucks because of new loyalty program SBUX', 0),\n",
       " ('Excluding non-recurring items , pre-tax profit surged 45 to EUR80m .', 1),\n",
       " ('The new agreement , which expands a long-established cooperation between the companies , involves the transfer of certain engineering and documentation functions from Larox to Etteplan .',\n",
       "  1),\n",
       " ('Last year , 8.3 million passengers flew the airline , down 4 percent from 2007 .',\n",
       "  0),\n",
       " ('Finnish technology company Raute Corporation ( OMX Helsinki : RUTAV ) issued on Tuesday ( 23 September ) a profit warning for the financial year 2008 .',\n",
       "  0),\n",
       " ('Carnival Corporation and China Merchants Group Sign Memo of Understanding ...',\n",
       "  1),\n",
       " ('TalkTalk hires BAE Systems to investigate cyber attack', 0),\n",
       " ('Finnish technology group Aspocomp Group Oyj ( OMX Helsinki : ACG1V ) issued its third quarter report on Thursday ( 13 November ) , posting an operating profit of EUR0 .4 m , as compared to a loss of EUR0 .5 m in the third quarter of 2007 .',\n",
       "  1),\n",
       " ('CIEN CIEN seems to have broken out of a major horizontal resistance. Targets 14.35.',\n",
       "  1),\n",
       " ('This new deal has strengthened the partnership from Telemig Celular and Tecnomen , which it has started since the beginning of Telemig s prepaid operations .',\n",
       "  1),\n",
       " ('Finnish metal components supplier Componenta Oyj said its net profit went up to 3.5 mln euro 4.5 mln in 2006 from 2.2 mln euro 2.8 mln in 2005 .',\n",
       "  1),\n",
       " ('M-real Corporation Press release on 3 November at 10:35 am M-real Corporation was the second best company in the materials sector including e.g. forest industry companies in the Carbon Disclosure Leadership Index CDLI , Nordic Report 2009 .',\n",
       "  1),\n",
       " ('The sales of the Tiimari segment fell by 4.0 year-on-year to EUR3 .3 m in June 2010 .',\n",
       "  0),\n",
       " ('BIOC RSI extremely in longs favor looking at BIOC historically.', 1),\n",
       " ('Favourable currency rates also contributed to higher net sales , CEO Kari Kauniskangas said .',\n",
       "  1),\n",
       " ('RT Dasan TMTanalyst ...since AAPL mastered their supply chain in cornering NAND, Apple mastered EVERYONES supply chain!',\n",
       "  1),\n",
       " ('The company is now intensifying its smelter operations and increasing its annual production capacity to 230,000 tonnes of copper .',\n",
       "  1),\n",
       " ('Glaxos ViiV Healthcare Signs China Manufacturing Deal With Desano', 1),\n",
       " ('New Morrisons duo get former bosss support to diffuse investor tension', 1),\n",
       " ('AAPL AUG 645 calls 550 .67c:', 1),\n",
       " ('Timberrrr TSLA', 0),\n",
       " ('ASTX Daily technical indicators are bullish. Breakout watch over 4.58', 1),\n",
       " ('Aspocomp has a large factory in China and a factory building project in India that was halted due to financing problems .',\n",
       "  0),\n",
       " ('Profit for the period was EUR 15.6 mn compared to EUR 14.1 mn in 2007 .',\n",
       "  1),\n",
       " ('Compared with the FTSE 100 index , which rose 28.3 points or 0.5 on the day , this was a relative price change of 2.3 .',\n",
       "  1),\n",
       " ('Result before taxes decreased to nearly EUR 14.5 mn , compared to nearly EUR 20mn in the previous accounting period .',\n",
       "  0),\n",
       " ('So as of todays close (81514), Im long TSLA AMTD TWTR FB AAPL CELG - all on a longer-term, technical swing long basis.',\n",
       "  1),\n",
       " ('Oil majors like Royal Dutch Shell, Chevron, BP fail to find reserves to counter ...',\n",
       "  0),\n",
       " ('The acquisition of Ã landsbanken Sverige in 2009 burdened the performance with EUR 3.0 mn .',\n",
       "  0),\n",
       " ('Okmetic expects its net sales for the first half of 2009 to be less than in 2008 .',\n",
       "  0),\n",
       " ('The announced investment of the carmaker Hyundai for example sounds optimistically for us as of course new cars mean new tires .',\n",
       "  1),\n",
       " ('The EPS improved to EUR0 .38 from EUR0 .27 .', 1),\n",
       " ('The company reports a loss for the period of EUR 0.4 mn compared to a loss of EUR 1.9 mn in the corresponding period in 2005 .',\n",
       "  1),\n",
       " ('RCON some upside today. This thing is severe low float. If there is catalyst for this guy. It can run.',\n",
       "  1),\n",
       " ('Johnson Matthey share price slumps as company posts full-year results', 0),\n",
       " ('CSX is up today to report. Wall Street is expecting EPS to be at 0.37, and revenues at 2,732B.',\n",
       "  1),\n",
       " ('stores 16 March 2010 - Finnish stationery and gift retailer Tiimari HEL : TII1V said yesterday that it will cut a total of 28 jobs in its units Tiimari Retail Ltd and Gallerix Finland Ltd as a result of the closure of shops .',\n",
       "  0),\n",
       " ('Operating profit fell to EUR 20.3 mn from EUR 74.2 mn in the second quarter of 2008 .',\n",
       "  0),\n",
       " ('We are delighted to announce our support for Intel based handheld platforms , the capabilities of which have made our development easier and faster .',\n",
       "  1),\n",
       " ('In China , Finnish Kone that provides elevators , escalators , and solutions for modernisation and maintenance will build 342 escalators that will be installed in a high-speed railway section between Beijing and Shanghai in a 1.5 years time .',\n",
       "  1),\n",
       " ('Auto Trader share price surges as company floats on LSE', 1),\n",
       " ('After the takeover , Cramo will become the second largest rental services provider in the Latvian market .',\n",
       "  1),\n",
       " ('vxx adding to position here !', 1),\n",
       " ('Its board of directors will propose a dividend of EUR0 .12 per share for 2010 , up from the EUR0 .08 per share paid in 2009 .',\n",
       "  1),\n",
       " ('JNK Does not want to go down... risk appetite still high', 1),\n",
       " ('In the fourth quarter of 2009 , Atria s net loss shrank to EUR 1.2 million from EUR 5.9 million and net sales contracted to EUR 340.4 million from EUR 361.1 million .',\n",
       "  1),\n",
       " ('Cargotec Germany GmbH has been awarded a contract by Stadtverwaltung Mainz for chassis bodies under Open procedure .',\n",
       "  1),\n",
       " ('Comparable operating profit totaled EUR 4.7 mn , down from EUR 5.1 mn in the corresponding period in 2005 , representing 7.4 of net sales .',\n",
       "  0),\n",
       " ('Operating profit fell to EUR 38.1 mn from EUR 55.3 mn in 2007 .', 0),\n",
       " ('Our decision and resolve on MeeGo is only stronger , she continued .', 1),\n",
       " ('Capital expenditure on energy efficiency has unfortunately fallen along with the decline in the economy .',\n",
       "  0),\n",
       " ('The announced restructuring will significantly decrease the Company s indebtedness .',\n",
       "  1),\n",
       " ('FusionIQ NEW Positive Timing Signal on SBUX Today Please Retweet Signals',\n",
       "  1),\n",
       " ('It will focus on improving its profitability next year by streamlining operations .',\n",
       "  1),\n",
       " ('In 2009 , Comptel slipped to a net loss of EUR2 .1 m from a profit of EUR6 .6 m in the previous year .',\n",
       "  0),\n",
       " ('Finnish electronics contract manufacturer Scanfil reports net sales of EUR 241.2 mn in 2006 , down from EUR 321.6 mn in 2005 .',\n",
       "  0),\n",
       " ('By cutting the number of plants , the group will trim fixed costs .', 1),\n",
       " ('The aim is to convert the plants into flexible manufacturers of new and technologically demanding products .',\n",
       "  1),\n",
       " ('Both the net sales and operating profit were record high in the company s history .',\n",
       "  1),\n",
       " ('ARIA Bounce Player! Long above 6.17', 1),\n",
       " ('At the same time profit of the company increased by 10 in H1 and reached Ls 79,000 .',\n",
       "  1),\n",
       " ('GOOG breakout very likely medium target 700', 1),\n",
       " ('SPY Long 12 position 137.89', 1),\n",
       " ('Megaas2000 AAPL McDonalds had a big GROWING success for years with the same BigMac and Apple update and improbe Iphone and Ipad',\n",
       "  1),\n",
       " ('We ve been feeling quite positive about the region as a whole .', 1),\n",
       " ('Consumers have very well received our packed fresh meat .', 1),\n",
       " ('Spains Caixabank launches new takeover bid for Banco BPI', 1),\n",
       " ('In addition to the demand in Finland , the export of lining stone products also increased .',\n",
       "  1),\n",
       " ('Analysts impressed with progress at Teslas flagship factory; co spent 1.6B on upgrades in 15 by tsrandall TSLA',\n",
       "  1),\n",
       " ('Earlier today , Geberit s Finnish rival Uponor OYJ cut its full-year sales growth forecast to 6 pct from 10 pct , blaming tough conditions in Germany and the US , as well as currency factors .',\n",
       "  0),\n",
       " ('Operating profit for the nine-month period decreased from EUR19 .9 m while net sales increased from EUR155 .7 m , as compared to the corresponding period in 2007 .',\n",
       "  0),\n",
       " ('At 1.33 pm , the OMX Helsinki 25 was 0.30 pct lower at 2,463.67 and the OMX Helsinki was down 0.37 pct at 8,537.42 on volume of 256 mln eur .',\n",
       "  0),\n",
       " ('Finnish metal products company Componenta Oyj ( HEL : CTH1V ) said today its net loss narrowed to EUR 500,000 ( USD 680,000 ) in the last quarter of 2010 from EUR 5.3 million for the same period a year earlier .',\n",
       "  1),\n",
       " ('According to Finnish pension insurance company Varma , Varma was the recipient of over two thirds of the revenue of the earnings-related pension cover that was under competitive tendering in Finland .',\n",
       "  1),\n",
       " ('We are honored to be recognized by Gartner as a specialist in Business Process Modeling and Analysis , in the company of many of the largest software vendors in the world .',\n",
       "  1),\n",
       " ('The estimated synergy benefits are at least EUR7m annually .', 1),\n",
       " ('The fair value of the company s investment properties went down to EUR2 .769 bn at the end of September 2009 from EUR2 .878 bn a year earlier .',\n",
       "  0),\n",
       " ('NAVTEQ has a commanding lead in installed map data systems in North American vehicles and may be the leader in turn-by-turn navigation data offered by services such as OnStar in North America , said analyst Phil Magney of Telematics Research Group in Minnetonka , Minn. .',\n",
       "  1),\n",
       " ('ITV to pursue takeover of Canadas Entertainment One: Bloomberg', 1),\n",
       " ('WFT closng higher from here', 1),\n",
       " ('Efficiency programs totalling 100 million euros are under way in Finnair .',\n",
       "  1),\n",
       " ('bot AMZN 600 weekly calls here 5.93', 1),\n",
       " ('One attractive factor about the tablets for media companies is that they provide a new way of making money .',\n",
       "  1),\n",
       " ('EasyJet attracts more passengers in June but still lags Ryanair', 1),\n",
       " ('FIO wont stay down', 1),\n",
       " ('25 March 2011 - Finnish electronics contract manufacturer Scanfil Oyj HEL : SCF1V said today its plan to merge wholly owned Scanfil EMS Group with Ojala-Yhtyma Oy has hit a snag as shareholders of the domestic rival rejected the deal .',\n",
       "  0),\n",
       " ('GlaxoSmithKline set to complete 20 billion Novartis asset swap next week',\n",
       "  1),\n",
       " ('ADPnews - Jul 17 , 2009 - Finland-based steel maker Rautaruukki Oyj Ruukki HEL : RTRKS said today it slipped to a net loss of EUR 184 million USD 259.7 m for the first half of 2009 from a net profit of EUR 2',\n",
       "  0),\n",
       " ('FB Big Money Is Pouring Into Facebook From All Directions;', 1),\n",
       " ('Cash flow from operations totalled EUR 2.71 mn , compared to a negative EUR 0.83 mn in the corresponding period in 2008 .',\n",
       "  1),\n",
       " ('DUG weekly stochastics finally starting to turn up after long consolidation. Buying here.',\n",
       "  1),\n",
       " ('Scanfil will execute the temporary lay-offs by mid-October 2009 and the job cuts by March 2010 .',\n",
       "  0),\n",
       " ('The diesel margin has remained high .', 1),\n",
       " ('Finnish OKO bank has signed a cooperation agreement with Raiffeisen concerning Finnish companies investments in Russia .',\n",
       "  1)]"
      ]
     },
     "execution_count": 241,
     "metadata": {},
     "output_type": "execute_result"
    }
   ],
   "source": [
    "list(zip(texts_test, labels_test))"
   ]
  },
  {
   "cell_type": "code",
   "execution_count": 242,
   "id": "16d0debe",
   "metadata": {},
   "outputs": [
    {
     "data": {
      "image/png": "[encoded data removed]",
      "text/plain": [
       "<Figure size 504x360 with 1 Axes>"
      ]
     },
     "metadata": {
      "needs_background": "light"
     },
     "output_type": "display_data"
    },
    {
     "data": {
      "image/png": "[encoded data removed]",
      "text/plain": [
       "<Figure size 864x432 with 2 Axes>"
      ]
     },
     "metadata": {
      "needs_background": "light"
     },
     "output_type": "display_data"
    },
    {
     "data": {
      "image/png": "[encoded data removed]",
      "text/plain": [
       "<Figure size 864x432 with 2 Axes>"
      ]
     },
     "metadata": {
      "needs_background": "light"
     },
     "output_type": "display_data"
    },
    {
     "data": {
      "text/plain": [
       "([27.07377979568672, 24.0, 13.146869836873574, 5, 77],\n",
       " [26.961052631578948, 24.0, 13.599750730972914, 5, 79])"
      ]
     },
     "execution_count": 242,
     "metadata": {},
     "output_type": "execute_result"
    }
   ],
   "source": [
    "metric_df = create_df(texts_train, labels_train, texts_test, labels_test)\n",
    "show_metrics(metric_df, 'Financial', max_length=100)"
   ]
  },
  {
   "cell_type": "code",
   "execution_count": 245,
   "id": "e7ded6fe",
   "metadata": {},
   "outputs": [],
   "source": [
    "metric_df.to_csv('finance_dataset.csv')"
   ]
  },
  {
   "cell_type": "code",
   "execution_count": 84,
   "id": "2e9a72f3",
   "metadata": {},
   "outputs": [],
   "source": [
    "save_dataset('Train_financial', \n",
    "                 texts_train, \n",
    "                 labels_train, \n",
    "                 max_length=100)"
   ]
  },
  {
   "cell_type": "code",
   "execution_count": 85,
   "id": "f21a6b9f",
   "metadata": {},
   "outputs": [],
   "source": [
    "save_dataset('Test_financial', \n",
    "                 texts_test, \n",
    "                 labels_test, \n",
    "                 max_length=100)"
   ]
  },
  {
   "cell_type": "code",
   "execution_count": 86,
   "id": "30fda77d",
   "metadata": {},
   "outputs": [],
   "source": [
    "inputs = tokenizer(\n",
    "    texts_train,\n",
    "    padding=\"longest\",  # или \"longest\" для динамического паддинга\n",
    "    truncation=True,\n",
    "    return_tensors=\"pt\",  # Возвращать тензоры PyTorch\n",
    ")"
   ]
  },
  {
   "cell_type": "code",
   "execution_count": 87,
   "id": "d6424494",
   "metadata": {},
   "outputs": [
    {
     "data": {
      "text/plain": [
       "torch.Size([1762, 77])"
      ]
     },
     "execution_count": 87,
     "metadata": {},
     "output_type": "execute_result"
    }
   ],
   "source": [
    "inputs['input_ids'].shape"
   ]
  },
  {
   "cell_type": "markdown",
   "id": "2703957a",
   "metadata": {},
   "source": [
    "# sentiment"
   ]
  },
  {
   "cell_type": "code",
   "execution_count": 192,
   "id": "88eb52c3",
   "metadata": {},
   "outputs": [],
   "source": [
    "train = pd.read_csv(r'D:\\Data science\\Datasets\\train_sentiment.csv', \n",
    "           encoding='latin-1')"
   ]
  },
  {
   "cell_type": "code",
   "execution_count": 193,
   "id": "5190c010",
   "metadata": {},
   "outputs": [],
   "source": [
    "test = pd.read_csv(r'D:\\Data science\\Datasets\\test_sentiment.csv', \n",
    "           encoding='latin-1')"
   ]
  },
  {
   "cell_type": "code",
   "execution_count": 194,
   "id": "70b24f5c",
   "metadata": {},
   "outputs": [
    {
     "name": "stderr",
     "output_type": "stream",
     "text": [
      "C:\\Users\\PC\\AppData\\Local\\Temp\\ipykernel_14264\\2784282194.py:1: UserWarning: Boolean Series key will be reindexed to match DataFrame index.\n",
      "  train = train[train.sentiment.isin(['positive', 'negative'])][~train['text'].isna()].sample(n=3000, random_state=42)\n",
      "C:\\Users\\PC\\AppData\\Local\\Temp\\ipykernel_14264\\2784282194.py:2: UserWarning: Boolean Series key will be reindexed to match DataFrame index.\n",
      "  test = test[test.sentiment.isin(['positive', 'negative'])][~test['text'].isna()]\n"
     ]
    }
   ],
   "source": [
    "train = train[train.sentiment.isin(['positive', 'negative'])][~train['text'].isna()].sample(n=3000, random_state=42)\n",
    "test = test[test.sentiment.isin(['positive', 'negative'])][~test['text'].isna()]"
   ]
  },
  {
   "cell_type": "code",
   "execution_count": 195,
   "id": "a4e969f8",
   "metadata": {},
   "outputs": [],
   "source": [
    "texts_train = train['text'].map(preprocess_for_bert).to_list()\n",
    "texts_test = test['text'].map(preprocess_for_bert).to_list()"
   ]
  },
  {
   "cell_type": "code",
   "execution_count": 196,
   "id": "fb222749",
   "metadata": {},
   "outputs": [],
   "source": [
    "mapping = {\n",
    "    'negative': 0,\n",
    "    'positive': 1\n",
    "}"
   ]
  },
  {
   "cell_type": "code",
   "execution_count": 197,
   "id": "d7291971",
   "metadata": {},
   "outputs": [],
   "source": [
    "labels_train = train['sentiment'].map(mapping).to_list()\n",
    "labels_test = test['sentiment'].map(mapping).to_list()"
   ]
  },
  {
   "cell_type": "code",
   "execution_count": 198,
   "id": "96f2378c",
   "metadata": {},
   "outputs": [
    {
     "name": "stdout",
     "output_type": "stream",
     "text": [
      "3000 2104\n"
     ]
    }
   ],
   "source": [
    "print(len(labels_train), len(labels_test))"
   ]
  },
  {
   "cell_type": "code",
   "execution_count": 199,
   "id": "8134946c",
   "metadata": {},
   "outputs": [
    {
     "data": {
      "image/png": "[encoded data removed]",
      "text/plain": [
       "<Figure size 504x360 with 1 Axes>"
      ]
     },
     "metadata": {
      "needs_background": "light"
     },
     "output_type": "display_data"
    },
    {
     "data": {
      "image/png": "[encoded data removed]",
      "text/plain": [
       "<Figure size 864x432 with 2 Axes>"
      ]
     },
     "metadata": {
      "needs_background": "light"
     },
     "output_type": "display_data"
    },
    {
     "data": {
      "image/png": "[encoded data removed]",
      "text/plain": [
       "<Figure size 864x432 with 2 Axes>"
      ]
     },
     "metadata": {
      "needs_background": "light"
     },
     "output_type": "display_data"
    },
    {
     "data": {
      "text/plain": [
       "([19.472333333333335, 18.0, 9.015240866936884, 3, 53],\n",
       " [19.247148288973385, 18.0, 9.023245300116317, 3, 69])"
      ]
     },
     "execution_count": 199,
     "metadata": {},
     "output_type": "execute_result"
    }
   ],
   "source": [
    "metric_df = create_df(texts_train, labels_train, texts_test, labels_test)\n",
    "show_metrics(metric_df, 'Sentiment', max_length=100)"
   ]
  },
  {
   "cell_type": "code",
   "execution_count": null,
   "id": "75984c6c",
   "metadata": {},
   "outputs": [],
   "source": []
  },
  {
   "cell_type": "code",
   "execution_count": 101,
   "id": "4336e7bf",
   "metadata": {},
   "outputs": [],
   "source": [
    "save_dataset('Train_sentiment', \n",
    "                 texts_train, \n",
    "                 labels_train, \n",
    "                 max_length=100)"
   ]
  },
  {
   "cell_type": "code",
   "execution_count": 102,
   "id": "9b5144f4",
   "metadata": {},
   "outputs": [],
   "source": [
    "save_dataset('Test_sentiment', \n",
    "                 texts_test, \n",
    "                 labels_test, \n",
    "                 max_length=100)"
   ]
  },
  {
   "cell_type": "code",
   "execution_count": 103,
   "id": "fc96e441",
   "metadata": {},
   "outputs": [],
   "source": [
    "inputs = tokenizer(\n",
    "    texts_train,\n",
    "    padding=\"longest\",  # или \"longest\" для динамического паддинга\n",
    "    truncation=True,\n",
    "    return_tensors=\"pt\",  # Возвращать тензоры PyTorch\n",
    ")"
   ]
  },
  {
   "cell_type": "code",
   "execution_count": 104,
   "id": "eb1bcfad",
   "metadata": {},
   "outputs": [
    {
     "data": {
      "text/plain": [
       "torch.Size([3000, 53])"
      ]
     },
     "execution_count": 104,
     "metadata": {},
     "output_type": "execute_result"
    }
   ],
   "source": [
    "inputs['input_ids'].shape"
   ]
  },
  {
   "cell_type": "markdown",
   "id": "24526717",
   "metadata": {},
   "source": [
    "# Mental sentiment"
   ]
  },
  {
   "cell_type": "code",
   "execution_count": 200,
   "id": "d7f90c5d",
   "metadata": {},
   "outputs": [],
   "source": [
    "data = pd.read_csv(r'D:\\Data science\\Datasets\\Mental_health_data.csv', \n",
    "           encoding='latin-1')"
   ]
  },
  {
   "cell_type": "code",
   "execution_count": 201,
   "id": "e874178c",
   "metadata": {
    "scrolled": true
   },
   "outputs": [
    {
     "data": {
      "text/plain": [
       "status\n",
       "Normal                  16351\n",
       "Depression              15404\n",
       "Suicidal                10653\n",
       "Anxiety                  3888\n",
       "Bipolar                  2877\n",
       "Stress                   2669\n",
       "Personality disorder     1201\n",
       "Name: count, dtype: int64"
      ]
     },
     "execution_count": 201,
     "metadata": {},
     "output_type": "execute_result"
    }
   ],
   "source": [
    "data.status.value_counts()"
   ]
  },
  {
   "cell_type": "code",
   "execution_count": 202,
   "id": "7e79b155",
   "metadata": {},
   "outputs": [
    {
     "name": "stderr",
     "output_type": "stream",
     "text": [
      "C:\\Users\\PC\\AppData\\Local\\Temp\\ipykernel_14264\\4170739778.py:1: UserWarning: Boolean Series key will be reindexed to match DataFrame index.\n",
      "  data = data[data.status.isin(['Normal', 'Depression'])][~data['statement'].isna()].sample(n=8000,\n"
     ]
    }
   ],
   "source": [
    "data = data[data.status.isin(['Normal', 'Depression'])][~data['statement'].isna()].sample(n=8000, \n",
    "                                                                                         random_state=42)"
   ]
  },
  {
   "cell_type": "code",
   "execution_count": 203,
   "id": "a1025ef1",
   "metadata": {},
   "outputs": [],
   "source": [
    "train, test = train_test_split(data, test_size=0.375, random_state=42)"
   ]
  },
  {
   "cell_type": "code",
   "execution_count": 204,
   "id": "7879ec67",
   "metadata": {},
   "outputs": [],
   "source": [
    "texts_train = train['statement'].map(preprocess_for_bert).to_list()\n",
    "texts_test = test['statement'].map(preprocess_for_bert).to_list()"
   ]
  },
  {
   "cell_type": "code",
   "execution_count": 205,
   "id": "b4a539f5",
   "metadata": {},
   "outputs": [],
   "source": [
    "mapping = {\n",
    "    'Depression': 0,\n",
    "    'Normal': 1\n",
    "}"
   ]
  },
  {
   "cell_type": "code",
   "execution_count": 206,
   "id": "b2e769c9",
   "metadata": {},
   "outputs": [],
   "source": [
    "labels_train = train['status'].map(mapping).to_list()\n",
    "labels_test = test['status'].map(mapping).to_list()"
   ]
  },
  {
   "cell_type": "code",
   "execution_count": 207,
   "id": "8003fbfb",
   "metadata": {},
   "outputs": [
    {
     "name": "stdout",
     "output_type": "stream",
     "text": [
      "5000 3000\n"
     ]
    }
   ],
   "source": [
    "print(len(labels_train), len(labels_test))"
   ]
  },
  {
   "cell_type": "code",
   "execution_count": 208,
   "id": "17b9257f",
   "metadata": {},
   "outputs": [
    {
     "data": {
      "image/png": "[encoded data removed]",
      "text/plain": [
       "<Figure size 504x360 with 1 Axes>"
      ]
     },
     "metadata": {
      "needs_background": "light"
     },
     "output_type": "display_data"
    },
    {
     "data": {
      "image/png": "[encoded data removed]",
      "text/plain": [
       "<Figure size 864x432 with 2 Axes>"
      ]
     },
     "metadata": {
      "needs_background": "light"
     },
     "output_type": "display_data"
    },
    {
     "data": {
      "image/png": "[encoded data removed]",
      "text/plain": [
       "<Figure size 864x432 with 2 Axes>"
      ]
     },
     "metadata": {
      "needs_background": "light"
     },
     "output_type": "display_data"
    },
    {
     "data": {
      "text/plain": [
       "([95.8766, 35.0, 124.52241795130706, 2, 512],\n",
       " [99.50066666666666, 37.0, 128.12828987472759, 3, 512])"
      ]
     },
     "execution_count": 208,
     "metadata": {},
     "output_type": "execute_result"
    }
   ],
   "source": [
    "metric_df = create_df(texts_train, labels_train, texts_test, labels_test)\n",
    "show_metrics(metric_df, 'Mental', max_length=512)"
   ]
  },
  {
   "cell_type": "code",
   "execution_count": null,
   "id": "6bdee9aa",
   "metadata": {},
   "outputs": [],
   "source": []
  },
  {
   "cell_type": "code",
   "execution_count": 122,
   "id": "651223ad",
   "metadata": {},
   "outputs": [],
   "source": [
    "save_dataset('Train_mental', \n",
    "                 texts_train, \n",
    "                 labels_train, \n",
    "                 max_length=512)"
   ]
  },
  {
   "cell_type": "code",
   "execution_count": 123,
   "id": "549126c7",
   "metadata": {},
   "outputs": [],
   "source": [
    "save_dataset('Test_mental', \n",
    "                 texts_test, \n",
    "                 labels_test, \n",
    "                 max_length=512)"
   ]
  },
  {
   "cell_type": "code",
   "execution_count": 124,
   "id": "d6fc744a",
   "metadata": {},
   "outputs": [],
   "source": [
    "inputs = tokenizer(\n",
    "    texts_train,\n",
    "    padding=\"longest\",  # или \"longest\" для динамического паддинга\n",
    "    truncation=True,\n",
    "    return_tensors=\"pt\",  # Возвращать тензоры PyTorch\n",
    ")"
   ]
  },
  {
   "cell_type": "code",
   "execution_count": 125,
   "id": "6957c329",
   "metadata": {},
   "outputs": [],
   "source": [
    "import matplotlib.pyplot as plt"
   ]
  },
  {
   "cell_type": "code",
   "execution_count": 126,
   "id": "afae5301",
   "metadata": {},
   "outputs": [],
   "source": [
    "import seaborn as sns"
   ]
  },
  {
   "cell_type": "code",
   "execution_count": 127,
   "id": "fdc14e44",
   "metadata": {},
   "outputs": [],
   "source": [
    "x_np = (inputs['input_ids'] > 0).sum(dim=1).numpy()\n",
    "# x = th.randn(1000)  # 1000 значений из нормального распределения\n",
    "\n",
    "# # Конвертируем в NumPy для визуализации\n",
    "# x_np = x.numpy()"
   ]
  },
  {
   "cell_type": "code",
   "execution_count": 128,
   "id": "bfb707ee",
   "metadata": {},
   "outputs": [
    {
     "data": {
      "image/png": "[encoded data removed]",
      "text/plain": [
       "<Figure size 576x360 with 1 Axes>"
      ]
     },
     "metadata": {
      "needs_background": "light"
     },
     "output_type": "display_data"
    }
   ],
   "source": [
    "plt.figure(figsize=(8, 5))\n",
    "sns.kdeplot(x_np, fill=True, color='blue', alpha=0.5)\n",
    "plt.title('Плотность распределения значений вектора')\n",
    "plt.xlabel('Значения')\n",
    "plt.ylabel('Плотность вероятности')\n",
    "plt.grid(True)\n",
    "plt.show()"
   ]
  },
  {
   "cell_type": "code",
   "execution_count": 129,
   "id": "559c382e",
   "metadata": {},
   "outputs": [
    {
     "data": {
      "text/plain": [
       "136"
      ]
     },
     "execution_count": 129,
     "metadata": {},
     "output_type": "execute_result"
    }
   ],
   "source": [
    "(x_np > 511).sum()"
   ]
  },
  {
   "cell_type": "markdown",
   "id": "7837bcfd",
   "metadata": {},
   "source": [
    "# Amazon sentiment"
   ]
  },
  {
   "cell_type": "code",
   "execution_count": 162,
   "id": "ea9a34bf",
   "metadata": {},
   "outputs": [],
   "source": [
    "def process_data(file):\n",
    "    data = []\n",
    "    for index, row in file.iterrows():\n",
    "         # first line data is raw data\n",
    "        line = row[0]\n",
    "        \n",
    "        #split lines into text and labels\n",
    "        label, text = line.split(' ', 1) \n",
    "        \n",
    "        #remove the __label__ only keep the number\n",
    "        label = label.replace('__label__', '') \n",
    "        \n",
    "        #append\n",
    "        data.append((label, text.strip()))\n",
    "        \n",
    "    cols = ['label', 'review']\n",
    "    return pd.DataFrame(data, columns=cols)\n"
   ]
  },
  {
   "cell_type": "code",
   "execution_count": 163,
   "id": "c6398552",
   "metadata": {},
   "outputs": [],
   "source": [
    "import re"
   ]
  },
  {
   "cell_type": "code",
   "execution_count": 164,
   "id": "a884649f",
   "metadata": {},
   "outputs": [],
   "source": [
    "def text_cleaning(text):\n",
    "    \n",
    "    #apply lowercase\n",
    "    text = text.lower()  \n",
    "    \n",
    "    #remove special characters and numbers and extra whitespace\n",
    "    pattern_punc = r'[^A-Za-z\\s]'\n",
    "    text = re.sub(pattern_punc, '', text).strip()\n",
    "    return text"
   ]
  },
  {
   "cell_type": "code",
   "execution_count": 165,
   "id": "effe6fb8",
   "metadata": {},
   "outputs": [],
   "source": [
    "train_path = r'D:\\Data science\\Datasets\\train.ft.txt.bz2'\n",
    "test_path = r'D:\\Data science\\Datasets\\test.ft.txt.bz2'"
   ]
  },
  {
   "cell_type": "code",
   "execution_count": 166,
   "id": "9db67056",
   "metadata": {},
   "outputs": [],
   "source": [
    "train_data = pd.read_csv(train_path, compression='bz2', delimiter='\\t')\n",
    "test_data = pd.read_csv(test_path, compression='bz2', delimiter='\\t')"
   ]
  },
  {
   "cell_type": "code",
   "execution_count": 167,
   "id": "8da8ba52",
   "metadata": {},
   "outputs": [
    {
     "name": "stderr",
     "output_type": "stream",
     "text": [
      "C:\\Users\\PC\\AppData\\Local\\Temp\\ipykernel_14264\\1577481634.py:5: FutureWarning: Series.__getitem__ treating keys as positions is deprecated. In a future version, integer keys will always be treated as labels (consistent with DataFrame behavior). To access a value by position, use `ser.iloc[pos]`\n",
      "  line = row[0]\n"
     ]
    }
   ],
   "source": [
    "train = process_data(train_data.sample(n=5000, random_state=42))\n",
    "test = process_data(test_data.sample(n=3000, random_state=42))"
   ]
  },
  {
   "cell_type": "code",
   "execution_count": 168,
   "id": "b0b54015",
   "metadata": {},
   "outputs": [],
   "source": [
    "# train = train.sample(n=100000, random_state=42)\n",
    "# test = test.sample(n=20000, random_state=42)"
   ]
  },
  {
   "cell_type": "code",
   "execution_count": 169,
   "id": "dafdbad3",
   "metadata": {},
   "outputs": [
    {
     "name": "stderr",
     "output_type": "stream",
     "text": [
      "C:\\Users\\PC\\AppData\\Local\\Temp\\ipykernel_14264\\1172928791.py:1: FutureWarning: Downcasting behavior in `replace` is deprecated and will be removed in a future version. To retain the old behavior, explicitly call `result.infer_objects(copy=False)`. To opt-in to the future behavior, set `pd.set_option('future.no_silent_downcasting', True)`\n",
      "  train['label'] = train['label'].replace({\"2\":1, \"1\":0}) #train data\n",
      "C:\\Users\\PC\\AppData\\Local\\Temp\\ipykernel_14264\\1172928791.py:2: FutureWarning: Downcasting behavior in `replace` is deprecated and will be removed in a future version. To retain the old behavior, explicitly call `result.infer_objects(copy=False)`. To opt-in to the future behavior, set `pd.set_option('future.no_silent_downcasting', True)`\n",
      "  test['label'] = test['label'].replace({\"2\":1, \"1\":0}) #test data\n"
     ]
    }
   ],
   "source": [
    "train['label'] = train['label'].replace({\"2\":1, \"1\":0}) #train data\n",
    "test['label'] = test['label'].replace({\"2\":1, \"1\":0}) #test data"
   ]
  },
  {
   "cell_type": "code",
   "execution_count": 170,
   "id": "b3f14de4",
   "metadata": {},
   "outputs": [
    {
     "name": "stdout",
     "output_type": "stream",
     "text": [
      "Count of labels in the train data is: label\n",
      "0    2529\n",
      "1    2471\n",
      "Name: count, dtype: int64\n",
      "---------------------------------------------\n",
      "Count of labels in the test data is: label\n",
      "1    1518\n",
      "0    1482\n",
      "Name: count, dtype: int64\n"
     ]
    }
   ],
   "source": [
    "print(\"Count of labels in the train data is:\" ,train['label'].value_counts())\n",
    "print(\"-\"*45)\n",
    "print(\"Count of labels in the test data is:\" ,test['label'].value_counts())"
   ]
  },
  {
   "cell_type": "code",
   "execution_count": 171,
   "id": "d96ca603",
   "metadata": {},
   "outputs": [],
   "source": [
    "train['text'] = train['review'].map(preprocess_for_bert)\n",
    "test['text'] = test['review'].map(preprocess_for_bert)\n"
   ]
  },
  {
   "cell_type": "code",
   "execution_count": 172,
   "id": "9ee8b07e",
   "metadata": {},
   "outputs": [],
   "source": [
    "texts_train = train['text'].to_list()\n",
    "texts_test = test['text'].to_list()"
   ]
  },
  {
   "cell_type": "code",
   "execution_count": 173,
   "id": "9f378b6d",
   "metadata": {},
   "outputs": [],
   "source": [
    "labels_train = train['label'].to_list()\n",
    "labels_test = test['label'].to_list()"
   ]
  },
  {
   "cell_type": "code",
   "execution_count": 174,
   "id": "313e0b7f",
   "metadata": {},
   "outputs": [
    {
     "data": {
      "image/png": "[encoded data removed]",
      "text/plain": [
       "<Figure size 504x360 with 1 Axes>"
      ]
     },
     "metadata": {
      "needs_background": "light"
     },
     "output_type": "display_data"
    },
    {
     "data": {
      "image/png": "[encoded data removed]",
      "text/plain": [
       "<Figure size 864x432 with 2 Axes>"
      ]
     },
     "metadata": {
      "needs_background": "light"
     },
     "output_type": "display_data"
    },
    {
     "data": {
      "image/png": "[encoded data removed]",
      "text/plain": [
       "<Figure size 864x432 with 2 Axes>"
      ]
     },
     "metadata": {
      "needs_background": "light"
     },
     "output_type": "display_data"
    },
    {
     "data": {
      "text/plain": [
       "([100.2618, 89.0, 53.41832701199093, 21, 256],\n",
       " [100.645, 92.0, 52.77146616938615, 22, 256])"
      ]
     },
     "execution_count": 174,
     "metadata": {},
     "output_type": "execute_result"
    }
   ],
   "source": [
    "metric_df = create_df(texts_train, labels_train, texts_test, labels_test)\n",
    "show_metrics(metric_df, 'Amazon', max_length=256)"
   ]
  },
  {
   "cell_type": "code",
   "execution_count": null,
   "id": "6198d318",
   "metadata": {},
   "outputs": [],
   "source": []
  },
  {
   "cell_type": "code",
   "execution_count": 141,
   "id": "601cc9f1",
   "metadata": {},
   "outputs": [],
   "source": [
    "save_dataset('Train_amazon', \n",
    "                 texts_train, \n",
    "                 labels_train, \n",
    "                 max_length=256)"
   ]
  },
  {
   "cell_type": "code",
   "execution_count": 142,
   "id": "a4a9d684",
   "metadata": {},
   "outputs": [],
   "source": [
    "save_dataset('Test_amazon', \n",
    "                 texts_test, \n",
    "                 labels_test, \n",
    "                 max_length=256)"
   ]
  },
  {
   "cell_type": "code",
   "execution_count": 143,
   "id": "2a497933",
   "metadata": {},
   "outputs": [],
   "source": [
    "inputs = tokenizer(\n",
    "    texts_train,\n",
    "    padding=\"longest\",  # или \"longest\" для динамического паддинга\n",
    "    truncation=True,\n",
    "    return_tensors=\"pt\",  # Возвращать тензоры PyTorch\n",
    ")"
   ]
  },
  {
   "cell_type": "code",
   "execution_count": 144,
   "id": "caa80741",
   "metadata": {},
   "outputs": [],
   "source": [
    "import matplotlib.pyplot as plt"
   ]
  },
  {
   "cell_type": "code",
   "execution_count": 145,
   "id": "d1fc258e",
   "metadata": {},
   "outputs": [],
   "source": [
    "import seaborn as sns"
   ]
  },
  {
   "cell_type": "code",
   "execution_count": 37,
   "id": "c3be84f7",
   "metadata": {},
   "outputs": [],
   "source": [
    "x_np = (inputs['input_ids'] > 0).sum(dim=1).numpy()\n",
    "# x = th.randn(1000)  # 1000 значений из нормального распределения\n",
    "\n",
    "# # Конвертируем в NumPy для визуализации\n",
    "# x_np = x.numpy()"
   ]
  },
  {
   "cell_type": "code",
   "execution_count": 38,
   "id": "b3ce64b3",
   "metadata": {},
   "outputs": [
    {
     "data": {
      "image/png": "[encoded data removed]",
      "text/plain": [
       "<Figure size 576x360 with 1 Axes>"
      ]
     },
     "metadata": {
      "needs_background": "light"
     },
     "output_type": "display_data"
    }
   ],
   "source": [
    "plt.figure(figsize=(8, 5))\n",
    "sns.kdeplot(x_np, fill=True, color='blue', alpha=0.5)\n",
    "plt.title('Плотность распределения значений вектора')\n",
    "plt.xlabel('Значения')\n",
    "plt.ylabel('Плотность вероятности')\n",
    "plt.grid(True)\n",
    "plt.show()"
   ]
  },
  {
   "cell_type": "code",
   "execution_count": null,
   "id": "f099b938",
   "metadata": {},
   "outputs": [],
   "source": []
  },
  {
   "cell_type": "code",
   "execution_count": null,
   "id": "0a1e3048",
   "metadata": {},
   "outputs": [],
   "source": []
  },
  {
   "cell_type": "code",
   "execution_count": null,
   "id": "3d0cad1e",
   "metadata": {},
   "outputs": [],
   "source": []
  },
  {
   "cell_type": "code",
   "execution_count": 218,
   "id": "d16cd427",
   "metadata": {},
   "outputs": [],
   "source": [
    "data_stats = {\n",
    "    \"corona\": {\n",
    "        \"train\": [45.17482885729331, 47.0, 15.229713011391977, 5, 128],\n",
    "        \"test\": [49.25511167033658, 51.0, 14.633383909455427, 4, 109]\n",
    "    },\n",
    "    \"twitter\": {\n",
    "        \"train\": [27.75952582557155, 23.0, 19.683102696315636, 2, 128],\n",
    "        \"test\": [31.19023426474739, 28.0, 20.391357146148973, 2, 128]\n",
    "    },\n",
    "    \"Financial\": {\n",
    "        \"train\": [27.07377979568672, 24.0, 13.146869836873574, 5, 77],\n",
    "        \"test\": [26.961052631578948, 24.0, 13.599750730972914, 5, 79]\n",
    "    },\n",
    "    \"Sentiment\": {\n",
    "        \"train\": [19.472333333333335, 18.0, 9.015240866936884, 3, 53],\n",
    "        \"test\": [19.247148288973385, 18.0, 9.023245300116317, 3, 69]\n",
    "    },\n",
    "    \"Mental\": {\n",
    "        \"train\": [95.8766, 35.0, 124.52241795130706, 2, 512],\n",
    "        \"test\": [99.50066666666666, 37.0, 128.12828987472759, 3, 512]\n",
    "    },\n",
    "    \"Amazon\": {\n",
    "        \"train\": [100.2618, 89.0, 53.41832701199093, 21, 256],\n",
    "        \"test\": [100.645, 92.0, 52.77146616938615, 22, 256]\n",
    "    }\n",
    "}"
   ]
  },
  {
   "cell_type": "code",
   "execution_count": 221,
   "id": "4635aad6",
   "metadata": {},
   "outputs": [
    {
     "name": "stderr",
     "output_type": "stream",
     "text": [
      "C:\\Users\\PC\\AppData\\Local\\Temp\\ipykernel_14264\\568727884.py:9: UserWarning: Pandas requires version '3.0.5' or newer of 'xlsxwriter' (version '3.0.3' currently installed).\n",
      "  df.to_excel('dataset_metrics.xlsx')\n"
     ]
    }
   ],
   "source": [
    "df = pd.DataFrame.from_dict({(i,j): data_stats[i][j] \n",
    "                           for i in data_stats.keys() \n",
    "                           for j in data_stats[i].keys()},\n",
    "                       orient='index')\n",
    "\n",
    "# Переименовываем столбцы\n",
    "df.columns = ['Mean', 'Median', 'Std', 'Min', 'Max']\n",
    "\n",
    "df.to_excel('dataset_metrics.xlsx')"
   ]
  },
  {
   "cell_type": "code",
   "execution_count": null,
   "id": "f1896721",
   "metadata": {},
   "outputs": [],
   "source": [
    "corona train - [45.17482885729331, 47.0, 15.229713011391977, 5, 128],\n",
    "        test - [49.25511167033658, 51.0, 14.633383909455427, 4, 109]\n",
    "\n",
    "twitter train - [27.75952582557155, 23.0, 19.683102696315636, 2, 128],\n",
    "        test - [31.19023426474739, 28.0, 20.391357146148973, 2, 128]\n",
    "\n",
    "Financial train - [27.07377979568672, 24.0, 13.146869836873574, 5, 77],\n",
    "          test - [26.961052631578948, 24.0, 13.599750730972914, 5, 79]\n",
    "\n",
    "Sentiment train - [19.472333333333335, 18.0, 9.015240866936884, 3, 53],\n",
    "          test - [19.247148288973385, 18.0, 9.023245300116317, 3, 69]\n",
    "\n",
    "Mental  train - [95.8766, 35.0, 124.52241795130706, 2, 512],\n",
    "        test - [99.50066666666666, 37.0, 128.12828987472759, 3, 512]\n",
    "\n",
    "Amazon  train - [100.2618, 89.0, 53.41832701199093, 21, 256],\n",
    "        test - [100.645, 92.0, 52.77146616938615, 22, 256]"
   ]
  }
 ],
 "metadata": {
  "kernelspec": {
   "display_name": "Python 3 (ipykernel)",
   "language": "python",
   "name": "python3"
  },
  "language_info": {
   "codemirror_mode": {
    "name": "ipython",
    "version": 3
   },
   "file_extension": ".py",
   "mimetype": "text/x-python",
   "name": "python",
   "nbconvert_exporter": "python",
   "pygments_lexer": "ipython3",
   "version": "3.9.12"
  }
 },
 "nbformat": 4,
 "nbformat_minor": 5
}
